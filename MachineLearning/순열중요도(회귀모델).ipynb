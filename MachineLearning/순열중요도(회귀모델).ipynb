{
  "nbformat": 4,
  "nbformat_minor": 0,
  "metadata": {
    "colab": {
      "name": "순열중요도(회귀모델).ipynb",
      "provenance": [],
      "collapsed_sections": [],
      "authorship_tag": "ABX9TyO9sHpnWcTz5cc3pI/FW0CL",
      "include_colab_link": true
    },
    "kernelspec": {
      "name": "python3",
      "display_name": "Python 3"
    },
    "language_info": {
      "name": "python"
    }
  },
  "cells": [
    {
      "cell_type": "markdown",
      "metadata": {
        "id": "view-in-github",
        "colab_type": "text"
      },
      "source": [
        "<a href=\"https://colab.research.google.com/github/suzzini/DS_Study/blob/main/%EC%88%9C%EC%97%B4%EC%A4%91%EC%9A%94%EB%8F%84(%ED%9A%8C%EA%B7%80%EB%AA%A8%EB%8D%B8).ipynb\" target=\"_parent\"><img src=\"https://colab.research.google.com/assets/colab-badge.svg\" alt=\"Open In Colab\"/></a>"
      ]
    },
    {
      "cell_type": "code",
      "metadata": {
        "colab": {
          "base_uri": "https://localhost:8080/",
          "height": 431
        },
        "id": "rzBb_QWcpE_7",
        "outputId": "9b233cfe-1880-4298-e86a-ac5419196dfb"
      },
      "source": [
        "import pandas as pd\n",
        "df = pd.read_csv('https://ds-lecture-data.s3.ap-northeast-2.amazonaws.com/kc_house_data/kc_house_data.csv')\n",
        "df"
      ],
      "execution_count": 1,
      "outputs": [
        {
          "output_type": "execute_result",
          "data": {
            "text/html": [
              "<div>\n",
              "<style scoped>\n",
              "    .dataframe tbody tr th:only-of-type {\n",
              "        vertical-align: middle;\n",
              "    }\n",
              "\n",
              "    .dataframe tbody tr th {\n",
              "        vertical-align: top;\n",
              "    }\n",
              "\n",
              "    .dataframe thead th {\n",
              "        text-align: right;\n",
              "    }\n",
              "</style>\n",
              "<table border=\"1\" class=\"dataframe\">\n",
              "  <thead>\n",
              "    <tr style=\"text-align: right;\">\n",
              "      <th></th>\n",
              "      <th>id</th>\n",
              "      <th>date</th>\n",
              "      <th>price</th>\n",
              "      <th>bedrooms</th>\n",
              "      <th>bathrooms</th>\n",
              "      <th>sqft_living</th>\n",
              "      <th>sqft_lot</th>\n",
              "      <th>floors</th>\n",
              "      <th>waterfront</th>\n",
              "      <th>view</th>\n",
              "      <th>condition</th>\n",
              "      <th>grade</th>\n",
              "      <th>sqft_above</th>\n",
              "      <th>sqft_basement</th>\n",
              "      <th>yr_built</th>\n",
              "      <th>yr_renovated</th>\n",
              "      <th>zipcode</th>\n",
              "      <th>lat</th>\n",
              "      <th>long</th>\n",
              "      <th>sqft_living15</th>\n",
              "      <th>sqft_lot15</th>\n",
              "    </tr>\n",
              "  </thead>\n",
              "  <tbody>\n",
              "    <tr>\n",
              "      <th>0</th>\n",
              "      <td>7129300520</td>\n",
              "      <td>20141013T000000</td>\n",
              "      <td>221900.0</td>\n",
              "      <td>3</td>\n",
              "      <td>1.00</td>\n",
              "      <td>1180</td>\n",
              "      <td>5650</td>\n",
              "      <td>1.0</td>\n",
              "      <td>0</td>\n",
              "      <td>0</td>\n",
              "      <td>3</td>\n",
              "      <td>7</td>\n",
              "      <td>1180</td>\n",
              "      <td>0</td>\n",
              "      <td>1955</td>\n",
              "      <td>0</td>\n",
              "      <td>98178</td>\n",
              "      <td>47.5112</td>\n",
              "      <td>-122.257</td>\n",
              "      <td>1340</td>\n",
              "      <td>5650</td>\n",
              "    </tr>\n",
              "    <tr>\n",
              "      <th>1</th>\n",
              "      <td>6414100192</td>\n",
              "      <td>20141209T000000</td>\n",
              "      <td>538000.0</td>\n",
              "      <td>3</td>\n",
              "      <td>2.25</td>\n",
              "      <td>2570</td>\n",
              "      <td>7242</td>\n",
              "      <td>2.0</td>\n",
              "      <td>0</td>\n",
              "      <td>0</td>\n",
              "      <td>3</td>\n",
              "      <td>7</td>\n",
              "      <td>2170</td>\n",
              "      <td>400</td>\n",
              "      <td>1951</td>\n",
              "      <td>1991</td>\n",
              "      <td>98125</td>\n",
              "      <td>47.7210</td>\n",
              "      <td>-122.319</td>\n",
              "      <td>1690</td>\n",
              "      <td>7639</td>\n",
              "    </tr>\n",
              "    <tr>\n",
              "      <th>2</th>\n",
              "      <td>5631500400</td>\n",
              "      <td>20150225T000000</td>\n",
              "      <td>180000.0</td>\n",
              "      <td>2</td>\n",
              "      <td>1.00</td>\n",
              "      <td>770</td>\n",
              "      <td>10000</td>\n",
              "      <td>1.0</td>\n",
              "      <td>0</td>\n",
              "      <td>0</td>\n",
              "      <td>3</td>\n",
              "      <td>6</td>\n",
              "      <td>770</td>\n",
              "      <td>0</td>\n",
              "      <td>1933</td>\n",
              "      <td>0</td>\n",
              "      <td>98028</td>\n",
              "      <td>47.7379</td>\n",
              "      <td>-122.233</td>\n",
              "      <td>2720</td>\n",
              "      <td>8062</td>\n",
              "    </tr>\n",
              "    <tr>\n",
              "      <th>3</th>\n",
              "      <td>2487200875</td>\n",
              "      <td>20141209T000000</td>\n",
              "      <td>604000.0</td>\n",
              "      <td>4</td>\n",
              "      <td>3.00</td>\n",
              "      <td>1960</td>\n",
              "      <td>5000</td>\n",
              "      <td>1.0</td>\n",
              "      <td>0</td>\n",
              "      <td>0</td>\n",
              "      <td>5</td>\n",
              "      <td>7</td>\n",
              "      <td>1050</td>\n",
              "      <td>910</td>\n",
              "      <td>1965</td>\n",
              "      <td>0</td>\n",
              "      <td>98136</td>\n",
              "      <td>47.5208</td>\n",
              "      <td>-122.393</td>\n",
              "      <td>1360</td>\n",
              "      <td>5000</td>\n",
              "    </tr>\n",
              "    <tr>\n",
              "      <th>4</th>\n",
              "      <td>1954400510</td>\n",
              "      <td>20150218T000000</td>\n",
              "      <td>510000.0</td>\n",
              "      <td>3</td>\n",
              "      <td>2.00</td>\n",
              "      <td>1680</td>\n",
              "      <td>8080</td>\n",
              "      <td>1.0</td>\n",
              "      <td>0</td>\n",
              "      <td>0</td>\n",
              "      <td>3</td>\n",
              "      <td>8</td>\n",
              "      <td>1680</td>\n",
              "      <td>0</td>\n",
              "      <td>1987</td>\n",
              "      <td>0</td>\n",
              "      <td>98074</td>\n",
              "      <td>47.6168</td>\n",
              "      <td>-122.045</td>\n",
              "      <td>1800</td>\n",
              "      <td>7503</td>\n",
              "    </tr>\n",
              "    <tr>\n",
              "      <th>...</th>\n",
              "      <td>...</td>\n",
              "      <td>...</td>\n",
              "      <td>...</td>\n",
              "      <td>...</td>\n",
              "      <td>...</td>\n",
              "      <td>...</td>\n",
              "      <td>...</td>\n",
              "      <td>...</td>\n",
              "      <td>...</td>\n",
              "      <td>...</td>\n",
              "      <td>...</td>\n",
              "      <td>...</td>\n",
              "      <td>...</td>\n",
              "      <td>...</td>\n",
              "      <td>...</td>\n",
              "      <td>...</td>\n",
              "      <td>...</td>\n",
              "      <td>...</td>\n",
              "      <td>...</td>\n",
              "      <td>...</td>\n",
              "      <td>...</td>\n",
              "    </tr>\n",
              "    <tr>\n",
              "      <th>21608</th>\n",
              "      <td>263000018</td>\n",
              "      <td>20140521T000000</td>\n",
              "      <td>360000.0</td>\n",
              "      <td>3</td>\n",
              "      <td>2.50</td>\n",
              "      <td>1530</td>\n",
              "      <td>1131</td>\n",
              "      <td>3.0</td>\n",
              "      <td>0</td>\n",
              "      <td>0</td>\n",
              "      <td>3</td>\n",
              "      <td>8</td>\n",
              "      <td>1530</td>\n",
              "      <td>0</td>\n",
              "      <td>2009</td>\n",
              "      <td>0</td>\n",
              "      <td>98103</td>\n",
              "      <td>47.6993</td>\n",
              "      <td>-122.346</td>\n",
              "      <td>1530</td>\n",
              "      <td>1509</td>\n",
              "    </tr>\n",
              "    <tr>\n",
              "      <th>21609</th>\n",
              "      <td>6600060120</td>\n",
              "      <td>20150223T000000</td>\n",
              "      <td>400000.0</td>\n",
              "      <td>4</td>\n",
              "      <td>2.50</td>\n",
              "      <td>2310</td>\n",
              "      <td>5813</td>\n",
              "      <td>2.0</td>\n",
              "      <td>0</td>\n",
              "      <td>0</td>\n",
              "      <td>3</td>\n",
              "      <td>8</td>\n",
              "      <td>2310</td>\n",
              "      <td>0</td>\n",
              "      <td>2014</td>\n",
              "      <td>0</td>\n",
              "      <td>98146</td>\n",
              "      <td>47.5107</td>\n",
              "      <td>-122.362</td>\n",
              "      <td>1830</td>\n",
              "      <td>7200</td>\n",
              "    </tr>\n",
              "    <tr>\n",
              "      <th>21610</th>\n",
              "      <td>1523300141</td>\n",
              "      <td>20140623T000000</td>\n",
              "      <td>402101.0</td>\n",
              "      <td>2</td>\n",
              "      <td>0.75</td>\n",
              "      <td>1020</td>\n",
              "      <td>1350</td>\n",
              "      <td>2.0</td>\n",
              "      <td>0</td>\n",
              "      <td>0</td>\n",
              "      <td>3</td>\n",
              "      <td>7</td>\n",
              "      <td>1020</td>\n",
              "      <td>0</td>\n",
              "      <td>2009</td>\n",
              "      <td>0</td>\n",
              "      <td>98144</td>\n",
              "      <td>47.5944</td>\n",
              "      <td>-122.299</td>\n",
              "      <td>1020</td>\n",
              "      <td>2007</td>\n",
              "    </tr>\n",
              "    <tr>\n",
              "      <th>21611</th>\n",
              "      <td>291310100</td>\n",
              "      <td>20150116T000000</td>\n",
              "      <td>400000.0</td>\n",
              "      <td>3</td>\n",
              "      <td>2.50</td>\n",
              "      <td>1600</td>\n",
              "      <td>2388</td>\n",
              "      <td>2.0</td>\n",
              "      <td>0</td>\n",
              "      <td>0</td>\n",
              "      <td>3</td>\n",
              "      <td>8</td>\n",
              "      <td>1600</td>\n",
              "      <td>0</td>\n",
              "      <td>2004</td>\n",
              "      <td>0</td>\n",
              "      <td>98027</td>\n",
              "      <td>47.5345</td>\n",
              "      <td>-122.069</td>\n",
              "      <td>1410</td>\n",
              "      <td>1287</td>\n",
              "    </tr>\n",
              "    <tr>\n",
              "      <th>21612</th>\n",
              "      <td>1523300157</td>\n",
              "      <td>20141015T000000</td>\n",
              "      <td>325000.0</td>\n",
              "      <td>2</td>\n",
              "      <td>0.75</td>\n",
              "      <td>1020</td>\n",
              "      <td>1076</td>\n",
              "      <td>2.0</td>\n",
              "      <td>0</td>\n",
              "      <td>0</td>\n",
              "      <td>3</td>\n",
              "      <td>7</td>\n",
              "      <td>1020</td>\n",
              "      <td>0</td>\n",
              "      <td>2008</td>\n",
              "      <td>0</td>\n",
              "      <td>98144</td>\n",
              "      <td>47.5941</td>\n",
              "      <td>-122.299</td>\n",
              "      <td>1020</td>\n",
              "      <td>1357</td>\n",
              "    </tr>\n",
              "  </tbody>\n",
              "</table>\n",
              "<p>21613 rows × 21 columns</p>\n",
              "</div>"
            ],
            "text/plain": [
              "               id             date  ...  sqft_living15  sqft_lot15\n",
              "0      7129300520  20141013T000000  ...           1340        5650\n",
              "1      6414100192  20141209T000000  ...           1690        7639\n",
              "2      5631500400  20150225T000000  ...           2720        8062\n",
              "3      2487200875  20141209T000000  ...           1360        5000\n",
              "4      1954400510  20150218T000000  ...           1800        7503\n",
              "...           ...              ...  ...            ...         ...\n",
              "21608   263000018  20140521T000000  ...           1530        1509\n",
              "21609  6600060120  20150223T000000  ...           1830        7200\n",
              "21610  1523300141  20140623T000000  ...           1020        2007\n",
              "21611   291310100  20150116T000000  ...           1410        1287\n",
              "21612  1523300157  20141015T000000  ...           1020        1357\n",
              "\n",
              "[21613 rows x 21 columns]"
            ]
          },
          "metadata": {
            "tags": []
          },
          "execution_count": 1
        }
      ]
    },
    {
      "cell_type": "code",
      "metadata": {
        "colab": {
          "base_uri": "https://localhost:8080/"
        },
        "id": "Tb_eDdydrJRz",
        "outputId": "fda8e545-05a6-40d7-e590-6cbcf283f74f"
      },
      "source": [
        "df.info()"
      ],
      "execution_count": 2,
      "outputs": [
        {
          "output_type": "stream",
          "text": [
            "<class 'pandas.core.frame.DataFrame'>\n",
            "RangeIndex: 21613 entries, 0 to 21612\n",
            "Data columns (total 21 columns):\n",
            " #   Column         Non-Null Count  Dtype  \n",
            "---  ------         --------------  -----  \n",
            " 0   id             21613 non-null  int64  \n",
            " 1   date           21613 non-null  object \n",
            " 2   price          21613 non-null  float64\n",
            " 3   bedrooms       21613 non-null  int64  \n",
            " 4   bathrooms      21613 non-null  float64\n",
            " 5   sqft_living    21613 non-null  int64  \n",
            " 6   sqft_lot       21613 non-null  int64  \n",
            " 7   floors         21613 non-null  float64\n",
            " 8   waterfront     21613 non-null  int64  \n",
            " 9   view           21613 non-null  int64  \n",
            " 10  condition      21613 non-null  int64  \n",
            " 11  grade          21613 non-null  int64  \n",
            " 12  sqft_above     21613 non-null  int64  \n",
            " 13  sqft_basement  21613 non-null  int64  \n",
            " 14  yr_built       21613 non-null  int64  \n",
            " 15  yr_renovated   21613 non-null  int64  \n",
            " 16  zipcode        21613 non-null  int64  \n",
            " 17  lat            21613 non-null  float64\n",
            " 18  long           21613 non-null  float64\n",
            " 19  sqft_living15  21613 non-null  int64  \n",
            " 20  sqft_lot15     21613 non-null  int64  \n",
            "dtypes: float64(5), int64(15), object(1)\n",
            "memory usage: 3.5+ MB\n"
          ],
          "name": "stdout"
        }
      ]
    },
    {
      "cell_type": "code",
      "metadata": {
        "id": "1af7Mx5lrPfn"
      },
      "source": [
        "## to_datetime을 통해 시간과 날짜를 다루기 쉬운 datetime64 형태로 변환합니다.\n",
        "df['date'] = pd.to_datetime(df['date'])"
      ],
      "execution_count": 3,
      "outputs": []
    },
    {
      "cell_type": "code",
      "metadata": {
        "colab": {
          "base_uri": "https://localhost:8080/"
        },
        "id": "aVcONSwerW61",
        "outputId": "5a11d314-16b0-461c-ad68-1444a4dba5f8"
      },
      "source": [
        "## 변환된 date를 정렬해서 보겠습니다. 저장되지는 않습니다.\n",
        "df['date'].sort_values()"
      ],
      "execution_count": 4,
      "outputs": [
        {
          "output_type": "execute_result",
          "data": {
            "text/plain": [
              "16768   2014-05-02\n",
              "9596    2014-05-02\n",
              "9587    2014-05-02\n",
              "20602   2014-05-02\n",
              "11577   2014-05-02\n",
              "           ...    \n",
              "7898    2015-05-14\n",
              "928     2015-05-14\n",
              "5637    2015-05-15\n",
              "13053   2015-05-24\n",
              "16594   2015-05-27\n",
              "Name: date, Length: 21613, dtype: datetime64[ns]"
            ]
          },
          "metadata": {
            "tags": []
          },
          "execution_count": 4
        }
      ]
    },
    {
      "cell_type": "code",
      "metadata": {
        "colab": {
          "base_uri": "https://localhost:8080/",
          "height": 369
        },
        "id": "yTT0E40SrcNS",
        "outputId": "51652db6-1bc9-42cb-925a-864e6e262f8b"
      },
      "source": [
        "import seaborn as sns\n",
        "\n",
        "sns.displot(df['price']);"
      ],
      "execution_count": 5,
      "outputs": [
        {
          "output_type": "display_data",
          "data": {
            "image/png": "[encoded data removed]",
            "text/plain": [
              "<Figure size 360x360 with 1 Axes>"
            ]
          },
          "metadata": {
            "tags": [],
            "needs_background": "light"
          }
        }
      ]
    },
    {
      "cell_type": "markdown",
      "metadata": {
        "id": "pI6EDC0GrfzG"
      },
      "source": [
        "- 타켓이 왼쪽으로 치우쳐져 있음이 확인 됨 => 로그 변환을 해주겠음\n",
        "- outlier들 => 상위, 하위 5%씩 제거하겠음"
      ]
    },
    {
      "cell_type": "code",
      "metadata": {
        "id": "NFsfp4gvreb8"
      },
      "source": [
        "# np.percentile 사용해 이상치 제거\n",
        "import numpy as np \n",
        "\n",
        "df = df[(df['price'] >= np.percentile(df['price'], 0.05)) & \n",
        "        (df['price'] <= np.percentile(df['price'], 99.5))]"
      ],
      "execution_count": 6,
      "outputs": []
    },
    {
      "cell_type": "code",
      "metadata": {
        "colab": {
          "base_uri": "https://localhost:8080/",
          "height": 283
        },
        "id": "IDwbAXBCr6sM",
        "outputId": "27a1fa86-33ba-471a-b913-370be15f65c9"
      },
      "source": [
        "#로그변환을 하면 어떻게 되는지 그래프로 확인해보겠음\n",
        "\n",
        "sns.histplot(np.log1p(df['price']));"
      ],
      "execution_count": 7,
      "outputs": [
        {
          "output_type": "display_data",
          "data": {
            "image/png": "[encoded data removed]",
            "text/plain": [
              "<Figure size 432x288 with 1 Axes>"
            ]
          },
          "metadata": {
            "tags": [],
            "needs_background": "light"
          }
        }
      ]
    },
    {
      "cell_type": "markdown",
      "metadata": {
        "id": "8kvL5PnZsLpa"
      },
      "source": [
        "정규분포 형태가 됨을 확인"
      ]
    },
    {
      "cell_type": "code",
      "metadata": {
        "colab": {
          "base_uri": "https://localhost:8080/"
        },
        "id": "5QCCmJhgsIXT",
        "outputId": "3639338b-5505-49d2-c481-24a889231ec2"
      },
      "source": [
        "#로그변환 진행\n",
        "\n",
        "df['price']=np.log1p(df['price'])"
      ],
      "execution_count": 8,
      "outputs": [
        {
          "output_type": "stream",
          "text": [
            "/usr/local/lib/python3.7/dist-packages/ipykernel_launcher.py:3: SettingWithCopyWarning: \n",
            "A value is trying to be set on a copy of a slice from a DataFrame.\n",
            "Try using .loc[row_indexer,col_indexer] = value instead\n",
            "\n",
            "See the caveats in the documentation: https://pandas.pydata.org/pandas-docs/stable/user_guide/indexing.html#returning-a-view-versus-a-copy\n",
            "  This is separate from the ipykernel package so we can avoid doing imports until\n"
          ],
          "name": "stderr"
        }
      ]
    },
    {
      "cell_type": "code",
      "metadata": {
        "id": "zaYLUej2vDld"
      },
      "source": [
        "## 2015-03-01을 기준으로 훈련/테스트 세트를 분리합니다.\n",
        "cutOff = pd.to_datetime('2015-03-01')\n",
        "train = df[df['date'] < cutOff]\n",
        "test  = df[df['date'] >= cutOff]"
      ],
      "execution_count": 9,
      "outputs": []
    },
    {
      "cell_type": "code",
      "metadata": {
        "colab": {
          "base_uri": "https://localhost:8080/"
        },
        "id": "l3yaj36CvFcd",
        "outputId": "78308237-b8f2-4de3-8885-1fac6fc3d1e0"
      },
      "source": [
        "train.shape, test.shape"
      ],
      "execution_count": 10,
      "outputs": [
        {
          "output_type": "execute_result",
          "data": {
            "text/plain": [
              "((16772, 21), (4721, 21))"
            ]
          },
          "metadata": {
            "tags": []
          },
          "execution_count": 10
        }
      ]
    },
    {
      "cell_type": "markdown",
      "metadata": {
        "id": "XhcsNFrysfAe"
      },
      "source": [
        "## **Feature Engineering**"
      ]
    },
    {
      "cell_type": "code",
      "metadata": {
        "colab": {
          "base_uri": "https://localhost:8080/",
          "height": 305
        },
        "id": "AWtTW7sZsns-",
        "outputId": "e5f69ce6-5ad8-409a-ce68-994389bfe926"
      },
      "source": [
        "df.head()"
      ],
      "execution_count": 11,
      "outputs": [
        {
          "output_type": "execute_result",
          "data": {
            "text/html": [
              "<div>\n",
              "<style scoped>\n",
              "    .dataframe tbody tr th:only-of-type {\n",
              "        vertical-align: middle;\n",
              "    }\n",
              "\n",
              "    .dataframe tbody tr th {\n",
              "        vertical-align: top;\n",
              "    }\n",
              "\n",
              "    .dataframe thead th {\n",
              "        text-align: right;\n",
              "    }\n",
              "</style>\n",
              "<table border=\"1\" class=\"dataframe\">\n",
              "  <thead>\n",
              "    <tr style=\"text-align: right;\">\n",
              "      <th></th>\n",
              "      <th>id</th>\n",
              "      <th>date</th>\n",
              "      <th>price</th>\n",
              "      <th>bedrooms</th>\n",
              "      <th>bathrooms</th>\n",
              "      <th>sqft_living</th>\n",
              "      <th>sqft_lot</th>\n",
              "      <th>floors</th>\n",
              "      <th>waterfront</th>\n",
              "      <th>view</th>\n",
              "      <th>condition</th>\n",
              "      <th>grade</th>\n",
              "      <th>sqft_above</th>\n",
              "      <th>sqft_basement</th>\n",
              "      <th>yr_built</th>\n",
              "      <th>yr_renovated</th>\n",
              "      <th>zipcode</th>\n",
              "      <th>lat</th>\n",
              "      <th>long</th>\n",
              "      <th>sqft_living15</th>\n",
              "      <th>sqft_lot15</th>\n",
              "    </tr>\n",
              "  </thead>\n",
              "  <tbody>\n",
              "    <tr>\n",
              "      <th>0</th>\n",
              "      <td>7129300520</td>\n",
              "      <td>2014-10-13</td>\n",
              "      <td>12.309987</td>\n",
              "      <td>3</td>\n",
              "      <td>1.00</td>\n",
              "      <td>1180</td>\n",
              "      <td>5650</td>\n",
              "      <td>1.0</td>\n",
              "      <td>0</td>\n",
              "      <td>0</td>\n",
              "      <td>3</td>\n",
              "      <td>7</td>\n",
              "      <td>1180</td>\n",
              "      <td>0</td>\n",
              "      <td>1955</td>\n",
              "      <td>0</td>\n",
              "      <td>98178</td>\n",
              "      <td>47.5112</td>\n",
              "      <td>-122.257</td>\n",
              "      <td>1340</td>\n",
              "      <td>5650</td>\n",
              "    </tr>\n",
              "    <tr>\n",
              "      <th>1</th>\n",
              "      <td>6414100192</td>\n",
              "      <td>2014-12-09</td>\n",
              "      <td>13.195616</td>\n",
              "      <td>3</td>\n",
              "      <td>2.25</td>\n",
              "      <td>2570</td>\n",
              "      <td>7242</td>\n",
              "      <td>2.0</td>\n",
              "      <td>0</td>\n",
              "      <td>0</td>\n",
              "      <td>3</td>\n",
              "      <td>7</td>\n",
              "      <td>2170</td>\n",
              "      <td>400</td>\n",
              "      <td>1951</td>\n",
              "      <td>1991</td>\n",
              "      <td>98125</td>\n",
              "      <td>47.7210</td>\n",
              "      <td>-122.319</td>\n",
              "      <td>1690</td>\n",
              "      <td>7639</td>\n",
              "    </tr>\n",
              "    <tr>\n",
              "      <th>2</th>\n",
              "      <td>5631500400</td>\n",
              "      <td>2015-02-25</td>\n",
              "      <td>12.100718</td>\n",
              "      <td>2</td>\n",
              "      <td>1.00</td>\n",
              "      <td>770</td>\n",
              "      <td>10000</td>\n",
              "      <td>1.0</td>\n",
              "      <td>0</td>\n",
              "      <td>0</td>\n",
              "      <td>3</td>\n",
              "      <td>6</td>\n",
              "      <td>770</td>\n",
              "      <td>0</td>\n",
              "      <td>1933</td>\n",
              "      <td>0</td>\n",
              "      <td>98028</td>\n",
              "      <td>47.7379</td>\n",
              "      <td>-122.233</td>\n",
              "      <td>2720</td>\n",
              "      <td>8062</td>\n",
              "    </tr>\n",
              "    <tr>\n",
              "      <th>3</th>\n",
              "      <td>2487200875</td>\n",
              "      <td>2014-12-09</td>\n",
              "      <td>13.311331</td>\n",
              "      <td>4</td>\n",
              "      <td>3.00</td>\n",
              "      <td>1960</td>\n",
              "      <td>5000</td>\n",
              "      <td>1.0</td>\n",
              "      <td>0</td>\n",
              "      <td>0</td>\n",
              "      <td>5</td>\n",
              "      <td>7</td>\n",
              "      <td>1050</td>\n",
              "      <td>910</td>\n",
              "      <td>1965</td>\n",
              "      <td>0</td>\n",
              "      <td>98136</td>\n",
              "      <td>47.5208</td>\n",
              "      <td>-122.393</td>\n",
              "      <td>1360</td>\n",
              "      <td>5000</td>\n",
              "    </tr>\n",
              "    <tr>\n",
              "      <th>4</th>\n",
              "      <td>1954400510</td>\n",
              "      <td>2015-02-18</td>\n",
              "      <td>13.142168</td>\n",
              "      <td>3</td>\n",
              "      <td>2.00</td>\n",
              "      <td>1680</td>\n",
              "      <td>8080</td>\n",
              "      <td>1.0</td>\n",
              "      <td>0</td>\n",
              "      <td>0</td>\n",
              "      <td>3</td>\n",
              "      <td>8</td>\n",
              "      <td>1680</td>\n",
              "      <td>0</td>\n",
              "      <td>1987</td>\n",
              "      <td>0</td>\n",
              "      <td>98074</td>\n",
              "      <td>47.6168</td>\n",
              "      <td>-122.045</td>\n",
              "      <td>1800</td>\n",
              "      <td>7503</td>\n",
              "    </tr>\n",
              "  </tbody>\n",
              "</table>\n",
              "</div>"
            ],
            "text/plain": [
              "           id       date      price  ...     long  sqft_living15  sqft_lot15\n",
              "0  7129300520 2014-10-13  12.309987  ... -122.257           1340        5650\n",
              "1  6414100192 2014-12-09  13.195616  ... -122.319           1690        7639\n",
              "2  5631500400 2015-02-25  12.100718  ... -122.233           2720        8062\n",
              "3  2487200875 2014-12-09  13.311331  ... -122.393           1360        5000\n",
              "4  1954400510 2015-02-18  13.142168  ... -122.045           1800        7503\n",
              "\n",
              "[5 rows x 21 columns]"
            ]
          },
          "metadata": {
            "tags": []
          },
          "execution_count": 11
        }
      ]
    },
    {
      "cell_type": "markdown",
      "metadata": {
        "id": "ysLE4cxhsuyg"
      },
      "source": [
        "Feature description\n",
        "\n",
        "- id - Unique ID for each home sold\n",
        "- date - Date of the home sale\n",
        "- price - Price of each home sold\n",
        "-bedrooms - Number of bedrooms\n",
        "- bathrooms - Number of bathrooms, where .5 accounts for a room with a toilet but no shower\n",
        "- sqft_living - Square footage of the apartments interior living space\n",
        "- sqft_lot - Square footage of the land space\n",
        "- floors - Number of floors\n",
        "- waterfront - A dummy variable for whether the apartment was overlooking the waterfront or not\n",
        "- view - An index from 0 to 4 of how good the view of the property was\n",
        "- condition - An index from 1 to 5 on the condition of the apartment,\n",
        "- grade - An index from 1 to 13, where 1-3 falls short of building construction and design, 7 has an average level of construction and design, and 11-13 have a high quality level of construction and design.\n",
        "- sqft_above - The square footage of the interior housing space that is above ground level\n",
        "- sqft_basement - The square footage of the interior housing space that is below ground level\n",
        "- yr_built - The year the house was initially built\n",
        "- yr_renovated - The year of the house’s last renovation\n",
        "- zipcode - What zipcode area the house is in\n",
        "- lat - Lattitude\n",
        "- long - Longitude\n",
        "- sqft_living15 - The square footage of interior housing living space for the nearest 15 neighbors\n",
        "- sqft_lot15 - The square footage of the land lots of the nearest 15 neighbors"
      ]
    },
    {
      "cell_type": "markdown",
      "metadata": {
        "id": "0CQEzsxts64S"
      },
      "source": [
        "## 함수로 feature engineering 진행\n",
        "\n",
        "- 필요없는 컬럼들 : id, date\n",
        "- renovated : 했다면 1, 안했다면 0으로 바꿔주겠음\n",
        "- ['rooms'] : bathroom+bedroom 해주어 새로운 컬럼 생성\n",
        "- ['new_grade'] : waterfront + view + condition + grade 해주어 새로운 컬럼 생성\n",
        "- df['total_sqft']=df['sqft_above']+df['sqft_basement']+df['sqft_living'] "
      ]
    },
    {
      "cell_type": "code",
      "metadata": {
        "colab": {
          "base_uri": "https://localhost:8080/"
        },
        "id": "iZUj4N5dvlHK",
        "outputId": "c0bb741f-408b-4a6b-cff3-2b57194c0721"
      },
      "source": [
        "df['yr_renovated'].unique()"
      ],
      "execution_count": 12,
      "outputs": [
        {
          "output_type": "execute_result",
          "data": {
            "text/plain": [
              "array([   0, 1991, 2002, 2010, 1999, 1992, 2013, 1994, 1978, 2005, 2003,\n",
              "       1984, 1954, 2014, 2011, 1974, 1983, 1945, 1990, 1988, 1957, 1977,\n",
              "       1981, 1995, 2000, 1998, 1970, 1989, 2004, 1986, 2009, 2007, 1987,\n",
              "       1973, 2006, 1985, 2001, 1980, 1971, 1979, 1997, 1950, 1969, 1948,\n",
              "       2015, 2008, 1968, 2012, 1963, 1951, 1993, 1962, 1996, 1972, 1953,\n",
              "       1955, 1982, 1956, 1940, 1976, 1946, 1975, 1958, 1964, 1959, 1960,\n",
              "       1967, 1965, 1934, 1944])"
            ]
          },
          "metadata": {
            "tags": []
          },
          "execution_count": 12
        }
      ]
    },
    {
      "cell_type": "code",
      "metadata": {
        "id": "iGKMgPWksod1"
      },
      "source": [
        "def feature_engineering(df):\n",
        "\n",
        "  df=df.drop(['id', 'date'],axis=1)\n",
        "\n",
        "  df['rooms']=df['bedrooms'] + df['bathrooms']\n",
        "  df['new_grade']=df['waterfront']+df['view']+df['condition']+df['grade']\n",
        "  df['total_sqft']=df['sqft_above']+df['sqft_basement']+df['sqft_living']\n",
        "\n",
        "  return df\n",
        "\n",
        "train=feature_engineering(train)\n",
        "test=feature_engineering(test)"
      ],
      "execution_count": 13,
      "outputs": []
    },
    {
      "cell_type": "code",
      "metadata": {
        "id": "QjCphSBwwC6Z"
      },
      "source": [
        "train['renovated']=[0 if i==0 else 1 for i in train['yr_renovated']]"
      ],
      "execution_count": 14,
      "outputs": []
    },
    {
      "cell_type": "code",
      "metadata": {
        "id": "KgjFvUzewyku"
      },
      "source": [
        "test['renovated']=[0 if i==0 else 1 for i in test['yr_renovated']]"
      ],
      "execution_count": 15,
      "outputs": []
    },
    {
      "cell_type": "code",
      "metadata": {
        "id": "rpn7GxMywmli"
      },
      "source": [
        "train=train.drop(['yr_renovated'],axis=1)\n",
        "test=test.drop(['yr_renovated'],axis=1)"
      ],
      "execution_count": 16,
      "outputs": []
    },
    {
      "cell_type": "code",
      "metadata": {
        "id": "c52j__2fybdb"
      },
      "source": [
        "target = 'price'\n",
        "\n",
        "## X_train, y_train, X_test, y_test 데이터로 분리\n",
        "X_train = train.drop(columns=target)\n",
        "y_train = train[target]\n",
        "X_test = test.drop(columns=target)\n",
        "y_test = test[target]"
      ],
      "execution_count": 17,
      "outputs": []
    },
    {
      "cell_type": "markdown",
      "metadata": {
        "id": "uNFutpY8x4DD"
      },
      "source": [
        "## 모델 생성하여 특성 중요도와 순열 중요도 확인하기\n",
        "\n",
        "#### 1. 결정트리 모델 생성"
      ]
    },
    {
      "cell_type": "code",
      "metadata": {
        "colab": {
          "base_uri": "https://localhost:8080/"
        },
        "id": "teLuZuTGDUIa",
        "outputId": "10d43dfb-606e-4868-fc43-51e928a83293"
      },
      "source": [
        "from sklearn.preprocessing import StandardScaler\n",
        "from sklearn.tree import DecisionTreeRegressor\n",
        "from sklearn.pipeline import make_pipeline\n",
        "\n",
        "pipe=make_pipeline(\n",
        "    StandardScaler(),\n",
        "    DecisionTreeRegressor(random_state=2, max_depth=5)\n",
        ")\n",
        "\n",
        "pipe.fit(X_train, y_train)\n",
        "print('훈련 정확도: ', pipe.score(X_train, y_train))\n",
        "print('테스트 정확도: ', pipe.score(X_test, y_test))"
      ],
      "execution_count": 37,
      "outputs": [
        {
          "output_type": "stream",
          "text": [
            "훈련 정확도:  0.7708279000728329\n",
            "테스트 정확도:  0.7278292986759285\n"
          ],
          "name": "stdout"
        }
      ]
    },
    {
      "cell_type": "code",
      "metadata": {
        "colab": {
          "base_uri": "https://localhost:8080/"
        },
        "id": "gAdmFG0yGA_Q",
        "outputId": "708a58f2-287b-4f28-9baa-f4676d90cf09"
      },
      "source": [
        "from sklearn.model_selection import RandomizedSearchCV\n",
        "\n",
        "pipe = make_pipeline(\n",
        "    StandardScaler(),\n",
        "    DecisionTreeRegressor(random_state=2)\n",
        ")\n",
        "\n",
        "# 튜닝할 하이퍼파라미터의 범위를 지정해 주는 부분\n",
        "dists = {\n",
        "    'decisiontreeregressor__max_depth': [5,7,9,10,None], \n",
        "    'decisiontreeregressor__min_samples_leaf' : [1,5,10,15] \n",
        "}\n",
        "\n",
        "clf = RandomizedSearchCV(\n",
        "    pipe, \n",
        "    param_distributions=dists, \n",
        "    n_iter=50, \n",
        "    cv=3, #150번 수행한거임 50*3\n",
        "    scoring='r2',\n",
        "    verbose=1,\n",
        "    n_jobs=-1\n",
        ")\n",
        "\n",
        "clf.fit(X_train, y_train);"
      ],
      "execution_count": 50,
      "outputs": [
        {
          "output_type": "stream",
          "text": [
            "Fitting 3 folds for each of 20 candidates, totalling 60 fits\n"
          ],
          "name": "stdout"
        },
        {
          "output_type": "stream",
          "text": [
            "/usr/local/lib/python3.7/dist-packages/sklearn/model_selection/_search.py:281: UserWarning: The total space of parameters 20 is smaller than n_iter=50. Running 20 iterations. For exhaustive searches, use GridSearchCV.\n",
            "  % (grid_size, self.n_iter, grid_size), UserWarning)\n",
            "[Parallel(n_jobs=-1)]: Using backend LokyBackend with 2 concurrent workers.\n",
            "[Parallel(n_jobs=-1)]: Done  46 tasks      | elapsed:    4.5s\n",
            "[Parallel(n_jobs=-1)]: Done  60 out of  60 | elapsed:    6.0s finished\n"
          ],
          "name": "stderr"
        }
      ]
    },
    {
      "cell_type": "code",
      "metadata": {
        "colab": {
          "base_uri": "https://localhost:8080/"
        },
        "id": "U4sXSjbLHSD5",
        "outputId": "ac5a706d-fd05-4602-85d8-2c950d298e84"
      },
      "source": [
        "print('최적 하이퍼파라미터: ', clf.best_params_)\n",
        "print('f1_score: ', clf.best_score_)"
      ],
      "execution_count": 51,
      "outputs": [
        {
          "output_type": "stream",
          "text": [
            "최적 하이퍼파라미터:  {'decisiontreeregressor__min_samples_leaf': 15, 'decisiontreeregressor__max_depth': None}\n",
            "f1_score:  0.8344567387786337\n"
          ],
          "name": "stdout"
        }
      ]
    },
    {
      "cell_type": "markdown",
      "metadata": {
        "id": "f3ZN57hsHd2D"
      },
      "source": [
        "최적의 하이퍼파라미터로 모델 재생성하기"
      ]
    },
    {
      "cell_type": "code",
      "metadata": {
        "colab": {
          "base_uri": "https://localhost:8080/"
        },
        "id": "BW51iDDtHhpQ",
        "outputId": "67b896f2-aa18-4075-ed41-7f3ac31b066d"
      },
      "source": [
        "pipe=make_pipeline(\n",
        "    StandardScaler(),\n",
        "    DecisionTreeRegressor(random_state=2, min_samples_leaf= 15)\n",
        ")\n",
        "\n",
        "pipe.fit(X_train, y_train)\n",
        "print('훈련 정확도: ', pipe.score(X_train, y_train))\n",
        "print('테스트 정확도: ', pipe.score(X_test, y_test))"
      ],
      "execution_count": 72,
      "outputs": [
        {
          "output_type": "stream",
          "text": [
            "훈련 정확도:  0.904558126618829\n",
            "테스트 정확도:  0.8047765543559249\n"
          ],
          "name": "stdout"
        }
      ]
    },
    {
      "cell_type": "code",
      "metadata": {
        "colab": {
          "base_uri": "https://localhost:8080/",
          "height": 428
        },
        "id": "unNCb0V2FiKr",
        "outputId": "1f5ad695-f42d-47db-d211-d34a9abbba3d"
      },
      "source": [
        "#특성 중요도 확인하기\n",
        "import matplotlib.pyplot as plt\n",
        "\n",
        "tree = pipe.named_steps['decisiontreeregressor']\n",
        "\n",
        "importances = pd.Series(tree.feature_importances_, X_train.columns)\n",
        "plt.figure(figsize=(8,7))\n",
        "importances.sort_values().plot.barh();"
      ],
      "execution_count": 73,
      "outputs": [
        {
          "output_type": "display_data",
          "data": {
            "image/png": "[encoded data removed]",
            "text/plain": [
              "<Figure size 576x504 with 1 Axes>"
            ]
          },
          "metadata": {
            "tags": [],
            "needs_background": "light"
          }
        }
      ]
    },
    {
      "cell_type": "code",
      "metadata": {
        "colab": {
          "base_uri": "https://localhost:8080/"
        },
        "id": "Wt00it8jIK0u",
        "outputId": "8670e7b1-a25a-4ea0-f179-4122b5c71722"
      },
      "source": [
        "pipe.named_steps"
      ],
      "execution_count": 74,
      "outputs": [
        {
          "output_type": "execute_result",
          "data": {
            "text/plain": [
              "{'decisiontreeregressor': DecisionTreeRegressor(ccp_alpha=0.0, criterion='mse', max_depth=None,\n",
              "                       max_features=None, max_leaf_nodes=None,\n",
              "                       min_impurity_decrease=0.0, min_impurity_split=None,\n",
              "                       min_samples_leaf=15, min_samples_split=2,\n",
              "                       min_weight_fraction_leaf=0.0, presort='deprecated',\n",
              "                       random_state=2, splitter='best'),\n",
              " 'standardscaler': StandardScaler(copy=True, with_mean=True, with_std=True)}"
            ]
          },
          "metadata": {
            "tags": []
          },
          "execution_count": 74
        }
      ]
    },
    {
      "cell_type": "code",
      "metadata": {
        "colab": {
          "base_uri": "https://localhost:8080/"
        },
        "id": "lznAau0jIcBU",
        "outputId": "067a0dc1-60b3-4a6c-95eb-8d4c0ac268c5"
      },
      "source": [
        "pip install eli5"
      ],
      "execution_count": 63,
      "outputs": [
        {
          "output_type": "stream",
          "text": [
            "Collecting eli5\n",
            "\u001b[?25l  Downloading https://files.pythonhosted.org/packages/d1/54/04cab6e1c0ae535bec93f795d8403fdf6caf66fa5a6512263202dbb14ea6/eli5-0.11.0-py2.py3-none-any.whl (106kB)\n",
            "\r\u001b[K     |███                             | 10kB 18.6MB/s eta 0:00:01\r\u001b[K     |██████▏                         | 20kB 23.4MB/s eta 0:00:01\r\u001b[K     |█████████▎                      | 30kB 10.9MB/s eta 0:00:01\r\u001b[K     |████████████▍                   | 40kB 8.5MB/s eta 0:00:01\r\u001b[K     |███████████████▌                | 51kB 7.1MB/s eta 0:00:01\r\u001b[K     |██████████████████▌             | 61kB 6.8MB/s eta 0:00:01\r\u001b[K     |█████████████████████▋          | 71kB 7.0MB/s eta 0:00:01\r\u001b[K     |████████████████████████▊       | 81kB 7.8MB/s eta 0:00:01\r\u001b[K     |███████████████████████████▉    | 92kB 7.7MB/s eta 0:00:01\r\u001b[K     |███████████████████████████████ | 102kB 6.5MB/s eta 0:00:01\r\u001b[K     |████████████████████████████████| 112kB 6.5MB/s \n",
            "\u001b[?25hRequirement already satisfied: scikit-learn>=0.20 in /usr/local/lib/python3.7/dist-packages (from eli5) (0.22.2.post1)\n",
            "Requirement already satisfied: tabulate>=0.7.7 in /usr/local/lib/python3.7/dist-packages (from eli5) (0.8.9)\n",
            "Requirement already satisfied: six in /usr/local/lib/python3.7/dist-packages (from eli5) (1.15.0)\n",
            "Requirement already satisfied: jinja2 in /usr/local/lib/python3.7/dist-packages (from eli5) (2.11.3)\n",
            "Requirement already satisfied: numpy>=1.9.0 in /usr/local/lib/python3.7/dist-packages (from eli5) (1.19.5)\n",
            "Requirement already satisfied: scipy in /usr/local/lib/python3.7/dist-packages (from eli5) (1.4.1)\n",
            "Requirement already satisfied: graphviz in /usr/local/lib/python3.7/dist-packages (from eli5) (0.10.1)\n",
            "Requirement already satisfied: attrs>16.0.0 in /usr/local/lib/python3.7/dist-packages (from eli5) (20.3.0)\n",
            "Requirement already satisfied: joblib>=0.11 in /usr/local/lib/python3.7/dist-packages (from scikit-learn>=0.20->eli5) (1.0.1)\n",
            "Requirement already satisfied: MarkupSafe>=0.23 in /usr/local/lib/python3.7/dist-packages (from jinja2->eli5) (1.1.1)\n",
            "Installing collected packages: eli5\n",
            "Successfully installed eli5-0.11.0\n"
          ],
          "name": "stdout"
        }
      ]
    },
    {
      "cell_type": "code",
      "metadata": {
        "id": "V3MV94JnIJiz"
      },
      "source": [
        "import warnings\n",
        "warnings.simplefilter(action='ignore', category=FutureWarning)\n",
        "\n",
        "import eli5\n",
        "from eli5.sklearn import PermutationImportance\n",
        "\n",
        "# permuter 정의\n",
        "permuter = PermutationImportance(\n",
        "    pipe.named_steps['decisiontreeregressor'], # model\n",
        "    scoring='r2',\n",
        "    n_iter=5, # 다른 random seed를 사용하여 5번 반복, 한 특성당 5번 섞을꺼다\n",
        "    random_state=2\n",
        ")\n",
        "\n",
        "# permuter 계산은 preprocessing 된 X_val을 사용합니다.\n",
        "X_test_transformed = pipe.named_steps['standardscaler'].transform(X_test)\n",
        "\n",
        "# 실제로 fit 의미보다는 스코어를 다시 계산하는 작업입니다\n",
        "permuter.fit(X_test_transformed, y_test);"
      ],
      "execution_count": 77,
      "outputs": []
    },
    {
      "cell_type": "code",
      "metadata": {
        "colab": {
          "base_uri": "https://localhost:8080/"
        },
        "id": "lE2PPnb6Jc1d",
        "outputId": "e504bf48-9426-4519-9948-dd1d9eea5e27"
      },
      "source": [
        "feature_names = X_test.columns.tolist()\n",
        "pd.Series(permuter.feature_importances_, feature_names).sort_values()"
      ],
      "execution_count": 78,
      "outputs": [
        {
          "output_type": "execute_result",
          "data": {
            "text/plain": [
              "sqft_basement   -0.000769\n",
              "bedrooms        -0.000369\n",
              "bathrooms       -0.000289\n",
              "renovated        0.000000\n",
              "waterfront       0.000000\n",
              "rooms            0.000470\n",
              "floors           0.000758\n",
              "condition        0.000835\n",
              "view             0.000884\n",
              "sqft_lot15       0.008131\n",
              "zipcode          0.008481\n",
              "sqft_above       0.010218\n",
              "sqft_lot         0.013388\n",
              "sqft_living15    0.017137\n",
              "yr_built         0.020464\n",
              "new_grade        0.034905\n",
              "total_sqft       0.046483\n",
              "long             0.081697\n",
              "sqft_living      0.118810\n",
              "grade            0.145164\n",
              "lat              0.695717\n",
              "dtype: float64"
            ]
          },
          "metadata": {
            "tags": []
          },
          "execution_count": 78
        }
      ]
    },
    {
      "cell_type": "markdown",
      "metadata": {
        "id": "tj4ySZxmKb_F"
      },
      "source": [
        "순열중요도와 특성중요도와 큰 차이가 있는지는 않는 듯함.\n",
        "- 기본 특성 중요도는 빠르지만 특성 종류에 따라 부정확한 결과가 나올 수 있어 주의가 필요함\n",
        "- 순열 중요도 사용하면 더욱 정확한 계산이 가능함"
      ]
    },
    {
      "cell_type": "markdown",
      "metadata": {
        "id": "-wZGijWExkyK"
      },
      "source": [
        "### 랜덤포레스트 모델 생성"
      ]
    },
    {
      "cell_type": "code",
      "metadata": {
        "colab": {
          "base_uri": "https://localhost:8080/"
        },
        "id": "BeqmHjx-E9Xl",
        "outputId": "75587f41-d28e-41e6-e577-b31dac37184a"
      },
      "source": [
        "from sklearn.ensemble import RandomForestRegressor\n",
        "\n",
        "pipe=make_pipeline(\n",
        "    StandardScaler(),\n",
        "    RandomForestRegressor(random_state=2)\n",
        ")\n",
        "\n",
        "pipe.fit(X_train, y_train)\n",
        "print('훈련 정확도: ', pipe.score(X_train, y_train))\n",
        "print('테스트 정확도: ', pipe.score(X_test, y_test))"
      ],
      "execution_count": 79,
      "outputs": [
        {
          "output_type": "stream",
          "text": [
            "훈련 정확도:  0.9840634713506312\n",
            "테스트 정확도:  0.8548696449614447\n"
          ],
          "name": "stdout"
        }
      ]
    },
    {
      "cell_type": "code",
      "metadata": {
        "colab": {
          "base_uri": "https://localhost:8080/"
        },
        "id": "Bpg1HQ9WLgwK",
        "outputId": "1a46b31d-ae58-4344-bad8-c1a3a080cb8c"
      },
      "source": [
        "from sklearn.model_selection import RandomizedSearchCV\n",
        "\n",
        "pipe = make_pipeline(\n",
        "    StandardScaler(),\n",
        "    RandomForestRegressor(random_state=2)\n",
        ")\n",
        "\n",
        "# 튜닝할 하이퍼파라미터의 범위를 지정해 주는 부분\n",
        "dists = {\n",
        "    'randomforestregressor__max_depth': [5,7,9,10,None], \n",
        "    'randomforestregressor__min_samples_leaf' : [1,5,10,15],\n",
        "    'randomforestregressor__max_features' : ['auto', 'sqrt', 'log2']\n",
        "}\n",
        "\n",
        "clf = RandomizedSearchCV(\n",
        "    pipe, \n",
        "    param_distributions=dists, \n",
        "    n_iter=50, \n",
        "    cv=3, #150번 수행한거임 50*3\n",
        "    scoring='r2',\n",
        "    verbose=1,\n",
        "    n_jobs=-1\n",
        ")\n",
        "\n",
        "clf.fit(X_train, y_train);"
      ],
      "execution_count": 84,
      "outputs": [
        {
          "output_type": "stream",
          "text": [
            "Fitting 3 folds for each of 50 candidates, totalling 150 fits\n"
          ],
          "name": "stdout"
        },
        {
          "output_type": "stream",
          "text": [
            "[Parallel(n_jobs=-1)]: Using backend LokyBackend with 2 concurrent workers.\n",
            "[Parallel(n_jobs=-1)]: Done  46 tasks      | elapsed:  1.5min\n",
            "[Parallel(n_jobs=-1)]: Done 150 out of 150 | elapsed:  5.0min finished\n"
          ],
          "name": "stderr"
        }
      ]
    },
    {
      "cell_type": "code",
      "metadata": {
        "colab": {
          "base_uri": "https://localhost:8080/"
        },
        "id": "omFqozKyNpOb",
        "outputId": "605d7ffa-43b0-4920-8184-dc49e86f9b5b"
      },
      "source": [
        "print('최적 하이퍼파라미터: ', clf.best_params_)\n",
        "print('f1_score: ', clf.best_score_)"
      ],
      "execution_count": 85,
      "outputs": [
        {
          "output_type": "stream",
          "text": [
            "최적 하이퍼파라미터:  {'randomforestregressor__min_samples_leaf': 10, 'randomforestregressor__max_features': 'auto', 'randomforestregressor__max_depth': None}\n",
            "f1_score:  0.8814186560772185\n"
          ],
          "name": "stdout"
        }
      ]
    },
    {
      "cell_type": "markdown",
      "metadata": {
        "id": "ZNbzLqDdNvIt"
      },
      "source": [
        "최적의 하이퍼파라미터로 모델 재생성하기"
      ]
    },
    {
      "cell_type": "code",
      "metadata": {
        "colab": {
          "base_uri": "https://localhost:8080/"
        },
        "id": "RKt2QJuXMVYS",
        "outputId": "5c33e374-69c6-42f7-87af-bc1259712273"
      },
      "source": [
        "from sklearn.ensemble import RandomForestRegressor\n",
        "\n",
        "pipe=make_pipeline(\n",
        "    StandardScaler(),\n",
        "    RandomForestRegressor(random_state=2,min_samples_leaf=10, max_features='auto')\n",
        ")\n",
        "\n",
        "pipe.fit(X_train, y_train)\n",
        "print('훈련 정확도: ', pipe.score(X_train, y_train))\n",
        "print('테스트 정확도: ', pipe.score(X_test, y_test))"
      ],
      "execution_count": 86,
      "outputs": [
        {
          "output_type": "stream",
          "text": [
            "훈련 정확도:  0.929741068138734\n",
            "테스트 정확도:  0.8552537207248364\n"
          ],
          "name": "stdout"
        }
      ]
    },
    {
      "cell_type": "markdown",
      "metadata": {
        "id": "5a5qpO_kN-hl"
      },
      "source": [
        "순열 중요도 확인하기"
      ]
    },
    {
      "cell_type": "code",
      "metadata": {
        "id": "M_SISbIYOBMt"
      },
      "source": [
        "import warnings\n",
        "warnings.simplefilter(action='ignore', category=FutureWarning)\n",
        "\n",
        "import eli5\n",
        "from eli5.sklearn import PermutationImportance\n",
        "\n",
        "# permuter 정의\n",
        "permuter = PermutationImportance(\n",
        "    pipe.named_steps['randomforestregressor'], # model\n",
        "    scoring='r2',\n",
        "    n_iter=5, # 다른 random seed를 사용하여 5번 반복, 한 특성당 5번 섞을꺼다\n",
        "    random_state=2\n",
        ")\n",
        "\n",
        "# permuter 계산은 preprocessing 된 X_val을 사용합니다.\n",
        "X_test_transformed = pipe.named_steps['standardscaler'].transform(X_test)\n",
        "\n",
        "# 실제로 fit 의미보다는 스코어를 다시 계산하는 작업입니다\n",
        "permuter.fit(X_test_transformed, y_test);"
      ],
      "execution_count": 87,
      "outputs": []
    },
    {
      "cell_type": "code",
      "metadata": {
        "colab": {
          "base_uri": "https://localhost:8080/"
        },
        "id": "QDQ07NnWOIAK",
        "outputId": "e9083db4-c9b8-4ea8-bc4e-cc03b8e2e166"
      },
      "source": [
        "feature_names = X_test.columns.tolist()\n",
        "pd.Series(permuter.feature_importances_, feature_names).sort_values()"
      ],
      "execution_count": 88,
      "outputs": [
        {
          "output_type": "execute_result",
          "data": {
            "text/plain": [
              "sqft_basement   -0.000393\n",
              "rooms           -0.000367\n",
              "bedrooms        -0.000144\n",
              "condition        0.000047\n",
              "renovated        0.000104\n",
              "floors           0.000187\n",
              "bathrooms        0.000223\n",
              "view             0.000474\n",
              "waterfront       0.000816\n",
              "sqft_lot15       0.003896\n",
              "zipcode          0.004734\n",
              "sqft_lot         0.005833\n",
              "sqft_above       0.007042\n",
              "sqft_living15    0.009128\n",
              "yr_built         0.009138\n",
              "grade            0.046445\n",
              "sqft_living      0.046925\n",
              "new_grade        0.052504\n",
              "total_sqft       0.053176\n",
              "long             0.063227\n",
              "lat              0.680523\n",
              "dtype: float64"
            ]
          },
          "metadata": {
            "tags": []
          },
          "execution_count": 88
        }
      ]
    },
    {
      "cell_type": "code",
      "metadata": {
        "colab": {
          "base_uri": "https://localhost:8080/",
          "height": 392
        },
        "id": "4AX635fvOXpt",
        "outputId": "125c40eb-802a-4d8d-e589-301ea5d87c8a"
      },
      "source": [
        "# 특성별 score 확인\n",
        "eli5.show_weights(\n",
        "    permuter, \n",
        "    top=None, # top n 지정 가능, None 일 경우 모든 특성 \n",
        "    feature_names=feature_names # list 형식으로 넣어야 합니다\n",
        ")"
      ],
      "execution_count": 89,
      "outputs": [
        {
          "output_type": "execute_result",
          "data": {
            "text/html": [
              "\n",
              "    <style>\n",
              "    table.eli5-weights tr:hover {\n",
              "        filter: brightness(85%);\n",
              "    }\n",
              "</style>\n",
              "\n",
              "\n",
              "\n",
              "    \n",
              "\n",
              "    \n",
              "\n",
              "    \n",
              "\n",
              "    \n",
              "\n",
              "    \n",
              "\n",
              "    \n",
              "\n",
              "\n",
              "    \n",
              "\n",
              "    \n",
              "\n",
              "    \n",
              "\n",
              "    \n",
              "\n",
              "    \n",
              "\n",
              "    \n",
              "\n",
              "\n",
              "    \n",
              "\n",
              "    \n",
              "\n",
              "    \n",
              "\n",
              "    \n",
              "\n",
              "    \n",
              "        <table class=\"eli5-weights eli5-feature-importances\" style=\"border-collapse: collapse; border: none; margin-top: 0em; table-layout: auto;\">\n",
              "    <thead>\n",
              "    <tr style=\"border: none;\">\n",
              "        <th style=\"padding: 0 1em 0 0.5em; text-align: right; border: none;\">Weight</th>\n",
              "        <th style=\"padding: 0 0.5em 0 0.5em; text-align: left; border: none;\">Feature</th>\n",
              "    </tr>\n",
              "    </thead>\n",
              "    <tbody>\n",
              "    \n",
              "        <tr style=\"background-color: hsl(120, 100.00%, 80.00%); border: none;\">\n",
              "            <td style=\"padding: 0 1em 0 0.5em; text-align: right; border: none;\">\n",
              "                0.6805\n",
              "                \n",
              "                    &plusmn; 0.0192\n",
              "                \n",
              "            </td>\n",
              "            <td style=\"padding: 0 0.5em 0 0.5em; text-align: left; border: none;\">\n",
              "                lat\n",
              "            </td>\n",
              "        </tr>\n",
              "    \n",
              "        <tr style=\"background-color: hsl(120, 100.00%, 96.21%); border: none;\">\n",
              "            <td style=\"padding: 0 1em 0 0.5em; text-align: right; border: none;\">\n",
              "                0.0632\n",
              "                \n",
              "                    &plusmn; 0.0048\n",
              "                \n",
              "            </td>\n",
              "            <td style=\"padding: 0 0.5em 0 0.5em; text-align: left; border: none;\">\n",
              "                long\n",
              "            </td>\n",
              "        </tr>\n",
              "    \n",
              "        <tr style=\"background-color: hsl(120, 100.00%, 96.64%); border: none;\">\n",
              "            <td style=\"padding: 0 1em 0 0.5em; text-align: right; border: none;\">\n",
              "                0.0532\n",
              "                \n",
              "                    &plusmn; 0.0047\n",
              "                \n",
              "            </td>\n",
              "            <td style=\"padding: 0 0.5em 0 0.5em; text-align: left; border: none;\">\n",
              "                total_sqft\n",
              "            </td>\n",
              "        </tr>\n",
              "    \n",
              "        <tr style=\"background-color: hsl(120, 100.00%, 96.67%); border: none;\">\n",
              "            <td style=\"padding: 0 1em 0 0.5em; text-align: right; border: none;\">\n",
              "                0.0525\n",
              "                \n",
              "                    &plusmn; 0.0062\n",
              "                \n",
              "            </td>\n",
              "            <td style=\"padding: 0 0.5em 0 0.5em; text-align: left; border: none;\">\n",
              "                new_grade\n",
              "            </td>\n",
              "        </tr>\n",
              "    \n",
              "        <tr style=\"background-color: hsl(120, 100.00%, 96.92%); border: none;\">\n",
              "            <td style=\"padding: 0 1em 0 0.5em; text-align: right; border: none;\">\n",
              "                0.0469\n",
              "                \n",
              "                    &plusmn; 0.0028\n",
              "                \n",
              "            </td>\n",
              "            <td style=\"padding: 0 0.5em 0 0.5em; text-align: left; border: none;\">\n",
              "                sqft_living\n",
              "            </td>\n",
              "        </tr>\n",
              "    \n",
              "        <tr style=\"background-color: hsl(120, 100.00%, 96.95%); border: none;\">\n",
              "            <td style=\"padding: 0 1em 0 0.5em; text-align: right; border: none;\">\n",
              "                0.0464\n",
              "                \n",
              "                    &plusmn; 0.0048\n",
              "                \n",
              "            </td>\n",
              "            <td style=\"padding: 0 0.5em 0 0.5em; text-align: left; border: none;\">\n",
              "                grade\n",
              "            </td>\n",
              "        </tr>\n",
              "    \n",
              "        <tr style=\"background-color: hsl(120, 100.00%, 99.02%); border: none;\">\n",
              "            <td style=\"padding: 0 1em 0 0.5em; text-align: right; border: none;\">\n",
              "                0.0091\n",
              "                \n",
              "                    &plusmn; 0.0012\n",
              "                \n",
              "            </td>\n",
              "            <td style=\"padding: 0 0.5em 0 0.5em; text-align: left; border: none;\">\n",
              "                yr_built\n",
              "            </td>\n",
              "        </tr>\n",
              "    \n",
              "        <tr style=\"background-color: hsl(120, 100.00%, 99.02%); border: none;\">\n",
              "            <td style=\"padding: 0 1em 0 0.5em; text-align: right; border: none;\">\n",
              "                0.0091\n",
              "                \n",
              "                    &plusmn; 0.0015\n",
              "                \n",
              "            </td>\n",
              "            <td style=\"padding: 0 0.5em 0 0.5em; text-align: left; border: none;\">\n",
              "                sqft_living15\n",
              "            </td>\n",
              "        </tr>\n",
              "    \n",
              "        <tr style=\"background-color: hsl(120, 100.00%, 99.18%); border: none;\">\n",
              "            <td style=\"padding: 0 1em 0 0.5em; text-align: right; border: none;\">\n",
              "                0.0070\n",
              "                \n",
              "                    &plusmn; 0.0004\n",
              "                \n",
              "            </td>\n",
              "            <td style=\"padding: 0 0.5em 0 0.5em; text-align: left; border: none;\">\n",
              "                sqft_above\n",
              "            </td>\n",
              "        </tr>\n",
              "    \n",
              "        <tr style=\"background-color: hsl(120, 100.00%, 99.29%); border: none;\">\n",
              "            <td style=\"padding: 0 1em 0 0.5em; text-align: right; border: none;\">\n",
              "                0.0058\n",
              "                \n",
              "                    &plusmn; 0.0008\n",
              "                \n",
              "            </td>\n",
              "            <td style=\"padding: 0 0.5em 0 0.5em; text-align: left; border: none;\">\n",
              "                sqft_lot\n",
              "            </td>\n",
              "        </tr>\n",
              "    \n",
              "        <tr style=\"background-color: hsl(120, 100.00%, 99.38%); border: none;\">\n",
              "            <td style=\"padding: 0 1em 0 0.5em; text-align: right; border: none;\">\n",
              "                0.0047\n",
              "                \n",
              "                    &plusmn; 0.0009\n",
              "                \n",
              "            </td>\n",
              "            <td style=\"padding: 0 0.5em 0 0.5em; text-align: left; border: none;\">\n",
              "                zipcode\n",
              "            </td>\n",
              "        </tr>\n",
              "    \n",
              "        <tr style=\"background-color: hsl(120, 100.00%, 99.46%); border: none;\">\n",
              "            <td style=\"padding: 0 1em 0 0.5em; text-align: right; border: none;\">\n",
              "                0.0039\n",
              "                \n",
              "                    &plusmn; 0.0006\n",
              "                \n",
              "            </td>\n",
              "            <td style=\"padding: 0 0.5em 0 0.5em; text-align: left; border: none;\">\n",
              "                sqft_lot15\n",
              "            </td>\n",
              "        </tr>\n",
              "    \n",
              "        <tr style=\"background-color: hsl(120, 100.00%, 99.82%); border: none;\">\n",
              "            <td style=\"padding: 0 1em 0 0.5em; text-align: right; border: none;\">\n",
              "                0.0008\n",
              "                \n",
              "                    &plusmn; 0.0000\n",
              "                \n",
              "            </td>\n",
              "            <td style=\"padding: 0 0.5em 0 0.5em; text-align: left; border: none;\">\n",
              "                waterfront\n",
              "            </td>\n",
              "        </tr>\n",
              "    \n",
              "        <tr style=\"background-color: hsl(120, 100.00%, 99.88%); border: none;\">\n",
              "            <td style=\"padding: 0 1em 0 0.5em; text-align: right; border: none;\">\n",
              "                0.0005\n",
              "                \n",
              "                    &plusmn; 0.0001\n",
              "                \n",
              "            </td>\n",
              "            <td style=\"padding: 0 0.5em 0 0.5em; text-align: left; border: none;\">\n",
              "                view\n",
              "            </td>\n",
              "        </tr>\n",
              "    \n",
              "        <tr style=\"background-color: hsl(120, 100.00%, 99.93%); border: none;\">\n",
              "            <td style=\"padding: 0 1em 0 0.5em; text-align: right; border: none;\">\n",
              "                0.0002\n",
              "                \n",
              "                    &plusmn; 0.0002\n",
              "                \n",
              "            </td>\n",
              "            <td style=\"padding: 0 0.5em 0 0.5em; text-align: left; border: none;\">\n",
              "                bathrooms\n",
              "            </td>\n",
              "        </tr>\n",
              "    \n",
              "        <tr style=\"background-color: hsl(120, 100.00%, 99.94%); border: none;\">\n",
              "            <td style=\"padding: 0 1em 0 0.5em; text-align: right; border: none;\">\n",
              "                0.0002\n",
              "                \n",
              "                    &plusmn; 0.0001\n",
              "                \n",
              "            </td>\n",
              "            <td style=\"padding: 0 0.5em 0 0.5em; text-align: left; border: none;\">\n",
              "                floors\n",
              "            </td>\n",
              "        </tr>\n",
              "    \n",
              "        <tr style=\"background-color: hsl(120, 100.00%, 99.96%); border: none;\">\n",
              "            <td style=\"padding: 0 1em 0 0.5em; text-align: right; border: none;\">\n",
              "                0.0001\n",
              "                \n",
              "                    &plusmn; 0.0000\n",
              "                \n",
              "            </td>\n",
              "            <td style=\"padding: 0 0.5em 0 0.5em; text-align: left; border: none;\">\n",
              "                renovated\n",
              "            </td>\n",
              "        </tr>\n",
              "    \n",
              "        <tr style=\"background-color: hsl(120, 100.00%, 99.98%); border: none;\">\n",
              "            <td style=\"padding: 0 1em 0 0.5em; text-align: right; border: none;\">\n",
              "                0.0000\n",
              "                \n",
              "                    &plusmn; 0.0001\n",
              "                \n",
              "            </td>\n",
              "            <td style=\"padding: 0 0.5em 0 0.5em; text-align: left; border: none;\">\n",
              "                condition\n",
              "            </td>\n",
              "        </tr>\n",
              "    \n",
              "        <tr style=\"background-color: hsl(0, 100.00%, 99.95%); border: none;\">\n",
              "            <td style=\"padding: 0 1em 0 0.5em; text-align: right; border: none;\">\n",
              "                -0.0001\n",
              "                \n",
              "                    &plusmn; 0.0000\n",
              "                \n",
              "            </td>\n",
              "            <td style=\"padding: 0 0.5em 0 0.5em; text-align: left; border: none;\">\n",
              "                bedrooms\n",
              "            </td>\n",
              "        </tr>\n",
              "    \n",
              "        <tr style=\"background-color: hsl(0, 100.00%, 99.90%); border: none;\">\n",
              "            <td style=\"padding: 0 1em 0 0.5em; text-align: right; border: none;\">\n",
              "                -0.0004\n",
              "                \n",
              "                    &plusmn; 0.0001\n",
              "                \n",
              "            </td>\n",
              "            <td style=\"padding: 0 0.5em 0 0.5em; text-align: left; border: none;\">\n",
              "                rooms\n",
              "            </td>\n",
              "        </tr>\n",
              "    \n",
              "        <tr style=\"background-color: hsl(0, 100.00%, 99.89%); border: none;\">\n",
              "            <td style=\"padding: 0 1em 0 0.5em; text-align: right; border: none;\">\n",
              "                -0.0004\n",
              "                \n",
              "                    &plusmn; 0.0002\n",
              "                \n",
              "            </td>\n",
              "            <td style=\"padding: 0 0.5em 0 0.5em; text-align: left; border: none;\">\n",
              "                sqft_basement\n",
              "            </td>\n",
              "        </tr>\n",
              "    \n",
              "    \n",
              "    </tbody>\n",
              "</table>\n",
              "    \n",
              "\n",
              "    \n",
              "\n",
              "\n",
              "    \n",
              "\n",
              "    \n",
              "\n",
              "    \n",
              "\n",
              "    \n",
              "\n",
              "    \n",
              "\n",
              "    \n",
              "\n",
              "\n",
              "\n"
            ],
            "text/plain": [
              "<IPython.core.display.HTML object>"
            ]
          },
          "metadata": {
            "tags": []
          },
          "execution_count": 89
        }
      ]
    },
    {
      "cell_type": "code",
      "metadata": {
        "colab": {
          "base_uri": "https://localhost:8080/"
        },
        "id": "a8tUlOspOqGQ",
        "outputId": "4a1420e6-98b3-43ec-d82e-301247f1cbff"
      },
      "source": [
        "print('특성 삭제 전:', X_train.shape, X_test.shape)"
      ],
      "execution_count": 91,
      "outputs": [
        {
          "output_type": "stream",
          "text": [
            "특성 삭제 전: (16772, 21) (4721, 21)\n"
          ],
          "name": "stdout"
        }
      ]
    },
    {
      "cell_type": "code",
      "metadata": {
        "id": "4oEtZeDGOur2"
      },
      "source": [
        "minimum_importance = 0.001\n",
        "mask = permuter.feature_importances_ > minimum_importance\n",
        "features = X_train.columns[mask]\n",
        "X_train_selected = X_train[features]\n",
        "X_test_selected = X_test[features]"
      ],
      "execution_count": 92,
      "outputs": []
    },
    {
      "cell_type": "code",
      "metadata": {
        "colab": {
          "base_uri": "https://localhost:8080/"
        },
        "id": "tbl9SwAZOy0t",
        "outputId": "bfe3a7af-799d-46c4-c4c2-3488b8a19c59"
      },
      "source": [
        "print('특성 삭제 후:', X_train_selected.shape, X_test_selected.shape)"
      ],
      "execution_count": 94,
      "outputs": [
        {
          "output_type": "stream",
          "text": [
            "특성 삭제 후: (16772, 12) (4721, 12)\n"
          ],
          "name": "stdout"
        }
      ]
    },
    {
      "cell_type": "markdown",
      "metadata": {
        "id": "b1vTkD9-O6C2"
      },
      "source": [
        "다시 모델 재생성하기"
      ]
    },
    {
      "cell_type": "code",
      "metadata": {
        "colab": {
          "base_uri": "https://localhost:8080/"
        },
        "id": "AbTg_8BGO7H7",
        "outputId": "bd5034ff-a80c-4a4f-b430-c1c2d8a3268f"
      },
      "source": [
        "from sklearn.ensemble import RandomForestRegressor\n",
        "\n",
        "pipe=make_pipeline(\n",
        "    StandardScaler(),\n",
        "    RandomForestRegressor(random_state=2,min_samples_leaf=10, max_features='auto')\n",
        ")\n",
        "\n",
        "pipe.fit(X_train_selected, y_train)\n",
        "print('훈련 정확도: ', pipe.score(X_train_selected, y_train))\n",
        "print('테스트 정확도: ', pipe.score(X_test_selected, y_test))"
      ],
      "execution_count": 95,
      "outputs": [
        {
          "output_type": "stream",
          "text": [
            "훈련 정확도:  0.9283072573340178\n",
            "테스트 정확도:  0.8548090157185316\n"
          ],
          "name": "stdout"
        }
      ]
    },
    {
      "cell_type": "markdown",
      "metadata": {
        "id": "4AP2qecBPBqB"
      },
      "source": [
        "[feature 제거 전 정확도]\n",
        "\n",
        "- 훈련 정확도:  0.929741068138734\n",
        "- 테스트 정확도:  0.8552537207248364\n",
        "\n",
        "*큰 차이 없는 것을 확인*"
      ]
    },
    {
      "cell_type": "markdown",
      "metadata": {
        "id": "a2csrkq2PRZx"
      },
      "source": [
        "다음 시간에는 lightGBM과 같은 앙상블 모델 학습을 통해 pdp와 shap을 이용하여 해석하는 법을 공부해보겠음"
      ]
    }
  ]
}
