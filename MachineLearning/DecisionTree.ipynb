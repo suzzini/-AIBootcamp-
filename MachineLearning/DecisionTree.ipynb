{
  "nbformat": 4,
  "nbformat_minor": 0,
  "metadata": {
    "colab": {
      "name": "DecisionTree.ipynb",
      "provenance": [],
      "collapsed_sections": [],
      "authorship_tag": "ABX9TyOHP1xZVMMtxUqCwt7MRW21",
      "include_colab_link": true
    },
    "kernelspec": {
      "name": "python3",
      "display_name": "Python 3"
    },
    "language_info": {
      "name": "python"
    }
  },
  "cells": [
    {
      "cell_type": "markdown",
      "metadata": {
        "id": "view-in-github",
        "colab_type": "text"
      },
      "source": [
        "<a href=\"https://colab.research.google.com/github/suzzini/DA_Study/blob/main/DecisionTree.ipynb\" target=\"_parent\"><img src=\"https://colab.research.google.com/assets/colab-badge.svg\" alt=\"Open In Colab\"/></a>"
      ]
    },
    {
      "cell_type": "markdown",
      "metadata": {
        "id": "ShhOEfmV9W2T"
      },
      "source": [
        "- 사이킷럿 파이프라인(Pipelines)\n",
        "- DecisionTree\n",
        "\n"
      ]
    },
    {
      "cell_type": "code",
      "metadata": {
        "colab": {
          "base_uri": "https://localhost:8080/"
        },
        "id": "2F6xJr0rFMyI",
        "outputId": "a183d959-6bd3-4efa-fc65-5a6277f0ae07"
      },
      "source": [
        "pip install category_encoders"
      ],
      "execution_count": 2,
      "outputs": [
        {
          "output_type": "stream",
          "text": [
            "Collecting category_encoders\n",
            "\u001b[?25l  Downloading https://files.pythonhosted.org/packages/44/57/fcef41c248701ee62e8325026b90c432adea35555cbc870aff9cfba23727/category_encoders-2.2.2-py2.py3-none-any.whl (80kB)\n",
            "\r\u001b[K     |████                            | 10kB 13.6MB/s eta 0:00:01\r\u001b[K     |████████▏                       | 20kB 9.7MB/s eta 0:00:01\r\u001b[K     |████████████▏                   | 30kB 9.9MB/s eta 0:00:01\r\u001b[K     |████████████████▎               | 40kB 8.3MB/s eta 0:00:01\r\u001b[K     |████████████████████▎           | 51kB 5.4MB/s eta 0:00:01\r\u001b[K     |████████████████████████▍       | 61kB 6.1MB/s eta 0:00:01\r\u001b[K     |████████████████████████████▍   | 71kB 6.1MB/s eta 0:00:01\r\u001b[K     |████████████████████████████████| 81kB 3.6MB/s \n",
            "\u001b[?25hRequirement already satisfied: scipy>=1.0.0 in /usr/local/lib/python3.7/dist-packages (from category_encoders) (1.4.1)\n",
            "Requirement already satisfied: scikit-learn>=0.20.0 in /usr/local/lib/python3.7/dist-packages (from category_encoders) (0.22.2.post1)\n",
            "Requirement already satisfied: statsmodels>=0.9.0 in /usr/local/lib/python3.7/dist-packages (from category_encoders) (0.10.2)\n",
            "Requirement already satisfied: pandas>=0.21.1 in /usr/local/lib/python3.7/dist-packages (from category_encoders) (1.1.5)\n",
            "Requirement already satisfied: patsy>=0.5.1 in /usr/local/lib/python3.7/dist-packages (from category_encoders) (0.5.1)\n",
            "Requirement already satisfied: numpy>=1.14.0 in /usr/local/lib/python3.7/dist-packages (from category_encoders) (1.19.5)\n",
            "Requirement already satisfied: joblib>=0.11 in /usr/local/lib/python3.7/dist-packages (from scikit-learn>=0.20.0->category_encoders) (1.0.1)\n",
            "Requirement already satisfied: python-dateutil>=2.7.3 in /usr/local/lib/python3.7/dist-packages (from pandas>=0.21.1->category_encoders) (2.8.1)\n",
            "Requirement already satisfied: pytz>=2017.2 in /usr/local/lib/python3.7/dist-packages (from pandas>=0.21.1->category_encoders) (2018.9)\n",
            "Requirement already satisfied: six in /usr/local/lib/python3.7/dist-packages (from patsy>=0.5.1->category_encoders) (1.15.0)\n",
            "Installing collected packages: category-encoders\n",
            "Successfully installed category-encoders-2.2.2\n"
          ],
          "name": "stdout"
        }
      ]
    },
    {
      "cell_type": "code",
      "metadata": {
        "colab": {
          "base_uri": "https://localhost:8080/"
        },
        "id": "LOf-RBeg7yPB",
        "outputId": "3e1d93c9-e270-425f-8917-1d9ace70e48c"
      },
      "source": [
        "import numpy as np\n",
        "import pandas as pd\n",
        "\n",
        "from sklearn.model_selection import train_test_split\n",
        "from category_encoders import OneHotEncoder\n",
        "from sklearn.impute import SimpleImputer\n",
        "from sklearn.preprocessing import StandardScaler\n",
        "from sklearn.pipeline import make_pipeline\n",
        "\n",
        "from sklearn.linear_model import LogisticRegression\n",
        "from sklearn.tree import DecisionTreeClassifier\n",
        "from sklearn.metrics import accuracy_score\n",
        "from sklearn.metrics import f1_score\n",
        "\n",
        "import graphviz\n",
        "from sklearn.tree import export_graphviz"
      ],
      "execution_count": 3,
      "outputs": [
        {
          "output_type": "stream",
          "text": [
            "/usr/local/lib/python3.7/dist-packages/statsmodels/tools/_testing.py:19: FutureWarning: pandas.util.testing is deprecated. Use the functions in the public API at pandas.testing instead.\n",
            "  import pandas.util.testing as tm\n"
          ],
          "name": "stderr"
        }
      ]
    },
    {
      "cell_type": "code",
      "metadata": {
        "colab": {
          "base_uri": "https://localhost:8080/",
          "height": 411
        },
        "id": "xaKocZgnFQ0I",
        "outputId": "a94851c5-b6c3-4d13-8a26-2db7dc47df60"
      },
      "source": [
        "df=pd.read_csv('heart.csv')\n",
        "# https://www.kaggle.com/rashikrahmanpritom/heart-attack-analysis-prediction-dataset\n",
        "df"
      ],
      "execution_count": 5,
      "outputs": [
        {
          "output_type": "execute_result",
          "data": {
            "text/html": [
              "<div>\n",
              "<style scoped>\n",
              "    .dataframe tbody tr th:only-of-type {\n",
              "        vertical-align: middle;\n",
              "    }\n",
              "\n",
              "    .dataframe tbody tr th {\n",
              "        vertical-align: top;\n",
              "    }\n",
              "\n",
              "    .dataframe thead th {\n",
              "        text-align: right;\n",
              "    }\n",
              "</style>\n",
              "<table border=\"1\" class=\"dataframe\">\n",
              "  <thead>\n",
              "    <tr style=\"text-align: right;\">\n",
              "      <th></th>\n",
              "      <th>age</th>\n",
              "      <th>sex</th>\n",
              "      <th>cp</th>\n",
              "      <th>trtbps</th>\n",
              "      <th>chol</th>\n",
              "      <th>fbs</th>\n",
              "      <th>restecg</th>\n",
              "      <th>thalachh</th>\n",
              "      <th>exng</th>\n",
              "      <th>oldpeak</th>\n",
              "      <th>slp</th>\n",
              "      <th>caa</th>\n",
              "      <th>thall</th>\n",
              "      <th>output</th>\n",
              "    </tr>\n",
              "  </thead>\n",
              "  <tbody>\n",
              "    <tr>\n",
              "      <th>0</th>\n",
              "      <td>63</td>\n",
              "      <td>1</td>\n",
              "      <td>3</td>\n",
              "      <td>145</td>\n",
              "      <td>233</td>\n",
              "      <td>1</td>\n",
              "      <td>0</td>\n",
              "      <td>150</td>\n",
              "      <td>0</td>\n",
              "      <td>2.3</td>\n",
              "      <td>0</td>\n",
              "      <td>0</td>\n",
              "      <td>1</td>\n",
              "      <td>1</td>\n",
              "    </tr>\n",
              "    <tr>\n",
              "      <th>1</th>\n",
              "      <td>37</td>\n",
              "      <td>1</td>\n",
              "      <td>2</td>\n",
              "      <td>130</td>\n",
              "      <td>250</td>\n",
              "      <td>0</td>\n",
              "      <td>1</td>\n",
              "      <td>187</td>\n",
              "      <td>0</td>\n",
              "      <td>3.5</td>\n",
              "      <td>0</td>\n",
              "      <td>0</td>\n",
              "      <td>2</td>\n",
              "      <td>1</td>\n",
              "    </tr>\n",
              "    <tr>\n",
              "      <th>2</th>\n",
              "      <td>41</td>\n",
              "      <td>0</td>\n",
              "      <td>1</td>\n",
              "      <td>130</td>\n",
              "      <td>204</td>\n",
              "      <td>0</td>\n",
              "      <td>0</td>\n",
              "      <td>172</td>\n",
              "      <td>0</td>\n",
              "      <td>1.4</td>\n",
              "      <td>2</td>\n",
              "      <td>0</td>\n",
              "      <td>2</td>\n",
              "      <td>1</td>\n",
              "    </tr>\n",
              "    <tr>\n",
              "      <th>3</th>\n",
              "      <td>56</td>\n",
              "      <td>1</td>\n",
              "      <td>1</td>\n",
              "      <td>120</td>\n",
              "      <td>236</td>\n",
              "      <td>0</td>\n",
              "      <td>1</td>\n",
              "      <td>178</td>\n",
              "      <td>0</td>\n",
              "      <td>0.8</td>\n",
              "      <td>2</td>\n",
              "      <td>0</td>\n",
              "      <td>2</td>\n",
              "      <td>1</td>\n",
              "    </tr>\n",
              "    <tr>\n",
              "      <th>4</th>\n",
              "      <td>57</td>\n",
              "      <td>0</td>\n",
              "      <td>0</td>\n",
              "      <td>120</td>\n",
              "      <td>354</td>\n",
              "      <td>0</td>\n",
              "      <td>1</td>\n",
              "      <td>163</td>\n",
              "      <td>1</td>\n",
              "      <td>0.6</td>\n",
              "      <td>2</td>\n",
              "      <td>0</td>\n",
              "      <td>2</td>\n",
              "      <td>1</td>\n",
              "    </tr>\n",
              "    <tr>\n",
              "      <th>...</th>\n",
              "      <td>...</td>\n",
              "      <td>...</td>\n",
              "      <td>...</td>\n",
              "      <td>...</td>\n",
              "      <td>...</td>\n",
              "      <td>...</td>\n",
              "      <td>...</td>\n",
              "      <td>...</td>\n",
              "      <td>...</td>\n",
              "      <td>...</td>\n",
              "      <td>...</td>\n",
              "      <td>...</td>\n",
              "      <td>...</td>\n",
              "      <td>...</td>\n",
              "    </tr>\n",
              "    <tr>\n",
              "      <th>298</th>\n",
              "      <td>57</td>\n",
              "      <td>0</td>\n",
              "      <td>0</td>\n",
              "      <td>140</td>\n",
              "      <td>241</td>\n",
              "      <td>0</td>\n",
              "      <td>1</td>\n",
              "      <td>123</td>\n",
              "      <td>1</td>\n",
              "      <td>0.2</td>\n",
              "      <td>1</td>\n",
              "      <td>0</td>\n",
              "      <td>3</td>\n",
              "      <td>0</td>\n",
              "    </tr>\n",
              "    <tr>\n",
              "      <th>299</th>\n",
              "      <td>45</td>\n",
              "      <td>1</td>\n",
              "      <td>3</td>\n",
              "      <td>110</td>\n",
              "      <td>264</td>\n",
              "      <td>0</td>\n",
              "      <td>1</td>\n",
              "      <td>132</td>\n",
              "      <td>0</td>\n",
              "      <td>1.2</td>\n",
              "      <td>1</td>\n",
              "      <td>0</td>\n",
              "      <td>3</td>\n",
              "      <td>0</td>\n",
              "    </tr>\n",
              "    <tr>\n",
              "      <th>300</th>\n",
              "      <td>68</td>\n",
              "      <td>1</td>\n",
              "      <td>0</td>\n",
              "      <td>144</td>\n",
              "      <td>193</td>\n",
              "      <td>1</td>\n",
              "      <td>1</td>\n",
              "      <td>141</td>\n",
              "      <td>0</td>\n",
              "      <td>3.4</td>\n",
              "      <td>1</td>\n",
              "      <td>2</td>\n",
              "      <td>3</td>\n",
              "      <td>0</td>\n",
              "    </tr>\n",
              "    <tr>\n",
              "      <th>301</th>\n",
              "      <td>57</td>\n",
              "      <td>1</td>\n",
              "      <td>0</td>\n",
              "      <td>130</td>\n",
              "      <td>131</td>\n",
              "      <td>0</td>\n",
              "      <td>1</td>\n",
              "      <td>115</td>\n",
              "      <td>1</td>\n",
              "      <td>1.2</td>\n",
              "      <td>1</td>\n",
              "      <td>1</td>\n",
              "      <td>3</td>\n",
              "      <td>0</td>\n",
              "    </tr>\n",
              "    <tr>\n",
              "      <th>302</th>\n",
              "      <td>57</td>\n",
              "      <td>0</td>\n",
              "      <td>1</td>\n",
              "      <td>130</td>\n",
              "      <td>236</td>\n",
              "      <td>0</td>\n",
              "      <td>0</td>\n",
              "      <td>174</td>\n",
              "      <td>0</td>\n",
              "      <td>0.0</td>\n",
              "      <td>1</td>\n",
              "      <td>1</td>\n",
              "      <td>2</td>\n",
              "      <td>0</td>\n",
              "    </tr>\n",
              "  </tbody>\n",
              "</table>\n",
              "<p>303 rows × 14 columns</p>\n",
              "</div>"
            ],
            "text/plain": [
              "     age  sex  cp  trtbps  chol  fbs  ...  exng  oldpeak  slp  caa  thall  output\n",
              "0     63    1   3     145   233    1  ...     0      2.3    0    0      1       1\n",
              "1     37    1   2     130   250    0  ...     0      3.5    0    0      2       1\n",
              "2     41    0   1     130   204    0  ...     0      1.4    2    0      2       1\n",
              "3     56    1   1     120   236    0  ...     0      0.8    2    0      2       1\n",
              "4     57    0   0     120   354    0  ...     1      0.6    2    0      2       1\n",
              "..   ...  ...  ..     ...   ...  ...  ...   ...      ...  ...  ...    ...     ...\n",
              "298   57    0   0     140   241    0  ...     1      0.2    1    0      3       0\n",
              "299   45    1   3     110   264    0  ...     0      1.2    1    0      3       0\n",
              "300   68    1   0     144   193    1  ...     0      3.4    1    2      3       0\n",
              "301   57    1   0     130   131    0  ...     1      1.2    1    1      3       0\n",
              "302   57    0   1     130   236    0  ...     0      0.0    1    1      2       0\n",
              "\n",
              "[303 rows x 14 columns]"
            ]
          },
          "metadata": {
            "tags": []
          },
          "execution_count": 5
        }
      ]
    },
    {
      "cell_type": "markdown",
      "metadata": {
        "id": "3aHV8ADrJHBC"
      },
      "source": [
        "1. age - age in years\n",
        "\n",
        "2. sex - sex (1 = male; 0 = female)\n",
        "\n",
        "3. cp - chest pain type (1 = typical angina; 2 = atypical angina; 3 = non-anginal pain; 4 = asymptomatic)\n",
        "\n",
        "4. trestbps - resting blood pressure (in mm Hg on admission to the hospital)\n",
        "\n",
        "5. chol - serum cholestoral in mg/dl\n",
        "\n",
        "6. fbs - fasting blood sugar > 120 mg/dl (1 = true; 0 = false)\n",
        "\n",
        "7. restecg - resting electrocardiographic results (0 = normal; 1 = having ST-T; 2 = hypertrophy)\n",
        "\n",
        "8. thalach - maximum heart rate achieved\n",
        "\n",
        "9. exang - exercise induced angina (1 = yes; 0 = no)\n",
        "\n",
        "10. oldpeak - ST depression induced by exercise relative to rest\n",
        "\n",
        "11. slope - the slope of the peak exercise ST segment (1 = upsloping; 2 = flat; 3 = downsloping)\n",
        "\n",
        "12. ca - number of major vessels (0-3) colored by flourosopy\n",
        "\n",
        "13. thal - 2 = normal; 1 = fixed defect; 3 = reversable defect\n",
        "\n",
        "14. num - the predicted attribute - diagnosis of heart disease (angiographic disease status) (Value 0 = < diameter narrowing; Value 1 = > 50% diameter narrowing)"
      ]
    },
    {
      "cell_type": "code",
      "metadata": {
        "colab": {
          "base_uri": "https://localhost:8080/"
        },
        "id": "89Y5T8pYH0uA",
        "outputId": "e5eb4afd-3dd6-48a8-a955-a910fee8ee2e"
      },
      "source": [
        "df.nunique()"
      ],
      "execution_count": 13,
      "outputs": [
        {
          "output_type": "execute_result",
          "data": {
            "text/plain": [
              "age          41\n",
              "sex           2\n",
              "cp            4\n",
              "trtbps       49\n",
              "chol        152\n",
              "fbs           2\n",
              "restecg       3\n",
              "thalachh     91\n",
              "exng          2\n",
              "oldpeak      40\n",
              "slp           3\n",
              "caa           5\n",
              "thall         4\n",
              "output        2\n",
              "dtype: int64"
            ]
          },
          "metadata": {
            "tags": []
          },
          "execution_count": 13
        }
      ]
    },
    {
      "cell_type": "code",
      "metadata": {
        "colab": {
          "base_uri": "https://localhost:8080/"
        },
        "id": "iURChIwqFTxB",
        "outputId": "08a30a2c-4554-44f7-84c2-425326f0ebff"
      },
      "source": [
        "df.isnull().sum()"
      ],
      "execution_count": 6,
      "outputs": [
        {
          "output_type": "execute_result",
          "data": {
            "text/plain": [
              "age         0\n",
              "sex         0\n",
              "cp          0\n",
              "trtbps      0\n",
              "chol        0\n",
              "fbs         0\n",
              "restecg     0\n",
              "thalachh    0\n",
              "exng        0\n",
              "oldpeak     0\n",
              "slp         0\n",
              "caa         0\n",
              "thall       0\n",
              "output      0\n",
              "dtype: int64"
            ]
          },
          "metadata": {
            "tags": []
          },
          "execution_count": 6
        }
      ]
    },
    {
      "cell_type": "code",
      "metadata": {
        "colab": {
          "base_uri": "https://localhost:8080/"
        },
        "id": "dSF94E7ZFWej",
        "outputId": "773e2c64-4b4d-4814-877d-7404ab88b360"
      },
      "source": [
        "df.T.duplicated()"
      ],
      "execution_count": 7,
      "outputs": [
        {
          "output_type": "execute_result",
          "data": {
            "text/plain": [
              "age         False\n",
              "sex         False\n",
              "cp          False\n",
              "trtbps      False\n",
              "chol        False\n",
              "fbs         False\n",
              "restecg     False\n",
              "thalachh    False\n",
              "exng        False\n",
              "oldpeak     False\n",
              "slp         False\n",
              "caa         False\n",
              "thall       False\n",
              "output      False\n",
              "dtype: bool"
            ]
          },
          "metadata": {
            "tags": []
          },
          "execution_count": 7
        }
      ]
    },
    {
      "cell_type": "code",
      "metadata": {
        "colab": {
          "base_uri": "https://localhost:8080/"
        },
        "id": "V60KNViXFYnB",
        "outputId": "e941a004-d180-45f9-a73e-e6c26bb5cdbf"
      },
      "source": [
        "from sklearn.model_selection import train_test_split\n",
        "\n",
        "target='output'\n",
        "train, test = train_test_split(df, train_size=0.80, test_size=0.20, \n",
        "                              stratify=df[target], random_state=2)\n",
        "#train, test의 비율 8/2\n",
        "#훈련데이터를 나눌 때 무작위로 샘플링을 하되, original dataset의 클래스 비율이 train, test set에서도 동일하게 유지되는 것을 보장한다\n",
        "\n",
        "train.shape, test.shape"
      ],
      "execution_count": 15,
      "outputs": [
        {
          "output_type": "execute_result",
          "data": {
            "text/plain": [
              "((242, 14), (61, 14))"
            ]
          },
          "metadata": {
            "tags": []
          },
          "execution_count": 15
        }
      ]
    },
    {
      "cell_type": "markdown",
      "metadata": {
        "id": "PfRxSN8rJu_f"
      },
      "source": [
        "#### 타켓의 비율 확인하기"
      ]
    },
    {
      "cell_type": "code",
      "metadata": {
        "colab": {
          "base_uri": "https://localhost:8080/"
        },
        "id": "EDOnP5UtJrzS",
        "outputId": "6e478e83-987a-4909-b747-2a59bda320b7"
      },
      "source": [
        "train[target].value_counts(normalize=True)"
      ],
      "execution_count": 16,
      "outputs": [
        {
          "output_type": "execute_result",
          "data": {
            "text/plain": [
              "1    0.545455\n",
              "0    0.454545\n",
              "Name: output, dtype: float64"
            ]
          },
          "metadata": {
            "tags": []
          },
          "execution_count": 16
        }
      ]
    },
    {
      "cell_type": "code",
      "metadata": {
        "id": "ytB1XaZFKLqA"
      },
      "source": [
        "features = train.drop(columns=[target]).columns\n",
        "\n",
        "X_train = train[features]\n",
        "y_train = train[target]\n",
        "\n",
        "X_test = test[features]\n",
        "y_test = test[target]"
      ],
      "execution_count": 18,
      "outputs": []
    },
    {
      "cell_type": "markdown",
      "metadata": {
        "id": "gGNGaLQDJ4xk"
      },
      "source": [
        "## 사이킷럿 파이프라인(Pipelines)\n",
        "\n",
        "- 여러 ML 모델을 같은 전처리 프로세스에 연결시킬 수 있음\n",
        "- 그리드서치(grid search)를 통해 여러 하이퍼파라미터를 쉽게 연결할 수 있음"
      ]
    },
    {
      "cell_type": "code",
      "metadata": {
        "colab": {
          "base_uri": "https://localhost:8080/"
        },
        "id": "SmQqHkdCJ0wn",
        "outputId": "1f125df4-69d9-4e49-96fc-a02575260f12"
      },
      "source": [
        "from sklearn.preprocessing import StandardScaler\n",
        "from sklearn.linear_model import LogisticRegression\n",
        "\n",
        "scaler = StandardScaler()\n",
        "model_lr = LogisticRegression(n_jobs=-1)\n",
        "\n",
        "X_train_scaled = scaler.fit_transform(X_train)\n",
        "model_lr.fit(X_train_scaled, y_train)\n",
        "\n",
        "X_test_scaled = scaler.transform(X_test)\n",
        "print('테스트세트 정확도', model_lr.score(X_test_scaled, y_test))"
      ],
      "execution_count": 41,
      "outputs": [
        {
          "output_type": "stream",
          "text": [
            "테스트세트 정확도 0.7868852459016393\n"
          ],
          "name": "stdout"
        }
      ]
    },
    {
      "cell_type": "code",
      "metadata": {
        "colab": {
          "base_uri": "https://localhost:8080/"
        },
        "id": "i-zReMfhK0Rj",
        "outputId": "a3f8916c-9f06-4b79-ac65-78bc18defc4a"
      },
      "source": [
        "#파이프라인 이용하기\n",
        "\n",
        "pipe = make_pipeline(\n",
        "    StandardScaler(),\n",
        "    LogisticRegression(n_jobs=-1)\n",
        ")\n",
        "\n",
        "pipe.fit(X_train,y_train)\n",
        "\n",
        "print('테스트세트 정확도', pipe.score(X_test, y_test))"
      ],
      "execution_count": 21,
      "outputs": [
        {
          "output_type": "stream",
          "text": [
            "테스트세트 정확도 0.7868852459016393\n"
          ],
          "name": "stdout"
        }
      ]
    },
    {
      "cell_type": "code",
      "metadata": {
        "colab": {
          "base_uri": "https://localhost:8080/"
        },
        "id": "dyjo6fLSLLc8",
        "outputId": "147e6bdf-63ca-4c83-8e04-4443f2765a05"
      },
      "source": [
        "y_pred = pipe.predict(X_test)\n",
        "y_pred"
      ],
      "execution_count": 23,
      "outputs": [
        {
          "output_type": "execute_result",
          "data": {
            "text/plain": [
              "array([0, 1, 1, 0, 0, 1, 0, 0, 1, 0, 1, 0, 0, 0, 1, 1, 0, 1, 0, 1, 1, 0,\n",
              "       1, 1, 0, 0, 0, 0, 1, 0, 1, 1, 1, 0, 0, 0, 1, 0, 0, 1, 0, 1, 1, 1,\n",
              "       1, 1, 1, 0, 1, 0, 0, 1, 0, 1, 1, 1, 0, 0, 1, 1, 1])"
            ]
          },
          "metadata": {
            "tags": []
          },
          "execution_count": 23
        }
      ]
    },
    {
      "cell_type": "code",
      "metadata": {
        "colab": {
          "base_uri": "https://localhost:8080/"
        },
        "id": "7L13YSy0LNN4",
        "outputId": "57bd4c94-8fa0-4ea8-a803-7effbcb002a2"
      },
      "source": [
        "#pipe 각 스텝에 접근하기\n",
        "pipe.named_steps"
      ],
      "execution_count": 24,
      "outputs": [
        {
          "output_type": "execute_result",
          "data": {
            "text/plain": [
              "{'logisticregression': LogisticRegression(C=1.0, class_weight=None, dual=False, fit_intercept=True,\n",
              "                    intercept_scaling=1, l1_ratio=None, max_iter=100,\n",
              "                    multi_class='auto', n_jobs=-1, penalty='l2',\n",
              "                    random_state=None, solver='lbfgs', tol=0.0001, verbose=0,\n",
              "                    warm_start=False),\n",
              " 'standardscaler': StandardScaler(copy=True, with_mean=True, with_std=True)}"
            ]
          },
          "metadata": {
            "tags": []
          },
          "execution_count": 24
        }
      ]
    },
    {
      "cell_type": "markdown",
      "metadata": {
        "id": "UaoOxyVJNFQW"
      },
      "source": [
        "#### 회귀계수 그래프 확인하기"
      ]
    },
    {
      "cell_type": "code",
      "metadata": {
        "colab": {
          "base_uri": "https://localhost:8080/",
          "height": 483
        },
        "id": "HXu36I6QMf9N",
        "outputId": "bf17e108-2fda-43ba-d929-48794fa66fc2"
      },
      "source": [
        "import matplotlib.pyplot as plt\n",
        "\n",
        "model_lr = pipe.named_steps['logisticregression']\n",
        "coefficients = pd.Series(model_lr.coef_[0], X_train.columns)\n",
        "plt.figure(figsize=(10,8))\n",
        " coefficients.sort_values().plot.barh();"
      ],
      "execution_count": 39,
      "outputs": [
        {
          "output_type": "display_data",
          "data": {
            "image/png": "[encoded data removed]",
            "text/plain": [
              "<Figure size 720x576 with 1 Axes>"
            ]
          },
          "metadata": {
            "tags": [],
            "needs_background": "light"
          }
        }
      ]
    },
    {
      "cell_type": "markdown",
      "metadata": {
        "id": "kZ6ytf4dNPYF"
      },
      "source": [
        "## 결정트리 모델\n",
        "- 특성들을 기준으로 샘플을 분류해 나가는데 그 형태가 나무의 가지가 뻗어나가는 모습과 비슷해서 결정트리라는 이름을 가지고 있음\n",
        "- 루트에 제일 중요한 특성이 위치하게 됨\n",
        "- 분류와 회귀문제 모두 적용 가능\n",
        "- 여러트리를 함께 사용하는 것이 앙상블 모델"
      ]
    },
    {
      "cell_type": "code",
      "metadata": {
        "colab": {
          "base_uri": "https://localhost:8080/"
        },
        "id": "vTUNOrvPMvAx",
        "outputId": "c20b5584-3889-4c23-a2dd-f18dbe5e4eb6"
      },
      "source": [
        "from sklearn.tree import DecisionTreeClassifier\n",
        "\n",
        "pipe = make_pipeline(\n",
        "    #OneHotEncoder(use_cat_names=True), \n",
        "    #SimpleImputer(), \n",
        "    DecisionTreeClassifier(random_state=2, criterion='entropy') #best 파라미터를 쓰면 모든 경우의 수를 계산해게 됨\n",
        "    #entropy 디폴트는 지니 \n",
        ")\n",
        "\n",
        "pipe.fit(X_train, y_train)\n",
        "print('훈련 정확도: ', pipe.score(X_train, y_train))\n",
        "print('테스트 정확도: ', pipe.score(X_test, y_test))"
      ],
      "execution_count": 43,
      "outputs": [
        {
          "output_type": "stream",
          "text": [
            "훈련 정확도:  1.0\n",
            "테스트 정확도:  0.6557377049180327\n"
          ],
          "name": "stdout"
        }
      ]
    },
    {
      "cell_type": "markdown",
      "metadata": {
        "id": "8DlNtuGBN42I"
      },
      "source": [
        "과적합 했음을 알 수 있다.\n",
        "\n",
        "- 과적합 : 훈련데이터에서는 좋은 성능을 보이지만 테스트 데이터에서는 현저히 성능이 떨어지는 모델\n",
        "\n",
        "- 과소적합 : 훈련데이터의 성능이 좋지않은 모델"
      ]
    },
    {
      "cell_type": "code",
      "metadata": {
        "colab": {
          "base_uri": "https://localhost:8080/"
        },
        "id": "UQuQW2xZNzgA",
        "outputId": "dd5118bc-dc0e-4f08-cda7-239f2b20879f"
      },
      "source": [
        "y_test.value_counts(normalize=True)\n",
        "#찍은 것 보다는 좀 나은듯"
      ],
      "execution_count": 44,
      "outputs": [
        {
          "output_type": "execute_result",
          "data": {
            "text/plain": [
              "1    0.540984\n",
              "0    0.459016\n",
              "Name: output, dtype: float64"
            ]
          },
          "metadata": {
            "tags": []
          },
          "execution_count": 44
        }
      ]
    },
    {
      "cell_type": "markdown",
      "metadata": {
        "id": "66RUaGcAOnuI"
      },
      "source": [
        "**만들어진 트리를 확인해보자**"
      ]
    },
    {
      "cell_type": "code",
      "metadata": {
        "colab": {
          "base_uri": "https://localhost:8080/",
          "height": 733
        },
        "id": "oRztNElmOSR4",
        "outputId": "c4570855-a154-4869-c952-9bae9dd1e65e"
      },
      "source": [
        "# graphviz 설치방법: conda install -c conda-forge python-graphviz\n",
        "import graphviz\n",
        "from sklearn.tree import export_graphviz\n",
        "\n",
        "model_dt = pipe.named_steps['decisiontreeclassifier']\n",
        "columns = X_test.columns\n",
        "\n",
        "dot_data = export_graphviz(model_dt\n",
        "                          , max_depth=3 #3층까지만, 안정해두면 너무 거대한 트리를 생성하게 됨\n",
        "                          , feature_names=columns\n",
        "                          , class_names=['no', 'yes']\n",
        "                          , filled=True\n",
        "                          , proportion=True)\n",
        "\n",
        "\n",
        "display(graphviz.Source(dot_data))\n",
        "\n",
        "#0.5라지만 float이라 이런거임 0,1로 나눠줘야하는디 ;! 상관은 없음"
      ],
      "execution_count": 50,
      "outputs": [
        {
          "output_type": "display_data",
          "data": {
            "text/plain": [
              "<graphviz.files.Source at 0x7fbcd846cfd0>"
            ],
            "image/svg+xml": "<?xml version=\"1.0\" encoding=\"UTF-8\" standalone=\"no\"?>\n<!DOCTYPE svg PUBLIC \"-//W3C//DTD SVG 1.1//EN\"\n \"http://www.w3.org/Graphics/SVG/1.1/DTD/svg11.dtd\">\n<!-- Generated by graphviz version 2.40.1 (20161225.0304)\n -->\n<!-- Title: Tree Pages: 1 -->\n<svg width=\"1265pt\" height=\"520pt\"\n viewBox=\"0.00 0.00 1265.00 520.00\" xmlns=\"http://www.w3.org/2000/svg\" xmlns:xlink=\"http://www.w3.org/1999/xlink\">\n<g id=\"graph0\" class=\"graph\" transform=\"scale(1 1) rotate(0) translate(4 516)\">\n<title>Tree</title>\n<polygon fill=\"#ffffff\" stroke=\"transparent\" points=\"-4,4 -4,-516 1261,-516 1261,4 -4,4\"/>\n<!-- 0 -->\n<g id=\"node1\" class=\"node\">\n<title>0</title>\n<polygon fill=\"#deeffb\" stroke=\"#000000\" points=\"679,-512 532,-512 532,-429 679,-429 679,-512\"/>\n<text text-anchor=\"middle\" x=\"605.5\" y=\"-496.8\" font-family=\"Times,serif\" font-size=\"14.00\" fill=\"#000000\">cp &lt;= 0.5</text>\n<text text-anchor=\"middle\" x=\"605.5\" y=\"-481.8\" font-family=\"Times,serif\" font-size=\"14.00\" fill=\"#000000\">entropy = 0.994</text>\n<text text-anchor=\"middle\" x=\"605.5\" y=\"-466.8\" font-family=\"Times,serif\" font-size=\"14.00\" fill=\"#000000\">samples = 100.0%</text>\n<text text-anchor=\"middle\" x=\"605.5\" y=\"-451.8\" font-family=\"Times,serif\" font-size=\"14.00\" fill=\"#000000\">value = [0.455, 0.545]</text>\n<text text-anchor=\"middle\" x=\"605.5\" y=\"-436.8\" font-family=\"Times,serif\" font-size=\"14.00\" fill=\"#000000\">class = yes</text>\n</g>\n<!-- 1 -->\n<g id=\"node2\" class=\"node\">\n<title>1</title>\n<polygon fill=\"#eeab7a\" stroke=\"#000000\" points=\"533,-393 386,-393 386,-310 533,-310 533,-393\"/>\n<text text-anchor=\"middle\" x=\"459.5\" y=\"-377.8\" font-family=\"Times,serif\" font-size=\"14.00\" fill=\"#000000\">caa &lt;= 0.5</text>\n<text text-anchor=\"middle\" x=\"459.5\" y=\"-362.8\" font-family=\"Times,serif\" font-size=\"14.00\" fill=\"#000000\">entropy = 0.808</text>\n<text text-anchor=\"middle\" x=\"459.5\" y=\"-347.8\" font-family=\"Times,serif\" font-size=\"14.00\" fill=\"#000000\">samples = 46.7%</text>\n<text text-anchor=\"middle\" x=\"459.5\" y=\"-332.8\" font-family=\"Times,serif\" font-size=\"14.00\" fill=\"#000000\">value = [0.752, 0.248]</text>\n<text text-anchor=\"middle\" x=\"459.5\" y=\"-317.8\" font-family=\"Times,serif\" font-size=\"14.00\" fill=\"#000000\">class = no</text>\n</g>\n<!-- 0&#45;&gt;1 -->\n<g id=\"edge1\" class=\"edge\">\n<title>0&#45;&gt;1</title>\n<path fill=\"none\" stroke=\"#000000\" d=\"M554.4363,-428.8796C542.9445,-419.513 530.6532,-409.4948 518.855,-399.8784\"/>\n<polygon fill=\"#000000\" stroke=\"#000000\" points=\"520.7444,-396.903 510.7817,-393.2981 516.3218,-402.329 520.7444,-396.903\"/>\n<text text-anchor=\"middle\" x=\"513.3157\" y=\"-414.4693\" font-family=\"Times,serif\" font-size=\"14.00\" fill=\"#000000\">True</text>\n</g>\n<!-- 30 -->\n<g id=\"node15\" class=\"node\">\n<title>30</title>\n<polygon fill=\"#69b5eb\" stroke=\"#000000\" points=\"844,-393 697,-393 697,-310 844,-310 844,-393\"/>\n<text text-anchor=\"middle\" x=\"770.5\" y=\"-377.8\" font-family=\"Times,serif\" font-size=\"14.00\" fill=\"#000000\">age &lt;= 56.5</text>\n<text text-anchor=\"middle\" x=\"770.5\" y=\"-362.8\" font-family=\"Times,serif\" font-size=\"14.00\" fill=\"#000000\">entropy = 0.709</text>\n<text text-anchor=\"middle\" x=\"770.5\" y=\"-347.8\" font-family=\"Times,serif\" font-size=\"14.00\" fill=\"#000000\">samples = 53.3%</text>\n<text text-anchor=\"middle\" x=\"770.5\" y=\"-332.8\" font-family=\"Times,serif\" font-size=\"14.00\" fill=\"#000000\">value = [0.194, 0.806]</text>\n<text text-anchor=\"middle\" x=\"770.5\" y=\"-317.8\" font-family=\"Times,serif\" font-size=\"14.00\" fill=\"#000000\">class = yes</text>\n</g>\n<!-- 0&#45;&gt;30 -->\n<g id=\"edge14\" class=\"edge\">\n<title>0&#45;&gt;30</title>\n<path fill=\"none\" stroke=\"#000000\" d=\"M663.209,-428.8796C676.523,-419.2774 690.7866,-408.9903 704.4259,-399.1534\"/>\n<polygon fill=\"#000000\" stroke=\"#000000\" points=\"706.7602,-401.7852 712.8236,-393.0969 702.6655,-396.1077 706.7602,-401.7852\"/>\n<text text-anchor=\"middle\" x=\"708.8264\" y=\"-414.0753\" font-family=\"Times,serif\" font-size=\"14.00\" fill=\"#000000\">False</text>\n</g>\n<!-- 2 -->\n<g id=\"node3\" class=\"node\">\n<title>2</title>\n<polygon fill=\"#e9f4fc\" stroke=\"#000000\" points=\"305,-274 158,-274 158,-191 305,-191 305,-274\"/>\n<text text-anchor=\"middle\" x=\"231.5\" y=\"-258.8\" font-family=\"Times,serif\" font-size=\"14.00\" fill=\"#000000\">thall &lt;= 2.5</text>\n<text text-anchor=\"middle\" x=\"231.5\" y=\"-243.8\" font-family=\"Times,serif\" font-size=\"14.00\" fill=\"#000000\">entropy = 0.998</text>\n<text text-anchor=\"middle\" x=\"231.5\" y=\"-228.8\" font-family=\"Times,serif\" font-size=\"14.00\" fill=\"#000000\">samples = 21.1%</text>\n<text text-anchor=\"middle\" x=\"231.5\" y=\"-213.8\" font-family=\"Times,serif\" font-size=\"14.00\" fill=\"#000000\">value = [0.471, 0.529]</text>\n<text text-anchor=\"middle\" x=\"231.5\" y=\"-198.8\" font-family=\"Times,serif\" font-size=\"14.00\" fill=\"#000000\">class = yes</text>\n</g>\n<!-- 1&#45;&gt;2 -->\n<g id=\"edge2\" class=\"edge\">\n<title>1&#45;&gt;2</title>\n<path fill=\"none\" stroke=\"#000000\" d=\"M385.7898,-313.0284C362.9473,-301.1063 337.6281,-287.8914 314.2168,-275.6723\"/>\n<polygon fill=\"#000000\" stroke=\"#000000\" points=\"315.8313,-272.567 305.3467,-271.0428 312.5924,-278.7726 315.8313,-272.567\"/>\n</g>\n<!-- 23 -->\n<g id=\"node10\" class=\"node\">\n<title>23</title>\n<polygon fill=\"#e5833c\" stroke=\"#000000\" points=\"533,-274 386,-274 386,-191 533,-191 533,-274\"/>\n<text text-anchor=\"middle\" x=\"459.5\" y=\"-258.8\" font-family=\"Times,serif\" font-size=\"14.00\" fill=\"#000000\">sex &lt;= 0.5</text>\n<text text-anchor=\"middle\" x=\"459.5\" y=\"-243.8\" font-family=\"Times,serif\" font-size=\"14.00\" fill=\"#000000\">entropy = 0.119</text>\n<text text-anchor=\"middle\" x=\"459.5\" y=\"-228.8\" font-family=\"Times,serif\" font-size=\"14.00\" fill=\"#000000\">samples = 25.6%</text>\n<text text-anchor=\"middle\" x=\"459.5\" y=\"-213.8\" font-family=\"Times,serif\" font-size=\"14.00\" fill=\"#000000\">value = [0.984, 0.016]</text>\n<text text-anchor=\"middle\" x=\"459.5\" y=\"-198.8\" font-family=\"Times,serif\" font-size=\"14.00\" fill=\"#000000\">class = no</text>\n</g>\n<!-- 1&#45;&gt;23 -->\n<g id=\"edge9\" class=\"edge\">\n<title>1&#45;&gt;23</title>\n<path fill=\"none\" stroke=\"#000000\" d=\"M459.5,-309.8796C459.5,-301.6838 459.5,-292.9891 459.5,-284.5013\"/>\n<polygon fill=\"#000000\" stroke=\"#000000\" points=\"463.0001,-284.298 459.5,-274.2981 456.0001,-284.2981 463.0001,-284.298\"/>\n</g>\n<!-- 3 -->\n<g id=\"node4\" class=\"node\">\n<title>3</title>\n<polygon fill=\"#75bbed\" stroke=\"#000000\" points=\"147,-155 0,-155 0,-72 147,-72 147,-155\"/>\n<text text-anchor=\"middle\" x=\"73.5\" y=\"-139.8\" font-family=\"Times,serif\" font-size=\"14.00\" fill=\"#000000\">exng &lt;= 0.5</text>\n<text text-anchor=\"middle\" x=\"73.5\" y=\"-124.8\" font-family=\"Times,serif\" font-size=\"14.00\" fill=\"#000000\">entropy = 0.784</text>\n<text text-anchor=\"middle\" x=\"73.5\" y=\"-109.8\" font-family=\"Times,serif\" font-size=\"14.00\" fill=\"#000000\">samples = 12.4%</text>\n<text text-anchor=\"middle\" x=\"73.5\" y=\"-94.8\" font-family=\"Times,serif\" font-size=\"14.00\" fill=\"#000000\">value = [0.233, 0.767]</text>\n<text text-anchor=\"middle\" x=\"73.5\" y=\"-79.8\" font-family=\"Times,serif\" font-size=\"14.00\" fill=\"#000000\">class = yes</text>\n</g>\n<!-- 2&#45;&gt;3 -->\n<g id=\"edge3\" class=\"edge\">\n<title>2&#45;&gt;3</title>\n<path fill=\"none\" stroke=\"#000000\" d=\"M176.2393,-190.8796C163.4901,-181.2774 149.8317,-170.9903 136.7709,-161.1534\"/>\n<polygon fill=\"#000000\" stroke=\"#000000\" points=\"138.8231,-158.3174 128.7295,-155.0969 134.6117,-163.9089 138.8231,-158.3174\"/>\n</g>\n<!-- 16 -->\n<g id=\"node7\" class=\"node\">\n<title>16</title>\n<polygon fill=\"#eb9f68\" stroke=\"#000000\" points=\"297.5,-155 165.5,-155 165.5,-72 297.5,-72 297.5,-155\"/>\n<text text-anchor=\"middle\" x=\"231.5\" y=\"-139.8\" font-family=\"Times,serif\" font-size=\"14.00\" fill=\"#000000\">oldpeak &lt;= 0.65</text>\n<text text-anchor=\"middle\" x=\"231.5\" y=\"-124.8\" font-family=\"Times,serif\" font-size=\"14.00\" fill=\"#000000\">entropy = 0.702</text>\n<text text-anchor=\"middle\" x=\"231.5\" y=\"-109.8\" font-family=\"Times,serif\" font-size=\"14.00\" fill=\"#000000\">samples = 8.7%</text>\n<text text-anchor=\"middle\" x=\"231.5\" y=\"-94.8\" font-family=\"Times,serif\" font-size=\"14.00\" fill=\"#000000\">value = [0.81, 0.19]</text>\n<text text-anchor=\"middle\" x=\"231.5\" y=\"-79.8\" font-family=\"Times,serif\" font-size=\"14.00\" fill=\"#000000\">class = no</text>\n</g>\n<!-- 2&#45;&gt;16 -->\n<g id=\"edge6\" class=\"edge\">\n<title>2&#45;&gt;16</title>\n<path fill=\"none\" stroke=\"#000000\" d=\"M231.5,-190.8796C231.5,-182.6838 231.5,-173.9891 231.5,-165.5013\"/>\n<polygon fill=\"#000000\" stroke=\"#000000\" points=\"235.0001,-165.298 231.5,-155.2981 228.0001,-165.2981 235.0001,-165.298\"/>\n</g>\n<!-- 4 -->\n<g id=\"node5\" class=\"node\">\n<title>4</title>\n<polygon fill=\"#c0c0c0\" stroke=\"#000000\" points=\"64.5,-36 10.5,-36 10.5,0 64.5,0 64.5,-36\"/>\n<text text-anchor=\"middle\" x=\"37.5\" y=\"-14.3\" font-family=\"Times,serif\" font-size=\"14.00\" fill=\"#000000\">(...)</text>\n</g>\n<!-- 3&#45;&gt;4 -->\n<g id=\"edge4\" class=\"edge\">\n<title>3&#45;&gt;4</title>\n<path fill=\"none\" stroke=\"#000000\" d=\"M57.8146,-71.8901C54.4739,-63.0279 51.025,-53.8788 47.9386,-45.6913\"/>\n<polygon fill=\"#000000\" stroke=\"#000000\" points=\"51.1877,-44.3878 44.3853,-36.2651 44.6376,-46.8569 51.1877,-44.3878\"/>\n</g>\n<!-- 9 -->\n<g id=\"node6\" class=\"node\">\n<title>9</title>\n<polygon fill=\"#c0c0c0\" stroke=\"#000000\" points=\"136.5,-36 82.5,-36 82.5,0 136.5,0 136.5,-36\"/>\n<text text-anchor=\"middle\" x=\"109.5\" y=\"-14.3\" font-family=\"Times,serif\" font-size=\"14.00\" fill=\"#000000\">(...)</text>\n</g>\n<!-- 3&#45;&gt;9 -->\n<g id=\"edge5\" class=\"edge\">\n<title>3&#45;&gt;9</title>\n<path fill=\"none\" stroke=\"#000000\" d=\"M89.1854,-71.8901C92.5261,-63.0279 95.975,-53.8788 99.0614,-45.6913\"/>\n<polygon fill=\"#000000\" stroke=\"#000000\" points=\"102.3624,-46.8569 102.6147,-36.2651 95.8123,-44.3878 102.3624,-46.8569\"/>\n</g>\n<!-- 17 -->\n<g id=\"node8\" class=\"node\">\n<title>17</title>\n<polygon fill=\"#c0c0c0\" stroke=\"#000000\" points=\"233.5,-36 179.5,-36 179.5,0 233.5,0 233.5,-36\"/>\n<text text-anchor=\"middle\" x=\"206.5\" y=\"-14.3\" font-family=\"Times,serif\" font-size=\"14.00\" fill=\"#000000\">(...)</text>\n</g>\n<!-- 16&#45;&gt;17 -->\n<g id=\"edge7\" class=\"edge\">\n<title>16&#45;&gt;17</title>\n<path fill=\"none\" stroke=\"#000000\" d=\"M220.6074,-71.8901C218.3129,-63.1253 215.945,-54.0798 213.8198,-45.9615\"/>\n<polygon fill=\"#000000\" stroke=\"#000000\" points=\"217.1999,-45.0527 211.2814,-36.2651 210.4281,-46.8255 217.1999,-45.0527\"/>\n</g>\n<!-- 22 -->\n<g id=\"node9\" class=\"node\">\n<title>22</title>\n<polygon fill=\"#c0c0c0\" stroke=\"#000000\" points=\"305.5,-36 251.5,-36 251.5,0 305.5,0 305.5,-36\"/>\n<text text-anchor=\"middle\" x=\"278.5\" y=\"-14.3\" font-family=\"Times,serif\" font-size=\"14.00\" fill=\"#000000\">(...)</text>\n</g>\n<!-- 16&#45;&gt;22 -->\n<g id=\"edge8\" class=\"edge\">\n<title>16&#45;&gt;22</title>\n<path fill=\"none\" stroke=\"#000000\" d=\"M251.9782,-71.8901C256.3876,-62.9305 260.9414,-53.6777 265.0045,-45.4217\"/>\n<polygon fill=\"#000000\" stroke=\"#000000\" points=\"268.2355,-46.7829 269.5109,-36.2651 261.9549,-43.6919 268.2355,-46.7829\"/>\n</g>\n<!-- 24 -->\n<g id=\"node11\" class=\"node\">\n<title>24</title>\n<polygon fill=\"#e89152\" stroke=\"#000000\" points=\"461.5,-155 315.5,-155 315.5,-72 461.5,-72 461.5,-155\"/>\n<text text-anchor=\"middle\" x=\"388.5\" y=\"-139.8\" font-family=\"Times,serif\" font-size=\"14.00\" fill=\"#000000\">age &lt;= 63.5</text>\n<text text-anchor=\"middle\" x=\"388.5\" y=\"-124.8\" font-family=\"Times,serif\" font-size=\"14.00\" fill=\"#000000\">entropy = 0.503</text>\n<text text-anchor=\"middle\" x=\"388.5\" y=\"-109.8\" font-family=\"Times,serif\" font-size=\"14.00\" fill=\"#000000\">samples = 3.7%</text>\n<text text-anchor=\"middle\" x=\"388.5\" y=\"-94.8\" font-family=\"Times,serif\" font-size=\"14.00\" fill=\"#000000\">value = [0.889, 0.111]</text>\n<text text-anchor=\"middle\" x=\"388.5\" y=\"-79.8\" font-family=\"Times,serif\" font-size=\"14.00\" fill=\"#000000\">class = no</text>\n</g>\n<!-- 23&#45;&gt;24 -->\n<g id=\"edge10\" class=\"edge\">\n<title>23&#45;&gt;24</title>\n<path fill=\"none\" stroke=\"#000000\" d=\"M434.6676,-190.8796C429.5091,-182.2335 424.0192,-173.0322 418.6924,-164.1042\"/>\n<polygon fill=\"#000000\" stroke=\"#000000\" points=\"421.5678,-162.0924 413.4383,-155.2981 415.5564,-165.679 421.5678,-162.0924\"/>\n</g>\n<!-- 29 -->\n<g id=\"node14\" class=\"node\">\n<title>29</title>\n<polygon fill=\"#e58139\" stroke=\"#000000\" points=\"597,-147.5 480,-147.5 480,-79.5 597,-79.5 597,-147.5\"/>\n<text text-anchor=\"middle\" x=\"538.5\" y=\"-132.3\" font-family=\"Times,serif\" font-size=\"14.00\" fill=\"#000000\">entropy = 0.0</text>\n<text text-anchor=\"middle\" x=\"538.5\" y=\"-117.3\" font-family=\"Times,serif\" font-size=\"14.00\" fill=\"#000000\">samples = 21.9%</text>\n<text text-anchor=\"middle\" x=\"538.5\" y=\"-102.3\" font-family=\"Times,serif\" font-size=\"14.00\" fill=\"#000000\">value = [1.0, 0.0]</text>\n<text text-anchor=\"middle\" x=\"538.5\" y=\"-87.3\" font-family=\"Times,serif\" font-size=\"14.00\" fill=\"#000000\">class = no</text>\n</g>\n<!-- 23&#45;&gt;29 -->\n<g id=\"edge13\" class=\"edge\">\n<title>23&#45;&gt;29</title>\n<path fill=\"none\" stroke=\"#000000\" d=\"M487.1304,-190.8796C494.5763,-179.6636 502.6425,-167.5131 510.1282,-156.2372\"/>\n<polygon fill=\"#000000\" stroke=\"#000000\" points=\"513.1046,-158.082 515.7195,-147.8149 507.2727,-154.2104 513.1046,-158.082\"/>\n</g>\n<!-- 25 -->\n<g id=\"node12\" class=\"node\">\n<title>25</title>\n<polygon fill=\"#c0c0c0\" stroke=\"#000000\" points=\"396.5,-36 342.5,-36 342.5,0 396.5,0 396.5,-36\"/>\n<text text-anchor=\"middle\" x=\"369.5\" y=\"-14.3\" font-family=\"Times,serif\" font-size=\"14.00\" fill=\"#000000\">(...)</text>\n</g>\n<!-- 24&#45;&gt;25 -->\n<g id=\"edge11\" class=\"edge\">\n<title>24&#45;&gt;25</title>\n<path fill=\"none\" stroke=\"#000000\" d=\"M380.2216,-71.8901C378.4972,-63.2227 376.7182,-54.2808 375.1169,-46.2325\"/>\n<polygon fill=\"#000000\" stroke=\"#000000\" points=\"378.518,-45.3899 373.1339,-36.2651 371.6525,-46.7559 378.518,-45.3899\"/>\n</g>\n<!-- 26 -->\n<g id=\"node13\" class=\"node\">\n<title>26</title>\n<polygon fill=\"#c0c0c0\" stroke=\"#000000\" points=\"468.5,-36 414.5,-36 414.5,0 468.5,0 468.5,-36\"/>\n<text text-anchor=\"middle\" x=\"441.5\" y=\"-14.3\" font-family=\"Times,serif\" font-size=\"14.00\" fill=\"#000000\">(...)</text>\n</g>\n<!-- 24&#45;&gt;26 -->\n<g id=\"edge12\" class=\"edge\">\n<title>24&#45;&gt;26</title>\n<path fill=\"none\" stroke=\"#000000\" d=\"M411.5924,-71.8901C416.6188,-62.8331 421.8115,-53.4765 426.4309,-45.1528\"/>\n<polygon fill=\"#000000\" stroke=\"#000000\" points=\"429.5711,-46.7073 431.3633,-36.2651 423.4504,-43.3104 429.5711,-46.7073\"/>\n</g>\n<!-- 31 -->\n<g id=\"node16\" class=\"node\">\n<title>31</title>\n<polygon fill=\"#4ca7e8\" stroke=\"#000000\" points=\"843.5,-274 697.5,-274 697.5,-191 843.5,-191 843.5,-274\"/>\n<text text-anchor=\"middle\" x=\"770.5\" y=\"-258.8\" font-family=\"Times,serif\" font-size=\"14.00\" fill=\"#000000\">thall &lt;= 2.5</text>\n<text text-anchor=\"middle\" x=\"770.5\" y=\"-243.8\" font-family=\"Times,serif\" font-size=\"14.00\" fill=\"#000000\">entropy = 0.432</text>\n<text text-anchor=\"middle\" x=\"770.5\" y=\"-228.8\" font-family=\"Times,serif\" font-size=\"14.00\" fill=\"#000000\">samples = 32.6%</text>\n<text text-anchor=\"middle\" x=\"770.5\" y=\"-213.8\" font-family=\"Times,serif\" font-size=\"14.00\" fill=\"#000000\">value = [0.089, 0.911]</text>\n<text text-anchor=\"middle\" x=\"770.5\" y=\"-198.8\" font-family=\"Times,serif\" font-size=\"14.00\" fill=\"#000000\">class = yes</text>\n</g>\n<!-- 30&#45;&gt;31 -->\n<g id=\"edge15\" class=\"edge\">\n<title>30&#45;&gt;31</title>\n<path fill=\"none\" stroke=\"#000000\" d=\"M770.5,-309.8796C770.5,-301.6838 770.5,-292.9891 770.5,-284.5013\"/>\n<polygon fill=\"#000000\" stroke=\"#000000\" points=\"774.0001,-284.298 770.5,-274.2981 767.0001,-284.2981 774.0001,-284.298\"/>\n</g>\n<!-- 50 -->\n<g id=\"node23\" class=\"node\">\n<title>50</title>\n<polygon fill=\"#a8d4f4\" stroke=\"#000000\" points=\"1084.5,-274 952.5,-274 952.5,-191 1084.5,-191 1084.5,-274\"/>\n<text text-anchor=\"middle\" x=\"1018.5\" y=\"-258.8\" font-family=\"Times,serif\" font-size=\"14.00\" fill=\"#000000\">sex &lt;= 0.5</text>\n<text text-anchor=\"middle\" x=\"1018.5\" y=\"-243.8\" font-family=\"Times,serif\" font-size=\"14.00\" fill=\"#000000\">entropy = 0.943</text>\n<text text-anchor=\"middle\" x=\"1018.5\" y=\"-228.8\" font-family=\"Times,serif\" font-size=\"14.00\" fill=\"#000000\">samples = 20.7%</text>\n<text text-anchor=\"middle\" x=\"1018.5\" y=\"-213.8\" font-family=\"Times,serif\" font-size=\"14.00\" fill=\"#000000\">value = [0.36, 0.64]</text>\n<text text-anchor=\"middle\" x=\"1018.5\" y=\"-198.8\" font-family=\"Times,serif\" font-size=\"14.00\" fill=\"#000000\">class = yes</text>\n</g>\n<!-- 30&#45;&gt;50 -->\n<g id=\"edge22\" class=\"edge\">\n<title>30&#45;&gt;50</title>\n<path fill=\"none\" stroke=\"#000000\" d=\"M844.2367,-316.1183C875.4253,-301.1528 911.7207,-283.7369 943.0884,-268.6854\"/>\n<polygon fill=\"#000000\" stroke=\"#000000\" points=\"944.7222,-271.7836 952.2239,-264.3019 941.6939,-265.4725 944.7222,-271.7836\"/>\n</g>\n<!-- 32 -->\n<g id=\"node17\" class=\"node\">\n<title>32</title>\n<polygon fill=\"#3fa0e6\" stroke=\"#000000\" points=\"762,-155 615,-155 615,-72 762,-72 762,-155\"/>\n<text text-anchor=\"middle\" x=\"688.5\" y=\"-139.8\" font-family=\"Times,serif\" font-size=\"14.00\" fill=\"#000000\">thalachh &lt;= 152.5</text>\n<text text-anchor=\"middle\" x=\"688.5\" y=\"-124.8\" font-family=\"Times,serif\" font-size=\"14.00\" fill=\"#000000\">entropy = 0.198</text>\n<text text-anchor=\"middle\" x=\"688.5\" y=\"-109.8\" font-family=\"Times,serif\" font-size=\"14.00\" fill=\"#000000\">samples = 26.9%</text>\n<text text-anchor=\"middle\" x=\"688.5\" y=\"-94.8\" font-family=\"Times,serif\" font-size=\"14.00\" fill=\"#000000\">value = [0.031, 0.969]</text>\n<text text-anchor=\"middle\" x=\"688.5\" y=\"-79.8\" font-family=\"Times,serif\" font-size=\"14.00\" fill=\"#000000\">class = yes</text>\n</g>\n<!-- 31&#45;&gt;32 -->\n<g id=\"edge16\" class=\"edge\">\n<title>31&#45;&gt;32</title>\n<path fill=\"none\" stroke=\"#000000\" d=\"M741.8204,-190.8796C735.7385,-182.0534 729.2578,-172.6485 722.9859,-163.5466\"/>\n<polygon fill=\"#000000\" stroke=\"#000000\" points=\"725.8582,-161.5465 717.302,-155.2981 720.0941,-165.5184 725.8582,-161.5465\"/>\n</g>\n<!-- 41 -->\n<g id=\"node20\" class=\"node\">\n<title>41</title>\n<polygon fill=\"#a7d3f3\" stroke=\"#000000\" points=\"927,-155 780,-155 780,-72 927,-72 927,-155\"/>\n<text text-anchor=\"middle\" x=\"853.5\" y=\"-139.8\" font-family=\"Times,serif\" font-size=\"14.00\" fill=\"#000000\">chol &lt;= 228.0</text>\n<text text-anchor=\"middle\" x=\"853.5\" y=\"-124.8\" font-family=\"Times,serif\" font-size=\"14.00\" fill=\"#000000\">entropy = 0.94</text>\n<text text-anchor=\"middle\" x=\"853.5\" y=\"-109.8\" font-family=\"Times,serif\" font-size=\"14.00\" fill=\"#000000\">samples = 5.8%</text>\n<text text-anchor=\"middle\" x=\"853.5\" y=\"-94.8\" font-family=\"Times,serif\" font-size=\"14.00\" fill=\"#000000\">value = [0.357, 0.643]</text>\n<text text-anchor=\"middle\" x=\"853.5\" y=\"-79.8\" font-family=\"Times,serif\" font-size=\"14.00\" fill=\"#000000\">class = yes</text>\n</g>\n<!-- 31&#45;&gt;41 -->\n<g id=\"edge19\" class=\"edge\">\n<title>31&#45;&gt;41</title>\n<path fill=\"none\" stroke=\"#000000\" d=\"M799.5294,-190.8796C805.6855,-182.0534 812.2451,-172.6485 818.5936,-163.5466\"/>\n<polygon fill=\"#000000\" stroke=\"#000000\" points=\"821.4967,-165.5024 824.3467,-155.2981 815.7552,-161.4978 821.4967,-165.5024\"/>\n</g>\n<!-- 33 -->\n<g id=\"node18\" class=\"node\">\n<title>33</title>\n<polygon fill=\"#c0c0c0\" stroke=\"#000000\" points=\"653.5,-36 599.5,-36 599.5,0 653.5,0 653.5,-36\"/>\n<text text-anchor=\"middle\" x=\"626.5\" y=\"-14.3\" font-family=\"Times,serif\" font-size=\"14.00\" fill=\"#000000\">(...)</text>\n</g>\n<!-- 32&#45;&gt;33 -->\n<g id=\"edge17\" class=\"edge\">\n<title>32&#45;&gt;33</title>\n<path fill=\"none\" stroke=\"#000000\" d=\"M661.4863,-71.8901C655.5431,-62.7357 649.4012,-53.2752 643.9539,-44.8847\"/>\n<polygon fill=\"#000000\" stroke=\"#000000\" points=\"646.7389,-42.7467 638.358,-36.2651 640.8677,-46.5584 646.7389,-42.7467\"/>\n</g>\n<!-- 40 -->\n<g id=\"node19\" class=\"node\">\n<title>40</title>\n<polygon fill=\"#c0c0c0\" stroke=\"#000000\" points=\"725.5,-36 671.5,-36 671.5,0 725.5,0 725.5,-36\"/>\n<text text-anchor=\"middle\" x=\"698.5\" y=\"-14.3\" font-family=\"Times,serif\" font-size=\"14.00\" fill=\"#000000\">(...)</text>\n</g>\n<!-- 32&#45;&gt;40 -->\n<g id=\"edge18\" class=\"edge\">\n<title>32&#45;&gt;40</title>\n<path fill=\"none\" stroke=\"#000000\" d=\"M692.8571,-71.8901C693.7646,-63.2227 694.701,-54.2808 695.5437,-46.2325\"/>\n<polygon fill=\"#000000\" stroke=\"#000000\" points=\"699.0269,-46.5753 696.5874,-36.2651 692.0649,-45.8462 699.0269,-46.5753\"/>\n</g>\n<!-- 42 -->\n<g id=\"node21\" class=\"node\">\n<title>42</title>\n<polygon fill=\"#c0c0c0\" stroke=\"#000000\" points=\"818.5,-36 764.5,-36 764.5,0 818.5,0 818.5,-36\"/>\n<text text-anchor=\"middle\" x=\"791.5\" y=\"-14.3\" font-family=\"Times,serif\" font-size=\"14.00\" fill=\"#000000\">(...)</text>\n</g>\n<!-- 41&#45;&gt;42 -->\n<g id=\"edge20\" class=\"edge\">\n<title>41&#45;&gt;42</title>\n<path fill=\"none\" stroke=\"#000000\" d=\"M826.4863,-71.8901C820.5431,-62.7357 814.4012,-53.2752 808.9539,-44.8847\"/>\n<polygon fill=\"#000000\" stroke=\"#000000\" points=\"811.7389,-42.7467 803.358,-36.2651 805.8677,-46.5584 811.7389,-42.7467\"/>\n</g>\n<!-- 43 -->\n<g id=\"node22\" class=\"node\">\n<title>43</title>\n<polygon fill=\"#c0c0c0\" stroke=\"#000000\" points=\"890.5,-36 836.5,-36 836.5,0 890.5,0 890.5,-36\"/>\n<text text-anchor=\"middle\" x=\"863.5\" y=\"-14.3\" font-family=\"Times,serif\" font-size=\"14.00\" fill=\"#000000\">(...)</text>\n</g>\n<!-- 41&#45;&gt;43 -->\n<g id=\"edge21\" class=\"edge\">\n<title>41&#45;&gt;43</title>\n<path fill=\"none\" stroke=\"#000000\" d=\"M857.8571,-71.8901C858.7646,-63.2227 859.701,-54.2808 860.5437,-46.2325\"/>\n<polygon fill=\"#000000\" stroke=\"#000000\" points=\"864.0269,-46.5753 861.5874,-36.2651 857.0649,-45.8462 864.0269,-46.5753\"/>\n</g>\n<!-- 51 -->\n<g id=\"node24\" class=\"node\">\n<title>51</title>\n<polygon fill=\"#4ea7e8\" stroke=\"#000000\" points=\"1092,-155 945,-155 945,-72 1092,-72 1092,-155\"/>\n<text text-anchor=\"middle\" x=\"1018.5\" y=\"-139.8\" font-family=\"Times,serif\" font-size=\"14.00\" fill=\"#000000\">age &lt;= 59.0</text>\n<text text-anchor=\"middle\" x=\"1018.5\" y=\"-124.8\" font-family=\"Times,serif\" font-size=\"14.00\" fill=\"#000000\">entropy = 0.454</text>\n<text text-anchor=\"middle\" x=\"1018.5\" y=\"-109.8\" font-family=\"Times,serif\" font-size=\"14.00\" fill=\"#000000\">samples = 8.7%</text>\n<text text-anchor=\"middle\" x=\"1018.5\" y=\"-94.8\" font-family=\"Times,serif\" font-size=\"14.00\" fill=\"#000000\">value = [0.095, 0.905]</text>\n<text text-anchor=\"middle\" x=\"1018.5\" y=\"-79.8\" font-family=\"Times,serif\" font-size=\"14.00\" fill=\"#000000\">class = yes</text>\n</g>\n<!-- 50&#45;&gt;51 -->\n<g id=\"edge23\" class=\"edge\">\n<title>50&#45;&gt;51</title>\n<path fill=\"none\" stroke=\"#000000\" d=\"M1018.5,-190.8796C1018.5,-182.6838 1018.5,-173.9891 1018.5,-165.5013\"/>\n<polygon fill=\"#000000\" stroke=\"#000000\" points=\"1022.0001,-165.298 1018.5,-155.2981 1015.0001,-165.2981 1022.0001,-165.298\"/>\n</g>\n<!-- 56 -->\n<g id=\"node27\" class=\"node\">\n<title>56</title>\n<polygon fill=\"#fae7da\" stroke=\"#000000\" points=\"1257,-155 1110,-155 1110,-72 1257,-72 1257,-155\"/>\n<text text-anchor=\"middle\" x=\"1183.5\" y=\"-139.8\" font-family=\"Times,serif\" font-size=\"14.00\" fill=\"#000000\">chol &lt;= 271.5</text>\n<text text-anchor=\"middle\" x=\"1183.5\" y=\"-124.8\" font-family=\"Times,serif\" font-size=\"14.00\" fill=\"#000000\">entropy = 0.992</text>\n<text text-anchor=\"middle\" x=\"1183.5\" y=\"-109.8\" font-family=\"Times,serif\" font-size=\"14.00\" fill=\"#000000\">samples = 12.0%</text>\n<text text-anchor=\"middle\" x=\"1183.5\" y=\"-94.8\" font-family=\"Times,serif\" font-size=\"14.00\" fill=\"#000000\">value = [0.552, 0.448]</text>\n<text text-anchor=\"middle\" x=\"1183.5\" y=\"-79.8\" font-family=\"Times,serif\" font-size=\"14.00\" fill=\"#000000\">class = no</text>\n</g>\n<!-- 50&#45;&gt;56 -->\n<g id=\"edge26\" class=\"edge\">\n<title>50&#45;&gt;56</title>\n<path fill=\"none\" stroke=\"#000000\" d=\"M1076.209,-190.8796C1089.523,-181.2774 1103.7866,-170.9903 1117.4259,-161.1534\"/>\n<polygon fill=\"#000000\" stroke=\"#000000\" points=\"1119.7602,-163.7852 1125.8236,-155.0969 1115.6655,-158.1077 1119.7602,-163.7852\"/>\n</g>\n<!-- 52 -->\n<g id=\"node25\" class=\"node\">\n<title>52</title>\n<polygon fill=\"#c0c0c0\" stroke=\"#000000\" points=\"1001.5,-36 947.5,-36 947.5,0 1001.5,0 1001.5,-36\"/>\n<text text-anchor=\"middle\" x=\"974.5\" y=\"-14.3\" font-family=\"Times,serif\" font-size=\"14.00\" fill=\"#000000\">(...)</text>\n</g>\n<!-- 51&#45;&gt;52 -->\n<g id=\"edge24\" class=\"edge\">\n<title>51&#45;&gt;52</title>\n<path fill=\"none\" stroke=\"#000000\" d=\"M999.329,-71.8901C995.201,-62.9305 990.9379,-53.6777 987.1341,-45.4217\"/>\n<polygon fill=\"#000000\" stroke=\"#000000\" points=\"990.2788,-43.8829 982.9153,-36.2651 983.9211,-46.8121 990.2788,-43.8829\"/>\n</g>\n<!-- 55 -->\n<g id=\"node26\" class=\"node\">\n<title>55</title>\n<polygon fill=\"#c0c0c0\" stroke=\"#000000\" points=\"1073.5,-36 1019.5,-36 1019.5,0 1073.5,0 1073.5,-36\"/>\n<text text-anchor=\"middle\" x=\"1046.5\" y=\"-14.3\" font-family=\"Times,serif\" font-size=\"14.00\" fill=\"#000000\">(...)</text>\n</g>\n<!-- 51&#45;&gt;55 -->\n<g id=\"edge25\" class=\"edge\">\n<title>51&#45;&gt;55</title>\n<path fill=\"none\" stroke=\"#000000\" d=\"M1030.6998,-71.8901C1033.2695,-63.1253 1035.9216,-54.0798 1038.3019,-45.9615\"/>\n<polygon fill=\"#000000\" stroke=\"#000000\" points=\"1041.6898,-46.8459 1041.1448,-36.2651 1034.9726,-44.8764 1041.6898,-46.8459\"/>\n</g>\n<!-- 57 -->\n<g id=\"node28\" class=\"node\">\n<title>57</title>\n<polygon fill=\"#c0c0c0\" stroke=\"#000000\" points=\"1174.5,-36 1120.5,-36 1120.5,0 1174.5,0 1174.5,-36\"/>\n<text text-anchor=\"middle\" x=\"1147.5\" y=\"-14.3\" font-family=\"Times,serif\" font-size=\"14.00\" fill=\"#000000\">(...)</text>\n</g>\n<!-- 56&#45;&gt;57 -->\n<g id=\"edge27\" class=\"edge\">\n<title>56&#45;&gt;57</title>\n<path fill=\"none\" stroke=\"#000000\" d=\"M1167.8146,-71.8901C1164.4739,-63.0279 1161.025,-53.8788 1157.9386,-45.6913\"/>\n<polygon fill=\"#000000\" stroke=\"#000000\" points=\"1161.1877,-44.3878 1154.3853,-36.2651 1154.6376,-46.8569 1161.1877,-44.3878\"/>\n</g>\n<!-- 72 -->\n<g id=\"node29\" class=\"node\">\n<title>72</title>\n<polygon fill=\"#c0c0c0\" stroke=\"#000000\" points=\"1246.5,-36 1192.5,-36 1192.5,0 1246.5,0 1246.5,-36\"/>\n<text text-anchor=\"middle\" x=\"1219.5\" y=\"-14.3\" font-family=\"Times,serif\" font-size=\"14.00\" fill=\"#000000\">(...)</text>\n</g>\n<!-- 56&#45;&gt;72 -->\n<g id=\"edge28\" class=\"edge\">\n<title>56&#45;&gt;72</title>\n<path fill=\"none\" stroke=\"#000000\" d=\"M1199.1854,-71.8901C1202.5261,-63.0279 1205.975,-53.8788 1209.0614,-45.6913\"/>\n<polygon fill=\"#000000\" stroke=\"#000000\" points=\"1212.3624,-46.8569 1212.6147,-36.2651 1205.8123,-44.3878 1212.3624,-46.8569\"/>\n</g>\n</g>\n</svg>\n"
          },
          "metadata": {
            "tags": []
          }
        }
      ]
    },
    {
      "cell_type": "markdown",
      "metadata": {
        "id": "6fG-KJeHOzLA"
      },
      "source": [
        "### 과적합을 해결하기 위해 파라미터를 이용해보겠음 \n",
        "\n",
        "- min_samples_split : split할때, 나눌 때 걸리는 샘플의 갯수를 의미함, 100개보다 작으면 split 안하겠다.\n",
        "- min_samples_leaf : 마지막 터미널 노드에서 최소한 샘플이 몇개 잇어야 한다\n",
        "- max_depth : 트리 level"
      ]
    },
    {
      "cell_type": "code",
      "metadata": {
        "colab": {
          "base_uri": "https://localhost:8080/"
        },
        "id": "NwvoJ5_KPs7r",
        "outputId": "286aff26-7e13-49f0-d72f-75790469c53a"
      },
      "source": [
        "pipe = make_pipeline(\n",
        "    \n",
        "    DecisionTreeClassifier(max_depth=5, min_samples_leaf=10, random_state=2)\n",
        ")\n",
        "\n",
        "pipe.fit(X_train, y_train)\n",
        "print('훈련 정확도', pipe.score(X_train, y_train))\n",
        "print('테스트 정확도', pipe.score(X_test, y_test))"
      ],
      "execution_count": 55,
      "outputs": [
        {
          "output_type": "stream",
          "text": [
            "훈련 정확도 0.8677685950413223\n",
            "테스트 정확도 0.7377049180327869\n"
          ],
          "name": "stdout"
        }
      ]
    },
    {
      "cell_type": "markdown",
      "metadata": {
        "id": "NiC7-FtFP8Uq"
      },
      "source": [
        "완벽하진 않지만 과적합이 약간 해결되었고 약간의 성능이 올라갔음을 확인할 수 있다!!"
      ]
    }
  ]
}
