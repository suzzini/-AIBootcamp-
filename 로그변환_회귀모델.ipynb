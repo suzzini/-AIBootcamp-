{
  "nbformat": 4,
  "nbformat_minor": 0,
  "metadata": {
    "colab": {
      "name": "로그변환_회귀모델.ipynb",
      "provenance": [],
      "collapsed_sections": [],
      "authorship_tag": "ABX9TyO2LIKDaO/ewDqYeBy3App3",
      "include_colab_link": true
    },
    "kernelspec": {
      "name": "python3",
      "display_name": "Python 3"
    },
    "language_info": {
      "name": "python"
    }
  },
  "cells": [
    {
      "cell_type": "markdown",
      "metadata": {
        "id": "view-in-github",
        "colab_type": "text"
      },
      "source": [
        "<a href=\"https://colab.research.google.com/github/suzzini/DS_Study/blob/main/%EB%A1%9C%EA%B7%B8%EB%B3%80%ED%99%98_%ED%9A%8C%EA%B7%80%EB%AA%A8%EB%8D%B8.ipynb\" target=\"_parent\"><img src=\"https://colab.research.google.com/assets/colab-badge.svg\" alt=\"Open In Colab\"/></a>"
      ]
    },
    {
      "cell_type": "code",
      "metadata": {
        "id": "AN72ghubZfKJ"
      },
      "source": [
        "%%capture\n",
        "import sys\n",
        "\n",
        "if 'google.colab' in sys.modules:\n",
        "    # Install packages in Colab\n",
        "    !pip install category_encoders==2.*\n",
        "    !pip install eli5\n",
        "    !pip install pandas-profiling==2.*\n",
        "    !pip install pdpbox\n",
        "    !pip install shap\n",
        "    !pip install -U scikit-learn"
      ],
      "execution_count": 1,
      "outputs": []
    },
    {
      "cell_type": "code",
      "metadata": {
        "colab": {
          "base_uri": "https://localhost:8080/"
        },
        "id": "Uy-WmrAeaGLc",
        "outputId": "76598d94-8b70-4d04-b745-55c6d26e3e77"
      },
      "source": [
        "import pandas as pd\n",
        "train=pd.read_csv(\"seoul_train.csv\")\n",
        "test=pd.read_csv(\"seoul_test.csv\")\n",
        "\n",
        "train.shape, test.shape"
      ],
      "execution_count": 193,
      "outputs": [
        {
          "output_type": "execute_result",
          "data": {
            "text/plain": [
              "((91364, 13), (3911, 12))"
            ]
          },
          "metadata": {
            "tags": []
          },
          "execution_count": 193
        }
      ]
    },
    {
      "cell_type": "code",
      "metadata": {
        "id": "p6rU87uMaO8h"
      },
      "source": [
        "#너무 큰 이상치를 제거하기 위해 가격을 기준으로 데이터를 삭제함\n",
        "train=train[train['transaction_real_price']<200000]"
      ],
      "execution_count": 194,
      "outputs": []
    },
    {
      "cell_type": "code",
      "metadata": {
        "colab": {
          "base_uri": "https://localhost:8080/",
          "height": 283
        },
        "id": "0H8i-6U7amZ0",
        "outputId": "594fb1f0-77b2-4811-bd3b-9f5ea23632f7"
      },
      "source": [
        "train['exclusive_use_area'].sort_values().plot(kind='hist')"
      ],
      "execution_count": 195,
      "outputs": [
        {
          "output_type": "execute_result",
          "data": {
            "text/plain": [
              "<matplotlib.axes._subplots.AxesSubplot at 0x7f77e8e49d50>"
            ]
          },
          "metadata": {
            "tags": []
          },
          "execution_count": 195
        },
        {
          "output_type": "display_data",
          "data": {
            "image/png": "[encoded data removed]",
            "text/plain": [
              "<Figure size 432x288 with 1 Axes>"
            ]
          },
          "metadata": {
            "tags": [],
            "needs_background": "light"
          }
        }
      ]
    },
    {
      "cell_type": "code",
      "metadata": {
        "colab": {
          "base_uri": "https://localhost:8080/",
          "height": 283
        },
        "id": "gnQRRct4bg1D",
        "outputId": "55e5e438-e6cc-4304-9104-4188247dc458"
      },
      "source": [
        "train=train[train['exclusive_use_area']<150]\n",
        "train['exclusive_use_area'].sort_values().plot(kind='hist')"
      ],
      "execution_count": 196,
      "outputs": [
        {
          "output_type": "execute_result",
          "data": {
            "text/plain": [
              "<matplotlib.axes._subplots.AxesSubplot at 0x7f77e8e64c50>"
            ]
          },
          "metadata": {
            "tags": []
          },
          "execution_count": 196
        },
        {
          "output_type": "display_data",
          "data": {
            "image/png": "[encoded data removed]",
            "text/plain": [
              "<Figure size 432x288 with 1 Axes>"
            ]
          },
          "metadata": {
            "tags": [],
            "needs_background": "light"
          }
        }
      ]
    },
    {
      "cell_type": "code",
      "metadata": {
        "colab": {
          "base_uri": "https://localhost:8080/",
          "height": 283
        },
        "id": "lDsSW6RWbts7",
        "outputId": "e5d16c11-221c-432a-85f8-458716081ad4"
      },
      "source": [
        "test=test[test['exclusive_use_area']<150]\n",
        "test['exclusive_use_area'].sort_values().plot(kind='hist')"
      ],
      "execution_count": 197,
      "outputs": [
        {
          "output_type": "execute_result",
          "data": {
            "text/plain": [
              "<matplotlib.axes._subplots.AxesSubplot at 0x7f77e9341290>"
            ]
          },
          "metadata": {
            "tags": []
          },
          "execution_count": 197
        },
        {
          "output_type": "display_data",
          "data": {
            "image/png": "[encoded data removed]",
            "text/plain": [
              "<Figure size 432x288 with 1 Axes>"
            ]
          },
          "metadata": {
            "tags": [],
            "needs_background": "light"
          }
        }
      ]
    },
    {
      "cell_type": "markdown",
      "metadata": {
        "id": "AQB1R_8Jcpk2"
      },
      "source": [
        "거래한 월과 지어진 지 몇년이 되었는지를 나타내는 feature을 새로 생성함"
      ]
    },
    {
      "cell_type": "code",
      "metadata": {
        "id": "nXH7XbWpcguH"
      },
      "source": [
        "train['transaction_month']=train['transaction_year_month']%100\n",
        "train['years_since_completion']=2017-train['year_of_completion']+1"
      ],
      "execution_count": 198,
      "outputs": []
    },
    {
      "cell_type": "code",
      "metadata": {
        "id": "QalHCU4cctP8"
      },
      "source": [
        "test['transaction_month']=test['transaction_year_month']%100\n",
        "test['years_since_completion']=2017-test['year_of_completion']+1"
      ],
      "execution_count": 199,
      "outputs": []
    },
    {
      "cell_type": "code",
      "metadata": {
        "id": "N1gLJ8KGcv7c"
      },
      "source": [
        "#필요없는 컬럼 삭제\n",
        "train=train.drop(['transaction_id','city','jibun','addr_kr','transaction_date','transaction_year_month'],axis=1)\n",
        "test=test.drop(['transaction_id','city','jibun','addr_kr','transaction_date','transaction_year_month'],axis=1)"
      ],
      "execution_count": 200,
      "outputs": []
    },
    {
      "cell_type": "markdown",
      "metadata": {
        "id": "B4i7Bc2Jc9R9"
      },
      "source": [
        "## 공원과 관련한 데이터 셋 준비\n",
        "- 같은 동에 위치한 공원의 개수 세기\n",
        "- 해당 동에 위치한 공원들의 평균 면적을 계산하여 테이블 생성\n",
        "- merge 옵션을 통해 기존 테이블에 공원에 관련된 컬럼 추가"
      ]
    },
    {
      "cell_type": "code",
      "metadata": {
        "colab": {
          "base_uri": "https://localhost:8080/",
          "height": 772
        },
        "id": "62mZGAm1dArm",
        "outputId": "77c26e3c-1e70-490f-86e6-d100fe1618dc"
      },
      "source": [
        "park=pd.read_csv('park.csv')\n",
        "park=park[park['city']=='서울특별시']\n",
        "park"
      ],
      "execution_count": 201,
      "outputs": [
        {
          "output_type": "execute_result",
          "data": {
            "text/html": [
              "<div>\n",
              "<style scoped>\n",
              "    .dataframe tbody tr th:only-of-type {\n",
              "        vertical-align: middle;\n",
              "    }\n",
              "\n",
              "    .dataframe tbody tr th {\n",
              "        vertical-align: top;\n",
              "    }\n",
              "\n",
              "    .dataframe thead th {\n",
              "        text-align: right;\n",
              "    }\n",
              "</style>\n",
              "<table border=\"1\" class=\"dataframe\">\n",
              "  <thead>\n",
              "    <tr style=\"text-align: right;\">\n",
              "      <th></th>\n",
              "      <th>city</th>\n",
              "      <th>gu</th>\n",
              "      <th>dong</th>\n",
              "      <th>park_name</th>\n",
              "      <th>park_type</th>\n",
              "      <th>park_area</th>\n",
              "      <th>park_exercise_facility</th>\n",
              "      <th>park_entertainment_facility</th>\n",
              "      <th>park_benefit_facility</th>\n",
              "      <th>park_cultural_facitiy</th>\n",
              "      <th>park_facility_other</th>\n",
              "      <th>park_open_year</th>\n",
              "      <th>reference_date</th>\n",
              "    </tr>\n",
              "  </thead>\n",
              "  <tbody>\n",
              "    <tr>\n",
              "      <th>58</th>\n",
              "      <td>서울특별시</td>\n",
              "      <td>서초구</td>\n",
              "      <td>반포동</td>\n",
              "      <td>반  포</td>\n",
              "      <td>근린공원</td>\n",
              "      <td>26092.2</td>\n",
              "      <td>NaN</td>\n",
              "      <td>NaN</td>\n",
              "      <td>NaN</td>\n",
              "      <td>NaN</td>\n",
              "      <td>NaN</td>\n",
              "      <td>1981.0</td>\n",
              "      <td>2018-06-30</td>\n",
              "    </tr>\n",
              "    <tr>\n",
              "      <th>59</th>\n",
              "      <td>서울특별시</td>\n",
              "      <td>서초구</td>\n",
              "      <td>양재동</td>\n",
              "      <td>방아다리1</td>\n",
              "      <td>근린공원</td>\n",
              "      <td>2870.8</td>\n",
              "      <td>NaN</td>\n",
              "      <td>NaN</td>\n",
              "      <td>NaN</td>\n",
              "      <td>NaN</td>\n",
              "      <td>NaN</td>\n",
              "      <td>1988.0</td>\n",
              "      <td>2018-06-30</td>\n",
              "    </tr>\n",
              "    <tr>\n",
              "      <th>60</th>\n",
              "      <td>서울특별시</td>\n",
              "      <td>서초구</td>\n",
              "      <td>양재동</td>\n",
              "      <td>방아다리2</td>\n",
              "      <td>근린공원</td>\n",
              "      <td>2934.3</td>\n",
              "      <td>NaN</td>\n",
              "      <td>NaN</td>\n",
              "      <td>NaN</td>\n",
              "      <td>NaN</td>\n",
              "      <td>NaN</td>\n",
              "      <td>1988.0</td>\n",
              "      <td>2018-06-30</td>\n",
              "    </tr>\n",
              "    <tr>\n",
              "      <th>61</th>\n",
              "      <td>서울특별시</td>\n",
              "      <td>서초구</td>\n",
              "      <td>양재동</td>\n",
              "      <td>양재천</td>\n",
              "      <td>근린공원</td>\n",
              "      <td>19258.0</td>\n",
              "      <td>NaN</td>\n",
              "      <td>NaN</td>\n",
              "      <td>NaN</td>\n",
              "      <td>NaN</td>\n",
              "      <td>NaN</td>\n",
              "      <td>1988.0</td>\n",
              "      <td>2018-06-30</td>\n",
              "    </tr>\n",
              "    <tr>\n",
              "      <th>62</th>\n",
              "      <td>서울특별시</td>\n",
              "      <td>서초구</td>\n",
              "      <td>양재동</td>\n",
              "      <td>마  방</td>\n",
              "      <td>근린공원</td>\n",
              "      <td>6546.6</td>\n",
              "      <td>NaN</td>\n",
              "      <td>NaN</td>\n",
              "      <td>NaN</td>\n",
              "      <td>NaN</td>\n",
              "      <td>NaN</td>\n",
              "      <td>1983.0</td>\n",
              "      <td>2018-06-30</td>\n",
              "    </tr>\n",
              "    <tr>\n",
              "      <th>...</th>\n",
              "      <td>...</td>\n",
              "      <td>...</td>\n",
              "      <td>...</td>\n",
              "      <td>...</td>\n",
              "      <td>...</td>\n",
              "      <td>...</td>\n",
              "      <td>...</td>\n",
              "      <td>...</td>\n",
              "      <td>...</td>\n",
              "      <td>...</td>\n",
              "      <td>...</td>\n",
              "      <td>...</td>\n",
              "      <td>...</td>\n",
              "    </tr>\n",
              "    <tr>\n",
              "      <th>1354</th>\n",
              "      <td>서울특별시</td>\n",
              "      <td>구로구</td>\n",
              "      <td>천왕동</td>\n",
              "      <td>이펜시아어린이공원</td>\n",
              "      <td>어린이공원</td>\n",
              "      <td>1500.0</td>\n",
              "      <td>NaN</td>\n",
              "      <td>조합놀이 1기</td>\n",
              "      <td>NaN</td>\n",
              "      <td>NaN</td>\n",
              "      <td>NaN</td>\n",
              "      <td>2006.0</td>\n",
              "      <td>2019-02-25</td>\n",
              "    </tr>\n",
              "    <tr>\n",
              "      <th>1355</th>\n",
              "      <td>서울특별시</td>\n",
              "      <td>구로구</td>\n",
              "      <td>천왕동</td>\n",
              "      <td>개명소공원</td>\n",
              "      <td>소공원</td>\n",
              "      <td>5415.0</td>\n",
              "      <td>NaN</td>\n",
              "      <td>NaN</td>\n",
              "      <td>NaN</td>\n",
              "      <td>NaN</td>\n",
              "      <td>NaN</td>\n",
              "      <td>2006.0</td>\n",
              "      <td>2019-02-25</td>\n",
              "    </tr>\n",
              "    <tr>\n",
              "      <th>1356</th>\n",
              "      <td>서울특별시</td>\n",
              "      <td>구로구</td>\n",
              "      <td>천왕동</td>\n",
              "      <td>봉화대근린공원</td>\n",
              "      <td>근린공원</td>\n",
              "      <td>60975.0</td>\n",
              "      <td>NaN</td>\n",
              "      <td>NaN</td>\n",
              "      <td>NaN</td>\n",
              "      <td>NaN</td>\n",
              "      <td>NaN</td>\n",
              "      <td>2006.0</td>\n",
              "      <td>2019-02-25</td>\n",
              "    </tr>\n",
              "    <tr>\n",
              "      <th>1357</th>\n",
              "      <td>서울특별시</td>\n",
              "      <td>구로구</td>\n",
              "      <td>항동</td>\n",
              "      <td>푸른수목원</td>\n",
              "      <td>근린공원</td>\n",
              "      <td>100809.0</td>\n",
              "      <td>NaN</td>\n",
              "      <td>NaN</td>\n",
              "      <td>NaN</td>\n",
              "      <td>NaN</td>\n",
              "      <td>NaN</td>\n",
              "      <td>2005.0</td>\n",
              "      <td>2019-02-25</td>\n",
              "    </tr>\n",
              "    <tr>\n",
              "      <th>1358</th>\n",
              "      <td>서울특별시</td>\n",
              "      <td>구로구</td>\n",
              "      <td>오류동</td>\n",
              "      <td>오류동역문화공원</td>\n",
              "      <td>문화공원</td>\n",
              "      <td>7510.0</td>\n",
              "      <td>NaN</td>\n",
              "      <td>NaN</td>\n",
              "      <td>NaN</td>\n",
              "      <td>NaN</td>\n",
              "      <td>NaN</td>\n",
              "      <td>2013.0</td>\n",
              "      <td>2019-02-25</td>\n",
              "    </tr>\n",
              "  </tbody>\n",
              "</table>\n",
              "<p>930 rows × 13 columns</p>\n",
              "</div>"
            ],
            "text/plain": [
              "       city   gu dong  ... park_facility_other park_open_year  reference_date\n",
              "58    서울특별시  서초구  반포동  ...                 NaN         1981.0      2018-06-30\n",
              "59    서울특별시  서초구  양재동  ...                 NaN         1988.0      2018-06-30\n",
              "60    서울특별시  서초구  양재동  ...                 NaN         1988.0      2018-06-30\n",
              "61    서울특별시  서초구  양재동  ...                 NaN         1988.0      2018-06-30\n",
              "62    서울특별시  서초구  양재동  ...                 NaN         1983.0      2018-06-30\n",
              "...     ...  ...  ...  ...                 ...            ...             ...\n",
              "1354  서울특별시  구로구  천왕동  ...                 NaN         2006.0      2019-02-25\n",
              "1355  서울특별시  구로구  천왕동  ...                 NaN         2006.0      2019-02-25\n",
              "1356  서울특별시  구로구  천왕동  ...                 NaN         2006.0      2019-02-25\n",
              "1357  서울특별시  구로구   항동  ...                 NaN         2005.0      2019-02-25\n",
              "1358  서울특별시  구로구  오류동  ...                 NaN         2013.0      2019-02-25\n",
              "\n",
              "[930 rows x 13 columns]"
            ]
          },
          "metadata": {
            "tags": []
          },
          "execution_count": 201
        }
      ]
    },
    {
      "cell_type": "code",
      "metadata": {
        "colab": {
          "base_uri": "https://localhost:8080/",
          "height": 441
        },
        "id": "ntAAAILedEZ2",
        "outputId": "941afa2e-e2e5-4471-adf9-657a414fbb30"
      },
      "source": [
        "park_df=park.groupby('dong').count().iloc[:,0:1]\n",
        "park_df"
      ],
      "execution_count": 202,
      "outputs": [
        {
          "output_type": "execute_result",
          "data": {
            "text/html": [
              "<div>\n",
              "<style scoped>\n",
              "    .dataframe tbody tr th:only-of-type {\n",
              "        vertical-align: middle;\n",
              "    }\n",
              "\n",
              "    .dataframe tbody tr th {\n",
              "        vertical-align: top;\n",
              "    }\n",
              "\n",
              "    .dataframe thead th {\n",
              "        text-align: right;\n",
              "    }\n",
              "</style>\n",
              "<table border=\"1\" class=\"dataframe\">\n",
              "  <thead>\n",
              "    <tr style=\"text-align: right;\">\n",
              "      <th></th>\n",
              "      <th>city</th>\n",
              "    </tr>\n",
              "    <tr>\n",
              "      <th>dong</th>\n",
              "      <th></th>\n",
              "    </tr>\n",
              "  </thead>\n",
              "  <tbody>\n",
              "    <tr>\n",
              "      <th>가락동</th>\n",
              "      <td>13</td>\n",
              "    </tr>\n",
              "    <tr>\n",
              "      <th>가산동</th>\n",
              "      <td>3</td>\n",
              "    </tr>\n",
              "    <tr>\n",
              "      <th>가양동</th>\n",
              "      <td>14</td>\n",
              "    </tr>\n",
              "    <tr>\n",
              "      <th>갈현동</th>\n",
              "      <td>6</td>\n",
              "    </tr>\n",
              "    <tr>\n",
              "      <th>강일동</th>\n",
              "      <td>9</td>\n",
              "    </tr>\n",
              "    <tr>\n",
              "      <th>...</th>\n",
              "      <td>...</td>\n",
              "    </tr>\n",
              "    <tr>\n",
              "      <th>회기동</th>\n",
              "      <td>1</td>\n",
              "    </tr>\n",
              "    <tr>\n",
              "      <th>효창동</th>\n",
              "      <td>2</td>\n",
              "    </tr>\n",
              "    <tr>\n",
              "      <th>후암동</th>\n",
              "      <td>2</td>\n",
              "    </tr>\n",
              "    <tr>\n",
              "      <th>휘경동</th>\n",
              "      <td>5</td>\n",
              "    </tr>\n",
              "    <tr>\n",
              "      <th>흑석동</th>\n",
              "      <td>4</td>\n",
              "    </tr>\n",
              "  </tbody>\n",
              "</table>\n",
              "<p>162 rows × 1 columns</p>\n",
              "</div>"
            ],
            "text/plain": [
              "      city\n",
              "dong      \n",
              "가락동     13\n",
              "가산동      3\n",
              "가양동     14\n",
              "갈현동      6\n",
              "강일동      9\n",
              "...    ...\n",
              "회기동      1\n",
              "효창동      2\n",
              "후암동      2\n",
              "휘경동      5\n",
              "흑석동      4\n",
              "\n",
              "[162 rows x 1 columns]"
            ]
          },
          "metadata": {
            "tags": []
          },
          "execution_count": 202
        }
      ]
    },
    {
      "cell_type": "code",
      "metadata": {
        "colab": {
          "base_uri": "https://localhost:8080/",
          "height": 411
        },
        "id": "qFqhGj99dGOB",
        "outputId": "8522d85f-6301-4e91-dda7-649cb7c4d9b4"
      },
      "source": [
        "park_df['park_mean_area']=park.groupby('dong').mean().iloc[:,0:1]\n",
        "park_df=park_df.reset_index()\n",
        "park_df"
      ],
      "execution_count": 203,
      "outputs": [
        {
          "output_type": "execute_result",
          "data": {
            "text/html": [
              "<div>\n",
              "<style scoped>\n",
              "    .dataframe tbody tr th:only-of-type {\n",
              "        vertical-align: middle;\n",
              "    }\n",
              "\n",
              "    .dataframe tbody tr th {\n",
              "        vertical-align: top;\n",
              "    }\n",
              "\n",
              "    .dataframe thead th {\n",
              "        text-align: right;\n",
              "    }\n",
              "</style>\n",
              "<table border=\"1\" class=\"dataframe\">\n",
              "  <thead>\n",
              "    <tr style=\"text-align: right;\">\n",
              "      <th></th>\n",
              "      <th>dong</th>\n",
              "      <th>city</th>\n",
              "      <th>park_mean_area</th>\n",
              "    </tr>\n",
              "  </thead>\n",
              "  <tbody>\n",
              "    <tr>\n",
              "      <th>0</th>\n",
              "      <td>가락동</td>\n",
              "      <td>13</td>\n",
              "      <td>7914.030769</td>\n",
              "    </tr>\n",
              "    <tr>\n",
              "      <th>1</th>\n",
              "      <td>가산동</td>\n",
              "      <td>3</td>\n",
              "      <td>1216.866667</td>\n",
              "    </tr>\n",
              "    <tr>\n",
              "      <th>2</th>\n",
              "      <td>가양동</td>\n",
              "      <td>14</td>\n",
              "      <td>16307.464286</td>\n",
              "    </tr>\n",
              "    <tr>\n",
              "      <th>3</th>\n",
              "      <td>갈현동</td>\n",
              "      <td>6</td>\n",
              "      <td>1385.466667</td>\n",
              "    </tr>\n",
              "    <tr>\n",
              "      <th>4</th>\n",
              "      <td>강일동</td>\n",
              "      <td>9</td>\n",
              "      <td>23467.344444</td>\n",
              "    </tr>\n",
              "    <tr>\n",
              "      <th>...</th>\n",
              "      <td>...</td>\n",
              "      <td>...</td>\n",
              "      <td>...</td>\n",
              "    </tr>\n",
              "    <tr>\n",
              "      <th>157</th>\n",
              "      <td>회기동</td>\n",
              "      <td>1</td>\n",
              "      <td>400.000000</td>\n",
              "    </tr>\n",
              "    <tr>\n",
              "      <th>158</th>\n",
              "      <td>효창동</td>\n",
              "      <td>2</td>\n",
              "      <td>85901.000000</td>\n",
              "    </tr>\n",
              "    <tr>\n",
              "      <th>159</th>\n",
              "      <td>후암동</td>\n",
              "      <td>2</td>\n",
              "      <td>1261.000000</td>\n",
              "    </tr>\n",
              "    <tr>\n",
              "      <th>160</th>\n",
              "      <td>휘경동</td>\n",
              "      <td>5</td>\n",
              "      <td>1393.180000</td>\n",
              "    </tr>\n",
              "    <tr>\n",
              "      <th>161</th>\n",
              "      <td>흑석동</td>\n",
              "      <td>4</td>\n",
              "      <td>724.925000</td>\n",
              "    </tr>\n",
              "  </tbody>\n",
              "</table>\n",
              "<p>162 rows × 3 columns</p>\n",
              "</div>"
            ],
            "text/plain": [
              "    dong  city  park_mean_area\n",
              "0    가락동    13     7914.030769\n",
              "1    가산동     3     1216.866667\n",
              "2    가양동    14    16307.464286\n",
              "3    갈현동     6     1385.466667\n",
              "4    강일동     9    23467.344444\n",
              "..   ...   ...             ...\n",
              "157  회기동     1      400.000000\n",
              "158  효창동     2    85901.000000\n",
              "159  후암동     2     1261.000000\n",
              "160  휘경동     5     1393.180000\n",
              "161  흑석동     4      724.925000\n",
              "\n",
              "[162 rows x 3 columns]"
            ]
          },
          "metadata": {
            "tags": []
          },
          "execution_count": 203
        }
      ]
    },
    {
      "cell_type": "code",
      "metadata": {
        "colab": {
          "base_uri": "https://localhost:8080/"
        },
        "id": "cqot-ELJdICM",
        "outputId": "a09f73ea-35b0-43cc-b00b-b9e3831eed9e"
      },
      "source": [
        "#park에만 있는 dong 삭제하기 위해 dong 찾기\n",
        "delete_dong_list=list(set(park_df['dong'].unique())-set(train['dong'].unique()))\n",
        "delete_dong_list"
      ],
      "execution_count": 204,
      "outputs": [
        {
          "output_type": "execute_result",
          "data": {
            "text/plain": [
              "['명륜3가', '청룡동', '청파동3가', '능동', '정동', '을지로5가', '원효로3가']"
            ]
          },
          "metadata": {
            "tags": []
          },
          "execution_count": 204
        }
      ]
    },
    {
      "cell_type": "code",
      "metadata": {
        "colab": {
          "base_uri": "https://localhost:8080/"
        },
        "id": "pPt20ZAIdKHh",
        "outputId": "f3ab68f1-c31b-46c8-90b5-55520219cfd2"
      },
      "source": [
        "delete_park_df=park_df[(park_df['dong']=='청룡동') | (park_df['dong']=='을지로5가') | (park_df['dong']=='정동')|(park_df['dong']=='원효로3가')|(park_df['dong']=='청파동3가')|(park_df['dong']=='명륜3가')|(park_df['dong']=='능동')].index\n",
        "delete_park_df"
      ],
      "execution_count": 205,
      "outputs": [
        {
          "output_type": "execute_result",
          "data": {
            "text/plain": [
              "Int64Index([25, 47, 114, 116, 129, 139, 140], dtype='int64')"
            ]
          },
          "metadata": {
            "tags": []
          },
          "execution_count": 205
        }
      ]
    },
    {
      "cell_type": "code",
      "metadata": {
        "id": "LARBYLrBdV18"
      },
      "source": [
        "park_df_for_train=park_df.drop(delete_park_df,axis=0)\n",
        "train=train.merge(park_df_for_train, on='dong',how='outer')\n",
        "train.rename(columns={'city':'num_park'},inplace=True)"
      ],
      "execution_count": 206,
      "outputs": []
    },
    {
      "cell_type": "code",
      "metadata": {
        "id": "dU4UGlzvdx5Q"
      },
      "source": [
        "delete_dong_list_test=list(set(park_df['dong'].unique())-set(test['dong'].unique()))\n",
        "delete_park_df_test=park_df[(park_df['dong']=='순화동') | (park_df['dong']=='청룡동') | (park_df['dong']=='충무로5가')|(park_df['dong']=='만리동2가')|(park_df['dong']=='능동')|(park_df['dong']=='신설동')|(park_df['dong']=='신문로1가')|(park_df['dong']=='정동')|(park_df['dong']=='합동')|(park_df['dong']=='명륜3가')|(park_df['dong']=='원효로3가')|(park_df['dong']=='영등포동2가')].index\n",
        "\n",
        "park_df_for_test=park_df.drop(delete_park_df_test,axis=0)"
      ],
      "execution_count": 207,
      "outputs": []
    },
    {
      "cell_type": "code",
      "metadata": {
        "colab": {
          "base_uri": "https://localhost:8080/",
          "height": 411
        },
        "id": "-gal5mtJd8Ki",
        "outputId": "b9df0816-cb75-4c0a-ad7b-3b90619afd16"
      },
      "source": [
        "test=test.merge(park_df_for_test, on='dong',how='outer')\n",
        "test.rename(columns={'city':'num_park'},inplace=True)\n",
        "test"
      ],
      "execution_count": 208,
      "outputs": [
        {
          "output_type": "execute_result",
          "data": {
            "text/html": [
              "<div>\n",
              "<style scoped>\n",
              "    .dataframe tbody tr th:only-of-type {\n",
              "        vertical-align: middle;\n",
              "    }\n",
              "\n",
              "    .dataframe tbody tr th {\n",
              "        vertical-align: top;\n",
              "    }\n",
              "\n",
              "    .dataframe thead th {\n",
              "        text-align: right;\n",
              "    }\n",
              "</style>\n",
              "<table border=\"1\" class=\"dataframe\">\n",
              "  <thead>\n",
              "    <tr style=\"text-align: right;\">\n",
              "      <th></th>\n",
              "      <th>apartment_id</th>\n",
              "      <th>dong</th>\n",
              "      <th>apt</th>\n",
              "      <th>exclusive_use_area</th>\n",
              "      <th>year_of_completion</th>\n",
              "      <th>floor</th>\n",
              "      <th>transaction_month</th>\n",
              "      <th>years_since_completion</th>\n",
              "      <th>num_park</th>\n",
              "      <th>park_mean_area</th>\n",
              "    </tr>\n",
              "  </thead>\n",
              "  <tbody>\n",
              "    <tr>\n",
              "      <th>0</th>\n",
              "      <td>10453</td>\n",
              "      <td>목동</td>\n",
              "      <td>청학</td>\n",
              "      <td>35.5500</td>\n",
              "      <td>2002</td>\n",
              "      <td>2</td>\n",
              "      <td>11</td>\n",
              "      <td>16</td>\n",
              "      <td>NaN</td>\n",
              "      <td>NaN</td>\n",
              "    </tr>\n",
              "    <tr>\n",
              "      <th>1</th>\n",
              "      <td>4419</td>\n",
              "      <td>목동</td>\n",
              "      <td>목동효성</td>\n",
              "      <td>84.8000</td>\n",
              "      <td>2003</td>\n",
              "      <td>4</td>\n",
              "      <td>12</td>\n",
              "      <td>15</td>\n",
              "      <td>NaN</td>\n",
              "      <td>NaN</td>\n",
              "    </tr>\n",
              "    <tr>\n",
              "      <th>2</th>\n",
              "      <td>4407</td>\n",
              "      <td>목동</td>\n",
              "      <td>목동신시가지6</td>\n",
              "      <td>65.1000</td>\n",
              "      <td>1986</td>\n",
              "      <td>15</td>\n",
              "      <td>12</td>\n",
              "      <td>32</td>\n",
              "      <td>NaN</td>\n",
              "      <td>NaN</td>\n",
              "    </tr>\n",
              "    <tr>\n",
              "      <th>3</th>\n",
              "      <td>7911</td>\n",
              "      <td>목동</td>\n",
              "      <td>애드웰(774-10)</td>\n",
              "      <td>73.4100</td>\n",
              "      <td>2004</td>\n",
              "      <td>5</td>\n",
              "      <td>4</td>\n",
              "      <td>14</td>\n",
              "      <td>NaN</td>\n",
              "      <td>NaN</td>\n",
              "    </tr>\n",
              "    <tr>\n",
              "      <th>4</th>\n",
              "      <td>1691</td>\n",
              "      <td>목동</td>\n",
              "      <td>금호아파트(768)</td>\n",
              "      <td>59.6700</td>\n",
              "      <td>1995</td>\n",
              "      <td>1</td>\n",
              "      <td>12</td>\n",
              "      <td>23</td>\n",
              "      <td>NaN</td>\n",
              "      <td>NaN</td>\n",
              "    </tr>\n",
              "    <tr>\n",
              "      <th>...</th>\n",
              "      <td>...</td>\n",
              "      <td>...</td>\n",
              "      <td>...</td>\n",
              "      <td>...</td>\n",
              "      <td>...</td>\n",
              "      <td>...</td>\n",
              "      <td>...</td>\n",
              "      <td>...</td>\n",
              "      <td>...</td>\n",
              "      <td>...</td>\n",
              "    </tr>\n",
              "    <tr>\n",
              "      <th>3727</th>\n",
              "      <td>9072</td>\n",
              "      <td>당산동6가</td>\n",
              "      <td>유탑유블레스</td>\n",
              "      <td>13.3867</td>\n",
              "      <td>2012</td>\n",
              "      <td>6</td>\n",
              "      <td>7</td>\n",
              "      <td>6</td>\n",
              "      <td>NaN</td>\n",
              "      <td>NaN</td>\n",
              "    </tr>\n",
              "    <tr>\n",
              "      <th>3728</th>\n",
              "      <td>7593</td>\n",
              "      <td>노고산동</td>\n",
              "      <td>신촌포스빌</td>\n",
              "      <td>32.3400</td>\n",
              "      <td>2004</td>\n",
              "      <td>3</td>\n",
              "      <td>12</td>\n",
              "      <td>14</td>\n",
              "      <td>NaN</td>\n",
              "      <td>NaN</td>\n",
              "    </tr>\n",
              "    <tr>\n",
              "      <th>3729</th>\n",
              "      <td>7754</td>\n",
              "      <td>명륜2가</td>\n",
              "      <td>아남1</td>\n",
              "      <td>84.9000</td>\n",
              "      <td>1995</td>\n",
              "      <td>18</td>\n",
              "      <td>12</td>\n",
              "      <td>23</td>\n",
              "      <td>NaN</td>\n",
              "      <td>NaN</td>\n",
              "    </tr>\n",
              "    <tr>\n",
              "      <th>3730</th>\n",
              "      <td>7756</td>\n",
              "      <td>명륜2가</td>\n",
              "      <td>아남3</td>\n",
              "      <td>47.4300</td>\n",
              "      <td>1999</td>\n",
              "      <td>6</td>\n",
              "      <td>11</td>\n",
              "      <td>19</td>\n",
              "      <td>NaN</td>\n",
              "      <td>NaN</td>\n",
              "    </tr>\n",
              "    <tr>\n",
              "      <th>3731</th>\n",
              "      <td>2278</td>\n",
              "      <td>안암동3가</td>\n",
              "      <td>대광</td>\n",
              "      <td>54.8800</td>\n",
              "      <td>1971</td>\n",
              "      <td>6</td>\n",
              "      <td>12</td>\n",
              "      <td>47</td>\n",
              "      <td>NaN</td>\n",
              "      <td>NaN</td>\n",
              "    </tr>\n",
              "  </tbody>\n",
              "</table>\n",
              "<p>3732 rows × 10 columns</p>\n",
              "</div>"
            ],
            "text/plain": [
              "      apartment_id   dong  ... num_park  park_mean_area\n",
              "0            10453     목동  ...      NaN             NaN\n",
              "1             4419     목동  ...      NaN             NaN\n",
              "2             4407     목동  ...      NaN             NaN\n",
              "3             7911     목동  ...      NaN             NaN\n",
              "4             1691     목동  ...      NaN             NaN\n",
              "...            ...    ...  ...      ...             ...\n",
              "3727          9072  당산동6가  ...      NaN             NaN\n",
              "3728          7593   노고산동  ...      NaN             NaN\n",
              "3729          7754   명륜2가  ...      NaN             NaN\n",
              "3730          7756   명륜2가  ...      NaN             NaN\n",
              "3731          2278  안암동3가  ...      NaN             NaN\n",
              "\n",
              "[3732 rows x 10 columns]"
            ]
          },
          "metadata": {
            "tags": []
          },
          "execution_count": 208
        }
      ]
    },
    {
      "cell_type": "code",
      "metadata": {
        "id": "je1r-HMVeJqE"
      },
      "source": [
        "train=train.fillna(0)\n",
        "test=test.fillna(0)"
      ],
      "execution_count": 209,
      "outputs": []
    },
    {
      "cell_type": "markdown",
      "metadata": {
        "id": "Jj3YjdZRfAej"
      },
      "source": [
        "전처리 완료"
      ]
    },
    {
      "cell_type": "code",
      "metadata": {
        "colab": {
          "base_uri": "https://localhost:8080/",
          "height": 369
        },
        "id": "OtwcysAQellr",
        "outputId": "018869c3-9e9d-4c56-c363-fd6ef90b07d8"
      },
      "source": [
        "target = 'transaction_real_price'\n",
        "\n",
        "sns.displot(train[target]);"
      ],
      "execution_count": 210,
      "outputs": [
        {
          "output_type": "display_data",
          "data": {
            "image/png": "[encoded data removed]",
            "text/plain": [
              "<Figure size 360x360 with 1 Axes>"
            ]
          },
          "metadata": {
            "tags": [],
            "needs_background": "light"
          }
        }
      ]
    },
    {
      "cell_type": "markdown",
      "metadata": {
        "id": "2R3cGcrvfeOO"
      },
      "source": [
        "왼쪽으로 편향되어 있음을 확인"
      ]
    },
    {
      "cell_type": "markdown",
      "metadata": {
        "id": "6yRQ2Wkqm06S"
      },
      "source": [
        "## 로그변환(Log-Transform)\n",
        "회귀문제에서도 한쪽으로 치우쳐 있을 때 !!!!!\n",
        "\n",
        "- 타겟이 right-skewed 상태라면 로그변환을 사용. 비대칭 분포형태를 정규분포형태로 변환시켜줌\n",
        "- **np.log1p**으로 target을 변환시켜주고 원래의 값을 얻고 싶을 때는 **np.expm1** 으로 얻을 수 있음"
      ]
    },
    {
      "cell_type": "code",
      "metadata": {
        "id": "hwFL_hE9fbtw"
      },
      "source": [
        "import numpy as np\n",
        "#=train[train[target] < np.percentile(train[target], 99.5)][target]train[target]"
      ],
      "execution_count": 191,
      "outputs": []
    },
    {
      "cell_type": "code",
      "metadata": {
        "id": "_tTUySL7jciy"
      },
      "source": [
        "train=train[train[target] < np.percentile(train[target], 99.5)]"
      ],
      "execution_count": 212,
      "outputs": []
    },
    {
      "cell_type": "code",
      "metadata": {
        "colab": {
          "base_uri": "https://localhost:8080/",
          "height": 369
        },
        "id": "4WRJm6yRfuYk",
        "outputId": "62e535be-c6cb-413b-ffa8-e0b2a0d6bbec"
      },
      "source": [
        "sns.displot(train[target]);"
      ],
      "execution_count": 214,
      "outputs": [
        {
          "output_type": "display_data",
          "data": {
            "image/png": "[encoded data removed]",
            "text/plain": [
              "<Figure size 360x360 with 1 Axes>"
            ]
          },
          "metadata": {
            "tags": [],
            "needs_background": "light"
          }
        }
      ]
    },
    {
      "cell_type": "code",
      "metadata": {
        "colab": {
          "base_uri": "https://localhost:8080/"
        },
        "id": "GR0NNT6rgOnL",
        "outputId": "aa4240b2-c86f-4b09-d6d0-92767d857d10"
      },
      "source": [
        "np.log1p(train[target])"
      ],
      "execution_count": 215,
      "outputs": [
        {
          "output_type": "execute_result",
          "data": {
            "text/plain": [
              "0        11.112463\n",
              "1        11.399768\n",
              "2        11.362114\n",
              "3        11.669938\n",
              "4        11.320566\n",
              "           ...    \n",
              "88710    10.878066\n",
              "88711    10.878066\n",
              "88712    10.942014\n",
              "88713    10.924156\n",
              "88714    11.062740\n",
              "Name: transaction_real_price, Length: 88254, dtype: float64"
            ]
          },
          "metadata": {
            "tags": []
          },
          "execution_count": 215
        }
      ]
    },
    {
      "cell_type": "code",
      "metadata": {
        "colab": {
          "base_uri": "https://localhost:8080/",
          "height": 280
        },
        "id": "SGIy0UTEgaR4",
        "outputId": "b74856b5-3b6c-49e1-8c6b-2ed577117427"
      },
      "source": [
        "sns.histplot(np.log1p(train[target]));"
      ],
      "execution_count": 216,
      "outputs": [
        {
          "output_type": "display_data",
          "data": {
            "image/png": "[encoded data removed]",
            "text/plain": [
              "<Figure size 432x288 with 1 Axes>"
            ]
          },
          "metadata": {
            "tags": [],
            "needs_background": "light"
          }
        }
      ]
    },
    {
      "cell_type": "code",
      "metadata": {
        "id": "Cw4S7X1Ygl70"
      },
      "source": [
        "train['transaction_real_price']=np.log1p(train['transaction_real_price'])"
      ],
      "execution_count": 217,
      "outputs": []
    },
    {
      "cell_type": "markdown",
      "metadata": {
        "id": "0xniiCEOg99t"
      },
      "source": [
        "## 모델 생성하기"
      ]
    },
    {
      "cell_type": "code",
      "metadata": {
        "colab": {
          "base_uri": "https://localhost:8080/"
        },
        "id": "w3QlsOe-g8R5",
        "outputId": "7a094177-d979-470b-be3e-5b71d2da2b18"
      },
      "source": [
        "from sklearn.model_selection import train_test_split\n",
        "train, val = train_test_split(train, test_size=0.2, random_state=2)\n",
        "\n",
        "train.shape, val.shape"
      ],
      "execution_count": 218,
      "outputs": [
        {
          "output_type": "execute_result",
          "data": {
            "text/plain": [
              "((70603, 11), (17651, 11))"
            ]
          },
          "metadata": {
            "tags": []
          },
          "execution_count": 218
        }
      ]
    },
    {
      "cell_type": "code",
      "metadata": {
        "id": "mj1_PQShgcRg"
      },
      "source": [
        "target = 'transaction_real_price'\n",
        "\n",
        "features = train.columns.drop([target,'apt','apartment_id','year_of_completion']) #필요없는 컬럼 지우기\n",
        "X_train = train[features]\n",
        "y_train = train[target]\n",
        "X_val= val[features]\n",
        "y_val = val[target]\n",
        "\n",
        "X_test = test[features]"
      ],
      "execution_count": 219,
      "outputs": []
    },
    {
      "cell_type": "code",
      "metadata": {
        "colab": {
          "base_uri": "https://localhost:8080/"
        },
        "id": "4pfnqbwYhrbb",
        "outputId": "1a5fbdc6-442a-4831-b83c-3e9dd878a0f8"
      },
      "source": [
        "from category_encoders import TargetEncoder\n",
        "from sklearn.ensemble import RandomForestRegressor\n",
        "from sklearn.impute import SimpleImputer \n",
        "from sklearn.pipeline import make_pipeline\n",
        "\n",
        "pipe_ord = make_pipeline(\n",
        "    TargetEncoder(), \n",
        " \n",
        "    RandomForestRegressor(random_state=10, n_jobs=-1, oob_score=True)\n",
        ")\n",
        "\n",
        "pipe_ord.fit(X_train, y_train)\n",
        "print('검증 정확도', pipe_ord.score(X_val, y_val))"
      ],
      "execution_count": 225,
      "outputs": [
        {
          "output_type": "stream",
          "text": [
            "/usr/local/lib/python3.7/dist-packages/category_encoders/utils.py:21: FutureWarning: is_categorical is deprecated and will be removed in a future version.  Use is_categorical_dtype instead\n",
            "  elif pd.api.types.is_categorical(cols):\n"
          ],
          "name": "stderr"
        },
        {
          "output_type": "stream",
          "text": [
            "검증 정확도 0.9786503293529717\n"
          ],
          "name": "stdout"
        }
      ]
    },
    {
      "cell_type": "markdown",
      "metadata": {
        "id": "p_cGhjgwnLwf"
      },
      "source": [
        "예측한 원래의 값을 얻기 위해 np.expm1이용"
      ]
    },
    {
      "cell_type": "code",
      "metadata": {
        "colab": {
          "base_uri": "https://localhost:8080/"
        },
        "id": "ZgIjMR4LkI2Y",
        "outputId": "583ca5c2-837e-4565-87b8-e938d71c4994"
      },
      "source": [
        "np.expm1(pipe_ord.predict(X_val))"
      ],
      "execution_count": 223,
      "outputs": [
        {
          "output_type": "execute_result",
          "data": {
            "text/plain": [
              "array([ 40693.05348112,  58746.96761328,  55885.19413727, ...,\n",
              "       133711.98024975, 143891.51255261,  57483.08236264])"
            ]
          },
          "metadata": {
            "tags": []
          },
          "execution_count": 223
        }
      ]
    },
    {
      "cell_type": "code",
      "metadata": {
        "colab": {
          "base_uri": "https://localhost:8080/"
        },
        "id": "t283PmFIoSEs",
        "outputId": "9cc6921a-6e95-4a8d-fba2-0ec3385f1166"
      },
      "source": [
        "pip install statsmodels.stats.outliers_influence"
      ],
      "execution_count": 234,
      "outputs": [
        {
          "output_type": "stream",
          "text": [
            "\u001b[31mERROR: Could not find a version that satisfies the requirement statsmodels.stats.outliers_influence (from versions: none)\u001b[0m\n",
            "\u001b[31mERROR: No matching distribution found for statsmodels.stats.outliers_influence\u001b[0m\n"
          ],
          "name": "stdout"
        }
      ]
    },
    {
      "cell_type": "code",
      "metadata": {
        "colab": {
          "base_uri": "https://localhost:8080/",
          "height": 806
        },
        "id": "ZTNDIoe5plqw",
        "outputId": "537c213a-6c80-4188-fa37-23d0ce9aafcd"
      },
      "source": [
        "train"
      ],
      "execution_count": 239,
      "outputs": [
        {
          "output_type": "execute_result",
          "data": {
            "text/html": [
              "<div>\n",
              "<style scoped>\n",
              "    .dataframe tbody tr th:only-of-type {\n",
              "        vertical-align: middle;\n",
              "    }\n",
              "\n",
              "    .dataframe tbody tr th {\n",
              "        vertical-align: top;\n",
              "    }\n",
              "\n",
              "    .dataframe thead th {\n",
              "        text-align: right;\n",
              "    }\n",
              "</style>\n",
              "<table border=\"1\" class=\"dataframe\">\n",
              "  <thead>\n",
              "    <tr style=\"text-align: right;\">\n",
              "      <th></th>\n",
              "      <th>apartment_id</th>\n",
              "      <th>dong</th>\n",
              "      <th>apt</th>\n",
              "      <th>exclusive_use_area</th>\n",
              "      <th>year_of_completion</th>\n",
              "      <th>floor</th>\n",
              "      <th>transaction_real_price</th>\n",
              "      <th>transaction_month</th>\n",
              "      <th>years_since_completion</th>\n",
              "      <th>num_park</th>\n",
              "      <th>park_mean_area</th>\n",
              "    </tr>\n",
              "  </thead>\n",
              "  <tbody>\n",
              "    <tr>\n",
              "      <th>44921</th>\n",
              "      <td>1671</td>\n",
              "      <td>목동</td>\n",
              "      <td>금호1</td>\n",
              "      <td>114.78</td>\n",
              "      <td>1997</td>\n",
              "      <td>21</td>\n",
              "      <td>11.396403</td>\n",
              "      <td>4</td>\n",
              "      <td>21</td>\n",
              "      <td>0.0</td>\n",
              "      <td>0.000000e+00</td>\n",
              "    </tr>\n",
              "    <tr>\n",
              "      <th>43552</th>\n",
              "      <td>4340</td>\n",
              "      <td>신정동</td>\n",
              "      <td>명지해드는터</td>\n",
              "      <td>84.98</td>\n",
              "      <td>2003</td>\n",
              "      <td>1</td>\n",
              "      <td>11.034906</td>\n",
              "      <td>11</td>\n",
              "      <td>15</td>\n",
              "      <td>1.0</td>\n",
              "      <td>3.353000e+03</td>\n",
              "    </tr>\n",
              "    <tr>\n",
              "      <th>63872</th>\n",
              "      <td>5383</td>\n",
              "      <td>사당동</td>\n",
              "      <td>사당휴먼시아</td>\n",
              "      <td>59.96</td>\n",
              "      <td>2009</td>\n",
              "      <td>8</td>\n",
              "      <td>10.859018</td>\n",
              "      <td>10</td>\n",
              "      <td>9</td>\n",
              "      <td>15.0</td>\n",
              "      <td>7.694424e+04</td>\n",
              "    </tr>\n",
              "    <tr>\n",
              "      <th>87307</th>\n",
              "      <td>6467</td>\n",
              "      <td>암사동</td>\n",
              "      <td>선사현대아파트</td>\n",
              "      <td>58.68</td>\n",
              "      <td>2000</td>\n",
              "      <td>10</td>\n",
              "      <td>10.829748</td>\n",
              "      <td>10</td>\n",
              "      <td>18</td>\n",
              "      <td>1.0</td>\n",
              "      <td>1.022000e+03</td>\n",
              "    </tr>\n",
              "    <tr>\n",
              "      <th>1305</th>\n",
              "      <td>1878</td>\n",
              "      <td>신당동</td>\n",
              "      <td>남산타운</td>\n",
              "      <td>59.94</td>\n",
              "      <td>2002</td>\n",
              "      <td>9</td>\n",
              "      <td>10.915107</td>\n",
              "      <td>11</td>\n",
              "      <td>16</td>\n",
              "      <td>3.0</td>\n",
              "      <td>3.777833e+04</td>\n",
              "    </tr>\n",
              "    <tr>\n",
              "      <th>...</th>\n",
              "      <td>...</td>\n",
              "      <td>...</td>\n",
              "      <td>...</td>\n",
              "      <td>...</td>\n",
              "      <td>...</td>\n",
              "      <td>...</td>\n",
              "      <td>...</td>\n",
              "      <td>...</td>\n",
              "      <td>...</td>\n",
              "      <td>...</td>\n",
              "      <td>...</td>\n",
              "    </tr>\n",
              "    <tr>\n",
              "      <th>33895</th>\n",
              "      <td>809</td>\n",
              "      <td>중계동</td>\n",
              "      <td>건영3</td>\n",
              "      <td>84.90</td>\n",
              "      <td>1995</td>\n",
              "      <td>9</td>\n",
              "      <td>10.993748</td>\n",
              "      <td>7</td>\n",
              "      <td>23</td>\n",
              "      <td>1.0</td>\n",
              "      <td>5.334267e+06</td>\n",
              "    </tr>\n",
              "    <tr>\n",
              "      <th>84895</th>\n",
              "      <td>5763</td>\n",
              "      <td>길동</td>\n",
              "      <td>삼익파크맨션</td>\n",
              "      <td>131.83</td>\n",
              "      <td>1982</td>\n",
              "      <td>1</td>\n",
              "      <td>10.891187</td>\n",
              "      <td>3</td>\n",
              "      <td>36</td>\n",
              "      <td>4.0</td>\n",
              "      <td>9.949000e+02</td>\n",
              "    </tr>\n",
              "    <tr>\n",
              "      <th>31047</th>\n",
              "      <td>5950</td>\n",
              "      <td>상계동</td>\n",
              "      <td>상계주공14(고층)</td>\n",
              "      <td>41.30</td>\n",
              "      <td>1989</td>\n",
              "      <td>11</td>\n",
              "      <td>10.118639</td>\n",
              "      <td>7</td>\n",
              "      <td>29</td>\n",
              "      <td>1.0</td>\n",
              "      <td>6.692795e+06</td>\n",
              "    </tr>\n",
              "    <tr>\n",
              "      <th>44596</th>\n",
              "      <td>6030</td>\n",
              "      <td>상암동</td>\n",
              "      <td>상암월드컵파크5단지</td>\n",
              "      <td>84.73</td>\n",
              "      <td>2005</td>\n",
              "      <td>3</td>\n",
              "      <td>11.156265</td>\n",
              "      <td>9</td>\n",
              "      <td>13</td>\n",
              "      <td>0.0</td>\n",
              "      <td>0.000000e+00</td>\n",
              "    </tr>\n",
              "    <tr>\n",
              "      <th>72332</th>\n",
              "      <td>731</td>\n",
              "      <td>개포동</td>\n",
              "      <td>개포주공 4단지</td>\n",
              "      <td>50.67</td>\n",
              "      <td>1982</td>\n",
              "      <td>3</td>\n",
              "      <td>11.635152</td>\n",
              "      <td>5</td>\n",
              "      <td>36</td>\n",
              "      <td>16.0</td>\n",
              "      <td>2.638974e+04</td>\n",
              "    </tr>\n",
              "  </tbody>\n",
              "</table>\n",
              "<p>70603 rows × 11 columns</p>\n",
              "</div>"
            ],
            "text/plain": [
              "       apartment_id dong  ... num_park  park_mean_area\n",
              "44921          1671   목동  ...      0.0    0.000000e+00\n",
              "43552          4340  신정동  ...      1.0    3.353000e+03\n",
              "63872          5383  사당동  ...     15.0    7.694424e+04\n",
              "87307          6467  암사동  ...      1.0    1.022000e+03\n",
              "1305           1878  신당동  ...      3.0    3.777833e+04\n",
              "...             ...  ...  ...      ...             ...\n",
              "33895           809  중계동  ...      1.0    5.334267e+06\n",
              "84895          5763   길동  ...      4.0    9.949000e+02\n",
              "31047          5950  상계동  ...      1.0    6.692795e+06\n",
              "44596          6030  상암동  ...      0.0    0.000000e+00\n",
              "72332           731  개포동  ...     16.0    2.638974e+04\n",
              "\n",
              "[70603 rows x 11 columns]"
            ]
          },
          "metadata": {
            "tags": []
          },
          "execution_count": 239
        }
      ]
    },
    {
      "cell_type": "code",
      "metadata": {
        "id": "K_TnsjHCqnYR"
      },
      "source": [
        "X_train=X_train.drop(['dong'],axis=1)"
      ],
      "execution_count": 250,
      "outputs": []
    },
    {
      "cell_type": "code",
      "metadata": {
        "colab": {
          "base_uri": "https://localhost:8080/",
          "height": 261
        },
        "id": "TcZ86BuBqyet",
        "outputId": "7cc971b1-17ef-4b94-970b-6f2f42c16685"
      },
      "source": [
        "from statsmodels.stats.outliers_influence import variance_inflation_factor\n",
        "\n",
        "# VIF사용을 위한 라이브러리, statsmodels안에 존재한다.\n",
        "# 사실 모든 통계기법이 statsmodels 모듈에 존재하여 \n",
        "# 이 중에 필요한 통계기법을 찾아 import를 진행하면 된다.\n",
        "\n",
        "vif = pd.DataFrame()\n",
        "vif[\"VIF Factor\"] = [variance_inflation_factor(train.values, i) for i in range(train.shape[1])]\n",
        "vif[\"features\"] = train.columns\n",
        "vif"
      ],
      "execution_count": 252,
      "outputs": [
        {
          "output_type": "execute_result",
          "data": {
            "text/html": [
              "<div>\n",
              "<style scoped>\n",
              "    .dataframe tbody tr th:only-of-type {\n",
              "        vertical-align: middle;\n",
              "    }\n",
              "\n",
              "    .dataframe tbody tr th {\n",
              "        vertical-align: top;\n",
              "    }\n",
              "\n",
              "    .dataframe thead th {\n",
              "        text-align: right;\n",
              "    }\n",
              "</style>\n",
              "<table border=\"1\" class=\"dataframe\">\n",
              "  <thead>\n",
              "    <tr style=\"text-align: right;\">\n",
              "      <th></th>\n",
              "      <th>VIF Factor</th>\n",
              "      <th>features</th>\n",
              "    </tr>\n",
              "  </thead>\n",
              "  <tbody>\n",
              "    <tr>\n",
              "      <th>0</th>\n",
              "      <td>13.515180</td>\n",
              "      <td>exclusive_use_area</td>\n",
              "    </tr>\n",
              "    <tr>\n",
              "      <th>1</th>\n",
              "      <td>3.602779</td>\n",
              "      <td>floor</td>\n",
              "    </tr>\n",
              "    <tr>\n",
              "      <th>2</th>\n",
              "      <td>31.067026</td>\n",
              "      <td>transaction_real_price</td>\n",
              "    </tr>\n",
              "    <tr>\n",
              "      <th>3</th>\n",
              "      <td>6.153162</td>\n",
              "      <td>transaction_month</td>\n",
              "    </tr>\n",
              "    <tr>\n",
              "      <th>4</th>\n",
              "      <td>5.449554</td>\n",
              "      <td>years_since_completion</td>\n",
              "    </tr>\n",
              "    <tr>\n",
              "      <th>5</th>\n",
              "      <td>1.767830</td>\n",
              "      <td>num_park</td>\n",
              "    </tr>\n",
              "    <tr>\n",
              "      <th>6</th>\n",
              "      <td>1.177548</td>\n",
              "      <td>park_mean_area</td>\n",
              "    </tr>\n",
              "  </tbody>\n",
              "</table>\n",
              "</div>"
            ],
            "text/plain": [
              "   VIF Factor                features\n",
              "0   13.515180      exclusive_use_area\n",
              "1    3.602779                   floor\n",
              "2   31.067026  transaction_real_price\n",
              "3    6.153162       transaction_month\n",
              "4    5.449554  years_since_completion\n",
              "5    1.767830                num_park\n",
              "6    1.177548          park_mean_area"
            ]
          },
          "metadata": {
            "tags": []
          },
          "execution_count": 252
        }
      ]
    },
    {
      "cell_type": "code",
      "metadata": {
        "colab": {
          "base_uri": "https://localhost:8080/",
          "height": 230
        },
        "id": "zJ6rHUG-kUhm",
        "outputId": "c65a7f14-3b61-41a4-b428-e75e2d92082a"
      },
      "source": [
        "from statsmodels.stats.outliers_influence import variance_inflation_factor\n",
        "\n",
        "# VIF사용을 위한 라이브러리, statsmodels안에 존재한다.\n",
        "# 사실 모든 통계기법이 statsmodels 모듈에 존재하여 \n",
        "# 이 중에 필요한 통계기법을 찾아 import를 진행하면 된다.\n",
        "\n",
        "vif = pd.DataFrame()\n",
        "vif[\"VIF Factor\"] = [variance_inflation_factor(X_train.values, i) for i in range(X_train.shape[1])]\n",
        "vif[\"features\"] = X_train.columns\n",
        "vif"
      ],
      "execution_count": 251,
      "outputs": [
        {
          "output_type": "execute_result",
          "data": {
            "text/html": [
              "<div>\n",
              "<style scoped>\n",
              "    .dataframe tbody tr th:only-of-type {\n",
              "        vertical-align: middle;\n",
              "    }\n",
              "\n",
              "    .dataframe tbody tr th {\n",
              "        vertical-align: top;\n",
              "    }\n",
              "\n",
              "    .dataframe thead th {\n",
              "        text-align: right;\n",
              "    }\n",
              "</style>\n",
              "<table border=\"1\" class=\"dataframe\">\n",
              "  <thead>\n",
              "    <tr style=\"text-align: right;\">\n",
              "      <th></th>\n",
              "      <th>VIF Factor</th>\n",
              "      <th>features</th>\n",
              "    </tr>\n",
              "  </thead>\n",
              "  <tbody>\n",
              "    <tr>\n",
              "      <th>0</th>\n",
              "      <td>6.738648</td>\n",
              "      <td>exclusive_use_area</td>\n",
              "    </tr>\n",
              "    <tr>\n",
              "      <th>1</th>\n",
              "      <td>3.137174</td>\n",
              "      <td>floor</td>\n",
              "    </tr>\n",
              "    <tr>\n",
              "      <th>2</th>\n",
              "      <td>4.955319</td>\n",
              "      <td>transaction_month</td>\n",
              "    </tr>\n",
              "    <tr>\n",
              "      <th>3</th>\n",
              "      <td>3.958146</td>\n",
              "      <td>years_since_completion</td>\n",
              "    </tr>\n",
              "    <tr>\n",
              "      <th>4</th>\n",
              "      <td>1.666264</td>\n",
              "      <td>num_park</td>\n",
              "    </tr>\n",
              "    <tr>\n",
              "      <th>5</th>\n",
              "      <td>1.168678</td>\n",
              "      <td>park_mean_area</td>\n",
              "    </tr>\n",
              "  </tbody>\n",
              "</table>\n",
              "</div>"
            ],
            "text/plain": [
              "   VIF Factor                features\n",
              "0    6.738648      exclusive_use_area\n",
              "1    3.137174                   floor\n",
              "2    4.955319       transaction_month\n",
              "3    3.958146  years_since_completion\n",
              "4    1.666264                num_park\n",
              "5    1.168678          park_mean_area"
            ]
          },
          "metadata": {
            "tags": []
          },
          "execution_count": 251
        }
      ]
    }
  ]
}